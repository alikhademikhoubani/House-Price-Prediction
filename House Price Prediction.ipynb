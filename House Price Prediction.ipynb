{
 "cells": [
  {
   "cell_type": "code",
   "execution_count": 342,
   "id": "7ebaee43",
   "metadata": {},
   "outputs": [],
   "source": [
    "import numpy as np\n",
    "import pandas as pd\n",
    "import seaborn as sns\n",
    "import matplotlib.pyplot as plt\n",
    "import warnings\n",
    "warnings.simplefilter('ignore')\n",
    "from sklearn.impute import SimpleImputer\n",
    "from sklearn.model_selection import train_test_split\n",
    "from sklearn.preprocessing import StandardScaler\n",
    "from sklearn.preprocessing import OneHotEncoder\n",
    "from sklearn.compose import ColumnTransformer\n",
    "from sklearn.ensemble import VotingRegressor\n",
    "from sklearn.ensemble import RandomForestRegressor\n",
    "from sklearn.ensemble import ExtraTreesRegressor\n",
    "from xgboost import XGBRegressor\n",
    "from sklearn.pipeline import Pipeline\n",
    "from sklearn.metrics import r2_score,mean_squared_error,mean_absolute_error\n",
    "import pickle"
   ]
  },
  {
   "cell_type": "code",
   "execution_count": 2,
   "id": "af9d3e67",
   "metadata": {},
   "outputs": [],
   "source": [
    "df=pd.read_csv('house_prices.csv')"
   ]
  },
  {
   "cell_type": "code",
   "execution_count": 3,
   "id": "6b11bc2c",
   "metadata": {},
   "outputs": [
    {
     "data": {
      "text/html": [
       "<div>\n",
       "<style scoped>\n",
       "    .dataframe tbody tr th:only-of-type {\n",
       "        vertical-align: middle;\n",
       "    }\n",
       "\n",
       "    .dataframe tbody tr th {\n",
       "        vertical-align: top;\n",
       "    }\n",
       "\n",
       "    .dataframe thead th {\n",
       "        text-align: right;\n",
       "    }\n",
       "</style>\n",
       "<table border=\"1\" class=\"dataframe\">\n",
       "  <thead>\n",
       "    <tr style=\"text-align: right;\">\n",
       "      <th></th>\n",
       "      <th>Index</th>\n",
       "      <th>Title</th>\n",
       "      <th>Description</th>\n",
       "      <th>Amount(in rupees)</th>\n",
       "      <th>Price (in rupees)</th>\n",
       "      <th>location</th>\n",
       "      <th>Carpet Area</th>\n",
       "      <th>Status</th>\n",
       "      <th>Floor</th>\n",
       "      <th>Transaction</th>\n",
       "      <th>...</th>\n",
       "      <th>facing</th>\n",
       "      <th>overlooking</th>\n",
       "      <th>Society</th>\n",
       "      <th>Bathroom</th>\n",
       "      <th>Balcony</th>\n",
       "      <th>Car Parking</th>\n",
       "      <th>Ownership</th>\n",
       "      <th>Super Area</th>\n",
       "      <th>Dimensions</th>\n",
       "      <th>Plot Area</th>\n",
       "    </tr>\n",
       "  </thead>\n",
       "  <tbody>\n",
       "    <tr>\n",
       "      <th>0</th>\n",
       "      <td>0</td>\n",
       "      <td>1 BHK Ready to Occupy Flat for sale in Srushti...</td>\n",
       "      <td>Bhiwandi, Thane has an attractive 1 BHK Flat f...</td>\n",
       "      <td>42 Lac</td>\n",
       "      <td>6000.0</td>\n",
       "      <td>thane</td>\n",
       "      <td>500 sqft</td>\n",
       "      <td>Ready to Move</td>\n",
       "      <td>10 out of 11</td>\n",
       "      <td>Resale</td>\n",
       "      <td>...</td>\n",
       "      <td>NaN</td>\n",
       "      <td>NaN</td>\n",
       "      <td>Srushti Siddhi Mangal Murti Complex</td>\n",
       "      <td>1</td>\n",
       "      <td>2</td>\n",
       "      <td>NaN</td>\n",
       "      <td>NaN</td>\n",
       "      <td>NaN</td>\n",
       "      <td>NaN</td>\n",
       "      <td>NaN</td>\n",
       "    </tr>\n",
       "    <tr>\n",
       "      <th>1</th>\n",
       "      <td>1</td>\n",
       "      <td>2 BHK Ready to Occupy Flat for sale in Dosti V...</td>\n",
       "      <td>One can find this stunning 2 BHK flat for sale...</td>\n",
       "      <td>98 Lac</td>\n",
       "      <td>13799.0</td>\n",
       "      <td>thane</td>\n",
       "      <td>473 sqft</td>\n",
       "      <td>Ready to Move</td>\n",
       "      <td>3 out of 22</td>\n",
       "      <td>Resale</td>\n",
       "      <td>...</td>\n",
       "      <td>East</td>\n",
       "      <td>Garden/Park</td>\n",
       "      <td>Dosti Vihar</td>\n",
       "      <td>2</td>\n",
       "      <td>NaN</td>\n",
       "      <td>1 Open</td>\n",
       "      <td>Freehold</td>\n",
       "      <td>NaN</td>\n",
       "      <td>NaN</td>\n",
       "      <td>NaN</td>\n",
       "    </tr>\n",
       "    <tr>\n",
       "      <th>2</th>\n",
       "      <td>2</td>\n",
       "      <td>2 BHK Ready to Occupy Flat for sale in Sunrise...</td>\n",
       "      <td>Up for immediate sale is a 2 BHK apartment in ...</td>\n",
       "      <td>1.40 Cr</td>\n",
       "      <td>17500.0</td>\n",
       "      <td>thane</td>\n",
       "      <td>779 sqft</td>\n",
       "      <td>Ready to Move</td>\n",
       "      <td>10 out of 29</td>\n",
       "      <td>Resale</td>\n",
       "      <td>...</td>\n",
       "      <td>East</td>\n",
       "      <td>Garden/Park</td>\n",
       "      <td>Sunrise by Kalpataru</td>\n",
       "      <td>2</td>\n",
       "      <td>NaN</td>\n",
       "      <td>1 Covered</td>\n",
       "      <td>Freehold</td>\n",
       "      <td>NaN</td>\n",
       "      <td>NaN</td>\n",
       "      <td>NaN</td>\n",
       "    </tr>\n",
       "    <tr>\n",
       "      <th>3</th>\n",
       "      <td>3</td>\n",
       "      <td>1 BHK Ready to Occupy Flat for sale Kasheli</td>\n",
       "      <td>This beautiful 1 BHK Flat is available for sal...</td>\n",
       "      <td>25 Lac</td>\n",
       "      <td>NaN</td>\n",
       "      <td>thane</td>\n",
       "      <td>530 sqft</td>\n",
       "      <td>Ready to Move</td>\n",
       "      <td>1 out of 3</td>\n",
       "      <td>Resale</td>\n",
       "      <td>...</td>\n",
       "      <td>NaN</td>\n",
       "      <td>NaN</td>\n",
       "      <td>NaN</td>\n",
       "      <td>1</td>\n",
       "      <td>1</td>\n",
       "      <td>NaN</td>\n",
       "      <td>NaN</td>\n",
       "      <td>NaN</td>\n",
       "      <td>NaN</td>\n",
       "      <td>NaN</td>\n",
       "    </tr>\n",
       "    <tr>\n",
       "      <th>4</th>\n",
       "      <td>4</td>\n",
       "      <td>2 BHK Ready to Occupy Flat for sale in TenX Ha...</td>\n",
       "      <td>This lovely 2 BHK Flat in Pokhran Road, Thane ...</td>\n",
       "      <td>1.60 Cr</td>\n",
       "      <td>18824.0</td>\n",
       "      <td>thane</td>\n",
       "      <td>635 sqft</td>\n",
       "      <td>Ready to Move</td>\n",
       "      <td>20 out of 42</td>\n",
       "      <td>Resale</td>\n",
       "      <td>...</td>\n",
       "      <td>West</td>\n",
       "      <td>Garden/Park, Main Road</td>\n",
       "      <td>TenX Habitat Raymond Realty</td>\n",
       "      <td>2</td>\n",
       "      <td>NaN</td>\n",
       "      <td>1 Covered</td>\n",
       "      <td>Co-operative Society</td>\n",
       "      <td>NaN</td>\n",
       "      <td>NaN</td>\n",
       "      <td>NaN</td>\n",
       "    </tr>\n",
       "  </tbody>\n",
       "</table>\n",
       "<p>5 rows × 21 columns</p>\n",
       "</div>"
      ],
      "text/plain": [
       "   Index                                              Title  \\\n",
       "0      0  1 BHK Ready to Occupy Flat for sale in Srushti...   \n",
       "1      1  2 BHK Ready to Occupy Flat for sale in Dosti V...   \n",
       "2      2  2 BHK Ready to Occupy Flat for sale in Sunrise...   \n",
       "3      3        1 BHK Ready to Occupy Flat for sale Kasheli   \n",
       "4      4  2 BHK Ready to Occupy Flat for sale in TenX Ha...   \n",
       "\n",
       "                                         Description Amount(in rupees)  \\\n",
       "0  Bhiwandi, Thane has an attractive 1 BHK Flat f...           42 Lac    \n",
       "1  One can find this stunning 2 BHK flat for sale...           98 Lac    \n",
       "2  Up for immediate sale is a 2 BHK apartment in ...          1.40 Cr    \n",
       "3  This beautiful 1 BHK Flat is available for sal...           25 Lac    \n",
       "4  This lovely 2 BHK Flat in Pokhran Road, Thane ...          1.60 Cr    \n",
       "\n",
       "   Price (in rupees) location Carpet Area         Status         Floor  \\\n",
       "0             6000.0    thane    500 sqft  Ready to Move  10 out of 11   \n",
       "1            13799.0    thane    473 sqft  Ready to Move   3 out of 22   \n",
       "2            17500.0    thane    779 sqft  Ready to Move  10 out of 29   \n",
       "3                NaN    thane    530 sqft  Ready to Move    1 out of 3   \n",
       "4            18824.0    thane    635 sqft  Ready to Move  20 out of 42   \n",
       "\n",
       "  Transaction  ... facing             overlooking  \\\n",
       "0      Resale  ...    NaN                     NaN   \n",
       "1      Resale  ...   East             Garden/Park   \n",
       "2      Resale  ...   East             Garden/Park   \n",
       "3      Resale  ...    NaN                     NaN   \n",
       "4      Resale  ...   West  Garden/Park, Main Road   \n",
       "\n",
       "                               Society Bathroom Balcony Car Parking  \\\n",
       "0  Srushti Siddhi Mangal Murti Complex        1       2         NaN   \n",
       "1                          Dosti Vihar        2     NaN      1 Open   \n",
       "2                 Sunrise by Kalpataru        2     NaN   1 Covered   \n",
       "3                                  NaN        1       1         NaN   \n",
       "4          TenX Habitat Raymond Realty        2     NaN   1 Covered   \n",
       "\n",
       "              Ownership Super Area Dimensions  Plot Area  \n",
       "0                   NaN        NaN        NaN        NaN  \n",
       "1              Freehold        NaN        NaN        NaN  \n",
       "2              Freehold        NaN        NaN        NaN  \n",
       "3                   NaN        NaN        NaN        NaN  \n",
       "4  Co-operative Society        NaN        NaN        NaN  \n",
       "\n",
       "[5 rows x 21 columns]"
      ]
     },
     "execution_count": 3,
     "metadata": {},
     "output_type": "execute_result"
    }
   ],
   "source": [
    "df.head()"
   ]
  },
  {
   "cell_type": "code",
   "execution_count": 4,
   "id": "df74d72c",
   "metadata": {},
   "outputs": [
    {
     "data": {
      "text/plain": [
       "(187531, 21)"
      ]
     },
     "execution_count": 4,
     "metadata": {},
     "output_type": "execute_result"
    }
   ],
   "source": [
    "df.shape"
   ]
  },
  {
   "cell_type": "code",
   "execution_count": 5,
   "id": "00669bc2",
   "metadata": {},
   "outputs": [
    {
     "name": "stdout",
     "output_type": "stream",
     "text": [
      "<class 'pandas.core.frame.DataFrame'>\n",
      "RangeIndex: 187531 entries, 0 to 187530\n",
      "Data columns (total 21 columns):\n",
      " #   Column             Non-Null Count   Dtype  \n",
      "---  ------             --------------   -----  \n",
      " 0   Index              187531 non-null  int64  \n",
      " 1   Title              187531 non-null  object \n",
      " 2   Description        184508 non-null  object \n",
      " 3   Amount(in rupees)  187531 non-null  object \n",
      " 4   Price (in rupees)  169866 non-null  float64\n",
      " 5   location           187531 non-null  object \n",
      " 6   Carpet Area        106858 non-null  object \n",
      " 7   Status             186916 non-null  object \n",
      " 8   Floor              180454 non-null  object \n",
      " 9   Transaction        187448 non-null  object \n",
      " 10  Furnishing         184634 non-null  object \n",
      " 11  facing             117298 non-null  object \n",
      " 12  overlooking        106095 non-null  object \n",
      " 13  Society            77853 non-null   object \n",
      " 14  Bathroom           186703 non-null  object \n",
      " 15  Balcony            138596 non-null  object \n",
      " 16  Car Parking        84174 non-null   object \n",
      " 17  Ownership          122014 non-null  object \n",
      " 18  Super Area         79846 non-null   object \n",
      " 19  Dimensions         0 non-null       float64\n",
      " 20  Plot Area          0 non-null       float64\n",
      "dtypes: float64(3), int64(1), object(17)\n",
      "memory usage: 30.0+ MB\n"
     ]
    }
   ],
   "source": [
    "df.info()"
   ]
  },
  {
   "cell_type": "code",
   "execution_count": 6,
   "id": "6b4e74f6",
   "metadata": {},
   "outputs": [
    {
     "data": {
      "text/plain": [
       "True"
      ]
     },
     "execution_count": 6,
     "metadata": {},
     "output_type": "execute_result"
    }
   ],
   "source": [
    "df.isnull().values.any()"
   ]
  },
  {
   "cell_type": "code",
   "execution_count": 7,
   "id": "dd4b87d0",
   "metadata": {},
   "outputs": [
    {
     "data": {
      "text/plain": [
       "Index                     0\n",
       "Title                     0\n",
       "Description            3023\n",
       "Amount(in rupees)         0\n",
       "Price (in rupees)     17665\n",
       "location                  0\n",
       "Carpet Area           80673\n",
       "Status                  615\n",
       "Floor                  7077\n",
       "Transaction              83\n",
       "Furnishing             2897\n",
       "facing                70233\n",
       "overlooking           81436\n",
       "Society              109678\n",
       "Bathroom                828\n",
       "Balcony               48935\n",
       "Car Parking          103357\n",
       "Ownership             65517\n",
       "Super Area           107685\n",
       "Dimensions           187531\n",
       "Plot Area            187531\n",
       "dtype: int64"
      ]
     },
     "execution_count": 7,
     "metadata": {},
     "output_type": "execute_result"
    }
   ],
   "source": [
    "df.isnull().sum()"
   ]
  },
  {
   "cell_type": "code",
   "execution_count": 8,
   "id": "11b1f8fe",
   "metadata": {},
   "outputs": [
    {
     "data": {
      "text/html": [
       "<div>\n",
       "<style scoped>\n",
       "    .dataframe tbody tr th:only-of-type {\n",
       "        vertical-align: middle;\n",
       "    }\n",
       "\n",
       "    .dataframe tbody tr th {\n",
       "        vertical-align: top;\n",
       "    }\n",
       "\n",
       "    .dataframe thead th {\n",
       "        text-align: right;\n",
       "    }\n",
       "</style>\n",
       "<table border=\"1\" class=\"dataframe\">\n",
       "  <thead>\n",
       "    <tr style=\"text-align: right;\">\n",
       "      <th></th>\n",
       "      <th>Index</th>\n",
       "      <th>Price (in rupees)</th>\n",
       "      <th>Dimensions</th>\n",
       "      <th>Plot Area</th>\n",
       "    </tr>\n",
       "  </thead>\n",
       "  <tbody>\n",
       "    <tr>\n",
       "      <th>count</th>\n",
       "      <td>187531.000000</td>\n",
       "      <td>1.698660e+05</td>\n",
       "      <td>0.0</td>\n",
       "      <td>0.0</td>\n",
       "    </tr>\n",
       "    <tr>\n",
       "      <th>mean</th>\n",
       "      <td>93765.000000</td>\n",
       "      <td>7.583772e+03</td>\n",
       "      <td>NaN</td>\n",
       "      <td>NaN</td>\n",
       "    </tr>\n",
       "    <tr>\n",
       "      <th>std</th>\n",
       "      <td>54135.681003</td>\n",
       "      <td>2.724171e+04</td>\n",
       "      <td>NaN</td>\n",
       "      <td>NaN</td>\n",
       "    </tr>\n",
       "    <tr>\n",
       "      <th>min</th>\n",
       "      <td>0.000000</td>\n",
       "      <td>0.000000e+00</td>\n",
       "      <td>NaN</td>\n",
       "      <td>NaN</td>\n",
       "    </tr>\n",
       "    <tr>\n",
       "      <th>25%</th>\n",
       "      <td>46882.500000</td>\n",
       "      <td>4.297000e+03</td>\n",
       "      <td>NaN</td>\n",
       "      <td>NaN</td>\n",
       "    </tr>\n",
       "    <tr>\n",
       "      <th>50%</th>\n",
       "      <td>93765.000000</td>\n",
       "      <td>6.034000e+03</td>\n",
       "      <td>NaN</td>\n",
       "      <td>NaN</td>\n",
       "    </tr>\n",
       "    <tr>\n",
       "      <th>75%</th>\n",
       "      <td>140647.500000</td>\n",
       "      <td>9.450000e+03</td>\n",
       "      <td>NaN</td>\n",
       "      <td>NaN</td>\n",
       "    </tr>\n",
       "    <tr>\n",
       "      <th>max</th>\n",
       "      <td>187530.000000</td>\n",
       "      <td>6.700000e+06</td>\n",
       "      <td>NaN</td>\n",
       "      <td>NaN</td>\n",
       "    </tr>\n",
       "  </tbody>\n",
       "</table>\n",
       "</div>"
      ],
      "text/plain": [
       "               Index  Price (in rupees)  Dimensions  Plot Area\n",
       "count  187531.000000       1.698660e+05         0.0        0.0\n",
       "mean    93765.000000       7.583772e+03         NaN        NaN\n",
       "std     54135.681003       2.724171e+04         NaN        NaN\n",
       "min         0.000000       0.000000e+00         NaN        NaN\n",
       "25%     46882.500000       4.297000e+03         NaN        NaN\n",
       "50%     93765.000000       6.034000e+03         NaN        NaN\n",
       "75%    140647.500000       9.450000e+03         NaN        NaN\n",
       "max    187530.000000       6.700000e+06         NaN        NaN"
      ]
     },
     "execution_count": 8,
     "metadata": {},
     "output_type": "execute_result"
    }
   ],
   "source": [
    "df.describe()"
   ]
  },
  {
   "cell_type": "code",
   "execution_count": 9,
   "id": "c2b7ff7b",
   "metadata": {},
   "outputs": [
    {
     "data": {
      "text/plain": [
       "0         1 BHK Ready to Occupy Flat for sale in Srushti...\n",
       "1         2 BHK Ready to Occupy Flat for sale in Dosti V...\n",
       "2         2 BHK Ready to Occupy Flat for sale in Sunrise...\n",
       "3               1 BHK Ready to Occupy Flat for sale Kasheli\n",
       "4         2 BHK Ready to Occupy Flat for sale in TenX Ha...\n",
       "                                ...                        \n",
       "187526    3 BHK Ready to Occupy Flat for sale in Bollywo...\n",
       "187527    3 BHK Ready to Occupy Flat for sale in Sushma ...\n",
       "187528    3 BHK Ready to Occupy Flat for sale in Bollywo...\n",
       "187529    2 BHK Ready to Occupy Flat for sale in Friends...\n",
       "187530    3 BHK Ready to Occupy Flat for sale in Affinit...\n",
       "Name: Title, Length: 187531, dtype: object"
      ]
     },
     "execution_count": 9,
     "metadata": {},
     "output_type": "execute_result"
    }
   ],
   "source": [
    "df['Title']"
   ]
  },
  {
   "cell_type": "code",
   "execution_count": 10,
   "id": "18e2734b",
   "metadata": {},
   "outputs": [
    {
     "data": {
      "text/plain": [
       "'1 BHK Ready to Occupy Flat for sale in Srushti Siddhi Mangal Murti Complex Bhiwandi'"
      ]
     },
     "execution_count": 10,
     "metadata": {},
     "output_type": "execute_result"
    }
   ],
   "source": [
    "df['Title'][0]"
   ]
  },
  {
   "cell_type": "code",
   "execution_count": 11,
   "id": "c4b28f48",
   "metadata": {},
   "outputs": [
    {
     "data": {
      "text/plain": [
       "'2 BHK Ready to Occupy Flat for sale in Dosti Vihar Pokhran Road'"
      ]
     },
     "execution_count": 11,
     "metadata": {},
     "output_type": "execute_result"
    }
   ],
   "source": [
    "df['Title'][1]"
   ]
  },
  {
   "cell_type": "code",
   "execution_count": 12,
   "id": "092b5052",
   "metadata": {},
   "outputs": [
    {
     "data": {
      "text/plain": [
       "'2 BHK Ready to Occupy Flat for sale in Sunrise by Kalpataru Kolshet Road'"
      ]
     },
     "execution_count": 12,
     "metadata": {},
     "output_type": "execute_result"
    }
   ],
   "source": [
    "df['Title'][2]"
   ]
  },
  {
   "cell_type": "code",
   "execution_count": 13,
   "id": "b4306605",
   "metadata": {},
   "outputs": [
    {
     "data": {
      "text/plain": [
       "Index(['Index', 'Title', 'Description', 'Amount(in rupees)',\n",
       "       'Price (in rupees)', 'location', 'Carpet Area', 'Status', 'Floor',\n",
       "       'Transaction', 'Furnishing', 'facing', 'overlooking', 'Society',\n",
       "       'Bathroom', 'Balcony', 'Car Parking', 'Ownership', 'Super Area',\n",
       "       'Dimensions', 'Plot Area'],\n",
       "      dtype='object')"
      ]
     },
     "execution_count": 13,
     "metadata": {},
     "output_type": "execute_result"
    }
   ],
   "source": [
    "df.columns"
   ]
  },
  {
   "cell_type": "code",
   "execution_count": 14,
   "id": "25c5a42f",
   "metadata": {},
   "outputs": [
    {
     "data": {
      "text/plain": [
       "['1 ',\n",
       " ' Ready to Occupy Flat for sale in Srushti Siddhi Mangal Murti Complex Bhiwandi']"
      ]
     },
     "execution_count": 14,
     "metadata": {},
     "output_type": "execute_result"
    }
   ],
   "source": [
    "df['Title'][0].split('BHK')"
   ]
  },
  {
   "cell_type": "code",
   "execution_count": 15,
   "id": "d07c5233",
   "metadata": {},
   "outputs": [
    {
     "data": {
      "text/plain": [
       "'1'"
      ]
     },
     "execution_count": 15,
     "metadata": {},
     "output_type": "execute_result"
    }
   ],
   "source": [
    "df['Title'][0].split('BHK')[0].strip()"
   ]
  },
  {
   "cell_type": "code",
   "execution_count": 16,
   "id": "4256e717",
   "metadata": {},
   "outputs": [],
   "source": [
    "def BHK_extractor(text):\n",
    "    return text.split('BHK')[0].strip()"
   ]
  },
  {
   "cell_type": "code",
   "execution_count": 17,
   "id": "f987c555",
   "metadata": {},
   "outputs": [],
   "source": [
    "df['BHK']=df['Title'].apply(BHK_extractor)"
   ]
  },
  {
   "cell_type": "code",
   "execution_count": 18,
   "id": "5cb6b72c",
   "metadata": {},
   "outputs": [
    {
     "data": {
      "text/html": [
       "<div>\n",
       "<style scoped>\n",
       "    .dataframe tbody tr th:only-of-type {\n",
       "        vertical-align: middle;\n",
       "    }\n",
       "\n",
       "    .dataframe tbody tr th {\n",
       "        vertical-align: top;\n",
       "    }\n",
       "\n",
       "    .dataframe thead th {\n",
       "        text-align: right;\n",
       "    }\n",
       "</style>\n",
       "<table border=\"1\" class=\"dataframe\">\n",
       "  <thead>\n",
       "    <tr style=\"text-align: right;\">\n",
       "      <th></th>\n",
       "      <th>Index</th>\n",
       "      <th>Title</th>\n",
       "      <th>Description</th>\n",
       "      <th>Amount(in rupees)</th>\n",
       "      <th>Price (in rupees)</th>\n",
       "      <th>location</th>\n",
       "      <th>Carpet Area</th>\n",
       "      <th>Status</th>\n",
       "      <th>Floor</th>\n",
       "      <th>Transaction</th>\n",
       "      <th>...</th>\n",
       "      <th>overlooking</th>\n",
       "      <th>Society</th>\n",
       "      <th>Bathroom</th>\n",
       "      <th>Balcony</th>\n",
       "      <th>Car Parking</th>\n",
       "      <th>Ownership</th>\n",
       "      <th>Super Area</th>\n",
       "      <th>Dimensions</th>\n",
       "      <th>Plot Area</th>\n",
       "      <th>BHK</th>\n",
       "    </tr>\n",
       "  </thead>\n",
       "  <tbody>\n",
       "    <tr>\n",
       "      <th>0</th>\n",
       "      <td>0</td>\n",
       "      <td>1 BHK Ready to Occupy Flat for sale in Srushti...</td>\n",
       "      <td>Bhiwandi, Thane has an attractive 1 BHK Flat f...</td>\n",
       "      <td>42 Lac</td>\n",
       "      <td>6000.0</td>\n",
       "      <td>thane</td>\n",
       "      <td>500 sqft</td>\n",
       "      <td>Ready to Move</td>\n",
       "      <td>10 out of 11</td>\n",
       "      <td>Resale</td>\n",
       "      <td>...</td>\n",
       "      <td>NaN</td>\n",
       "      <td>Srushti Siddhi Mangal Murti Complex</td>\n",
       "      <td>1</td>\n",
       "      <td>2</td>\n",
       "      <td>NaN</td>\n",
       "      <td>NaN</td>\n",
       "      <td>NaN</td>\n",
       "      <td>NaN</td>\n",
       "      <td>NaN</td>\n",
       "      <td>1</td>\n",
       "    </tr>\n",
       "    <tr>\n",
       "      <th>1</th>\n",
       "      <td>1</td>\n",
       "      <td>2 BHK Ready to Occupy Flat for sale in Dosti V...</td>\n",
       "      <td>One can find this stunning 2 BHK flat for sale...</td>\n",
       "      <td>98 Lac</td>\n",
       "      <td>13799.0</td>\n",
       "      <td>thane</td>\n",
       "      <td>473 sqft</td>\n",
       "      <td>Ready to Move</td>\n",
       "      <td>3 out of 22</td>\n",
       "      <td>Resale</td>\n",
       "      <td>...</td>\n",
       "      <td>Garden/Park</td>\n",
       "      <td>Dosti Vihar</td>\n",
       "      <td>2</td>\n",
       "      <td>NaN</td>\n",
       "      <td>1 Open</td>\n",
       "      <td>Freehold</td>\n",
       "      <td>NaN</td>\n",
       "      <td>NaN</td>\n",
       "      <td>NaN</td>\n",
       "      <td>2</td>\n",
       "    </tr>\n",
       "    <tr>\n",
       "      <th>2</th>\n",
       "      <td>2</td>\n",
       "      <td>2 BHK Ready to Occupy Flat for sale in Sunrise...</td>\n",
       "      <td>Up for immediate sale is a 2 BHK apartment in ...</td>\n",
       "      <td>1.40 Cr</td>\n",
       "      <td>17500.0</td>\n",
       "      <td>thane</td>\n",
       "      <td>779 sqft</td>\n",
       "      <td>Ready to Move</td>\n",
       "      <td>10 out of 29</td>\n",
       "      <td>Resale</td>\n",
       "      <td>...</td>\n",
       "      <td>Garden/Park</td>\n",
       "      <td>Sunrise by Kalpataru</td>\n",
       "      <td>2</td>\n",
       "      <td>NaN</td>\n",
       "      <td>1 Covered</td>\n",
       "      <td>Freehold</td>\n",
       "      <td>NaN</td>\n",
       "      <td>NaN</td>\n",
       "      <td>NaN</td>\n",
       "      <td>2</td>\n",
       "    </tr>\n",
       "    <tr>\n",
       "      <th>3</th>\n",
       "      <td>3</td>\n",
       "      <td>1 BHK Ready to Occupy Flat for sale Kasheli</td>\n",
       "      <td>This beautiful 1 BHK Flat is available for sal...</td>\n",
       "      <td>25 Lac</td>\n",
       "      <td>NaN</td>\n",
       "      <td>thane</td>\n",
       "      <td>530 sqft</td>\n",
       "      <td>Ready to Move</td>\n",
       "      <td>1 out of 3</td>\n",
       "      <td>Resale</td>\n",
       "      <td>...</td>\n",
       "      <td>NaN</td>\n",
       "      <td>NaN</td>\n",
       "      <td>1</td>\n",
       "      <td>1</td>\n",
       "      <td>NaN</td>\n",
       "      <td>NaN</td>\n",
       "      <td>NaN</td>\n",
       "      <td>NaN</td>\n",
       "      <td>NaN</td>\n",
       "      <td>1</td>\n",
       "    </tr>\n",
       "    <tr>\n",
       "      <th>4</th>\n",
       "      <td>4</td>\n",
       "      <td>2 BHK Ready to Occupy Flat for sale in TenX Ha...</td>\n",
       "      <td>This lovely 2 BHK Flat in Pokhran Road, Thane ...</td>\n",
       "      <td>1.60 Cr</td>\n",
       "      <td>18824.0</td>\n",
       "      <td>thane</td>\n",
       "      <td>635 sqft</td>\n",
       "      <td>Ready to Move</td>\n",
       "      <td>20 out of 42</td>\n",
       "      <td>Resale</td>\n",
       "      <td>...</td>\n",
       "      <td>Garden/Park, Main Road</td>\n",
       "      <td>TenX Habitat Raymond Realty</td>\n",
       "      <td>2</td>\n",
       "      <td>NaN</td>\n",
       "      <td>1 Covered</td>\n",
       "      <td>Co-operative Society</td>\n",
       "      <td>NaN</td>\n",
       "      <td>NaN</td>\n",
       "      <td>NaN</td>\n",
       "      <td>2</td>\n",
       "    </tr>\n",
       "  </tbody>\n",
       "</table>\n",
       "<p>5 rows × 22 columns</p>\n",
       "</div>"
      ],
      "text/plain": [
       "   Index                                              Title  \\\n",
       "0      0  1 BHK Ready to Occupy Flat for sale in Srushti...   \n",
       "1      1  2 BHK Ready to Occupy Flat for sale in Dosti V...   \n",
       "2      2  2 BHK Ready to Occupy Flat for sale in Sunrise...   \n",
       "3      3        1 BHK Ready to Occupy Flat for sale Kasheli   \n",
       "4      4  2 BHK Ready to Occupy Flat for sale in TenX Ha...   \n",
       "\n",
       "                                         Description Amount(in rupees)  \\\n",
       "0  Bhiwandi, Thane has an attractive 1 BHK Flat f...           42 Lac    \n",
       "1  One can find this stunning 2 BHK flat for sale...           98 Lac    \n",
       "2  Up for immediate sale is a 2 BHK apartment in ...          1.40 Cr    \n",
       "3  This beautiful 1 BHK Flat is available for sal...           25 Lac    \n",
       "4  This lovely 2 BHK Flat in Pokhran Road, Thane ...          1.60 Cr    \n",
       "\n",
       "   Price (in rupees) location Carpet Area         Status         Floor  \\\n",
       "0             6000.0    thane    500 sqft  Ready to Move  10 out of 11   \n",
       "1            13799.0    thane    473 sqft  Ready to Move   3 out of 22   \n",
       "2            17500.0    thane    779 sqft  Ready to Move  10 out of 29   \n",
       "3                NaN    thane    530 sqft  Ready to Move    1 out of 3   \n",
       "4            18824.0    thane    635 sqft  Ready to Move  20 out of 42   \n",
       "\n",
       "  Transaction  ...             overlooking  \\\n",
       "0      Resale  ...                     NaN   \n",
       "1      Resale  ...             Garden/Park   \n",
       "2      Resale  ...             Garden/Park   \n",
       "3      Resale  ...                     NaN   \n",
       "4      Resale  ...  Garden/Park, Main Road   \n",
       "\n",
       "                               Society Bathroom Balcony Car Parking  \\\n",
       "0  Srushti Siddhi Mangal Murti Complex        1       2         NaN   \n",
       "1                          Dosti Vihar        2     NaN      1 Open   \n",
       "2                 Sunrise by Kalpataru        2     NaN   1 Covered   \n",
       "3                                  NaN        1       1         NaN   \n",
       "4          TenX Habitat Raymond Realty        2     NaN   1 Covered   \n",
       "\n",
       "              Ownership Super Area Dimensions Plot Area  BHK  \n",
       "0                   NaN        NaN        NaN       NaN    1  \n",
       "1              Freehold        NaN        NaN       NaN    2  \n",
       "2              Freehold        NaN        NaN       NaN    2  \n",
       "3                   NaN        NaN        NaN       NaN    1  \n",
       "4  Co-operative Society        NaN        NaN       NaN    2  \n",
       "\n",
       "[5 rows x 22 columns]"
      ]
     },
     "execution_count": 18,
     "metadata": {},
     "output_type": "execute_result"
    }
   ],
   "source": [
    "df.head()"
   ]
  },
  {
   "cell_type": "code",
   "execution_count": 19,
   "id": "4feae222",
   "metadata": {},
   "outputs": [
    {
     "data": {
      "text/plain": [
       "dtype('O')"
      ]
     },
     "execution_count": 19,
     "metadata": {},
     "output_type": "execute_result"
    }
   ],
   "source": [
    "df['BHK'].dtype"
   ]
  },
  {
   "cell_type": "code",
   "execution_count": 20,
   "id": "d41000f0",
   "metadata": {
    "scrolled": false
   },
   "outputs": [
    {
     "data": {
      "text/plain": [
       "array(['1', '2', '3', '4', '5', 'Studio Apartment for sale Dombivli East',\n",
       "       'Studio Apartment for sale Vartak Nagar',\n",
       "       'Studio Apartment for sale in Lok Nagari Phase III Ambernath East',\n",
       "       '6', 'Studio Apartment for sale Asangaon',\n",
       "       'Apartment for sale Kisan Nagar',\n",
       "       'Studio Apartment for sale Badlapur West',\n",
       "       'Studio Apartment for sale in Hiranandani Solitaire Hiranandani Estate',\n",
       "       'Studio Apartment for sale Thane West',\n",
       "       'Studio Apartment for sale Badlapur (East) Thane',\n",
       "       'Studio Apartment for sale Kalyan',\n",
       "       'Studio Apartment for sale Nandivali Gaon',\n",
       "       'Studio Apartment for sale Dombivli',\n",
       "       'Studio Apartment for sale Ambernath',\n",
       "       'Studio Apartment for sale Kalyan East',\n",
       "       'Studio Apartment for sale in Mhatre Apt Nandivli',\n",
       "       'Studio Apartment for sale Talav Pali',\n",
       "       'Studio Apartment for sale in Sun Flash Apartment Vashi',\n",
       "       'Studio Apartment for sale in Prakriti Sparsh New Panvel',\n",
       "       'Studio Apartment for sale Thakur Complex',\n",
       "       'Studio Apartment for sale Chembur', '8',\n",
       "       'Studio Apartment for sale Ghatkopar East', '7',\n",
       "       'Studio Apartment for sale Liberty Garden', '> 10',\n",
       "       'Studio Apartment for sale Virar',\n",
       "       'Studio Apartment for sale Kannamwar Nagar I',\n",
       "       'Apartment for sale in Shivam Parivar Sidhivinayak C H S Ghatkopar West',\n",
       "       'Studio Apartment for sale Changodar',\n",
       "       'Studio Apartment for sale Narolgam',\n",
       "       'Studio Apartment for sale Vejalpur, Jivraj park',\n",
       "       'Apartment for sale South Bopal, Bopal',\n",
       "       'Studio Apartment for sale Bodakdev',\n",
       "       'Studio Apartment for sale Sarkhej Gandhinagar Highway', '9', '10',\n",
       "       'Studio Apartment for sale Ranganatha Layout, Mahadevapura',\n",
       "       'Apartment for sale S R Layout Murgesh Pallya',\n",
       "       'Studio Apartment for sale Halanayakanahalli',\n",
       "       'Apartment for sale Muneshwara Nagar Railway Layout',\n",
       "       'Apartment for sale in Krishna Residency Horamavu',\n",
       "       'Studio Apartment for sale in Uniworld India Electronic City',\n",
       "       'Studio Apartment for sale Krishna Nagar Alapakkam, Chennai Chennai',\n",
       "       'Apartment for sale in Golden Fortune Mogappair',\n",
       "       'Studio Apartment for sale Burkit Road',\n",
       "       'Apartment for sale in Pristine Garden Guduvancheri',\n",
       "       'Studio Apartment for sale in Casagrand ECR14 Kanathur',\n",
       "       'Studio Apartment for sale Annanagar East',\n",
       "       'Studio Apartment for sale in VRX360 Thirumazhisai',\n",
       "       'Studio Apartment for sale in CRK Gardens Pozhichalur',\n",
       "       'Studio Apartment for sale Mogappair West Ambattur Industrial Estate',\n",
       "       'Studio Apartment for sale Bangkok , Thailand Chennai',\n",
       "       'Studio Apartment for sale Padapai',\n",
       "       'Studio Apartment for sale in M3M Skywalk Begumpur Khatola, Sector 74',\n",
       "       'Studio Apartment for sale in M3M Urbana One Key ResiMents Sector 67',\n",
       "       'Studio Apartment for sale in Satya Element One Sector 49',\n",
       "       'Studio Apartment for sale Sector 57',\n",
       "       'Studio Apartment for sale in Conscient One Sector 109',\n",
       "       'Studio Apartment for sale in Hewo Apartments Sector 31',\n",
       "       'Studio Apartment for sale in Central Park The Room Sector 48',\n",
       "       'Studio Apartment for sale in AIPL Rhythm Residences Sector 67',\n",
       "       'Studio Apartment for sale in M3M Sky Lofts Sector 71',\n",
       "       'Studio Apartment for sale Golf course Extension Road',\n",
       "       'Studio Apartment for sale in One Key Resiments Sector 67',\n",
       "       'Studio Apartment for sale in The Leaf Sohna Sector 34',\n",
       "       'Studio Apartment for sale Begumpur Khatola, Sector 74',\n",
       "       'Studio Apartment for sale in Bellevue Central Park 2 Central Park',\n",
       "       'Studio Apartment for sale in The Room Sohna Sector 32',\n",
       "       'Studio Apartment for sale Gurgaon',\n",
       "       'Studio Apartment for sale King Koti, Hyderguda',\n",
       "       'Studio Apartment for sale in Padmavathi Heights Bairagiguda',\n",
       "       'Studio Apartment for sale Omaxe City Indore',\n",
       "       'Studio Apartment for sale Tonk Road',\n",
       "       'Studio Apartment for sale in The Grand Anukampa Ajmer Road',\n",
       "       'Studio Apartment for sale in Harbinger Heights Mansarovar',\n",
       "       'Studio Apartment for sale in Genesis Sirsi Road',\n",
       "       'Studio Apartment for sale in Studio Panache Jagatpura',\n",
       "       'Studio Apartment for sale Syam Nagar',\n",
       "       'Studio Apartment for sale in Sunny Enclave Mansarovar',\n",
       "       'Studio Apartment for sale Upasana First Avenue Jaipur',\n",
       "       'Studio Apartment for sale Ajmer Road',\n",
       "       'Studio Apartment for sale in Genesis Panchyawala',\n",
       "       'Studio Apartment for sale Shyam Nagar',\n",
       "       'Studio Apartment for sale Sodala',\n",
       "       'Studio Apartment for sale Kestopur',\n",
       "       'Apartment for sale Ballygunge', 'Studio Apartment for sale Joka',\n",
       "       'Studio Apartment for sale Sector IV Salt Lake City',\n",
       "       'Studio Apartment for sale Chowk',\n",
       "       'Studio Apartment for sale in DLF MyPAD Studio Life Gomti Nagar',\n",
       "       'Studio Apartment for sale in Omaxe Hazratganj Gomti Nagar Extension Bypass Road',\n",
       "       'Apartment for sale Sitapur Road',\n",
       "       'Studio Apartment for sale Aashiyana Chauraha',\n",
       "       'Studio Apartment for sale in DLF My pad Vibhuti Khand',\n",
       "       'Studio Apartment for sale Uttam Nagar West',\n",
       "       'Studio Apartment for sale in DLF Capital Greens 1 and 2 Moti Nagar, Kirti Nagar',\n",
       "       'Studio Apartment for sale in Supertech Supernova Spira Residences Sector 94, Noida Express Way',\n",
       "       'Studio Apartment for sale in Spectrum Metro Sector 75',\n",
       "       'Studio Apartment for sale Gaur aero suites yamuna expressway Noida',\n",
       "       'Studio Apartment for sale in Spectrum Metro Phase 2 Sector 75',\n",
       "       'Studio Apartment for sale in Galaxy Blue Sapphire Plaza Noida Extension Block C',\n",
       "       'Studio Apartment for sale in Supertech North Eye Sector 74',\n",
       "       'Studio Apartment for sale Greater Noida West',\n",
       "       'Apartment for sale in Tara Srishti Mundhwa',\n",
       "       'Studio Apartment for sale in Sai Pritam Nagari Rahatani',\n",
       "       'Studio Apartment for sale in Rishikesh Apartment Dhayari',\n",
       "       'Studio Apartment for sale Hadapsar',\n",
       "       'Studio Apartment for sale Amanora Park Town',\n",
       "       'Studio Apartment for sale Katraj',\n",
       "       'Studio Apartment for sale Nanded',\n",
       "       'Studio Apartment for sale Manjri, Manjri Budruk',\n",
       "       'Studio Apartment for sale Lodha belmondo, Gahunje Pune',\n",
       "       'Studio Apartment for sale Vadgaon BK',\n",
       "       'Studio Apartment for sale Dhayari',\n",
       "       'Studio Apartment for sale Kothrud',\n",
       "       'Studio Apartment for sale Ambegaon',\n",
       "       'Apartment for sale in Sonai Heights Yewalewadi, Katraj',\n",
       "       'Studio Apartment for sale Shivane',\n",
       "       'Apartment for sale Dayal Bagh',\n",
       "       'Studio Apartment for sale Savedi',\n",
       "       'Studio Apartment for sale Preetam Nagar',\n",
       "       'Studio Apartment for sale Govindpur',\n",
       "       'Studio Apartment for sale Pisadevi',\n",
       "       'Studio Apartment for sale Naregaon',\n",
       "       'Studio Apartment for sale Aurangabad Cantonment',\n",
       "       'Studio Apartment for sale MIDC',\n",
       "       'Studio Apartment for sale Gangapur',\n",
       "       'Studio Apartment for sale Chintamani Chouk Badlapur',\n",
       "       'Studio Apartment for sale Chamtoli',\n",
       "       'Studio Apartment for sale Katrap',\n",
       "       'Studio Apartment for sale in Krish City Tapukara',\n",
       "       'Studio Apartment for sale in Omaxe Panorama City Alwar Bypass Road',\n",
       "       'Studio Apartment for sale Alwar Bhiwadi Road',\n",
       "       'Studio Apartment for sale in Omaxe Panorama City',\n",
       "       'Studio Apartment for sale in Avalon Homes Alwar Bypass Road',\n",
       "       'Studio Apartment for sale Tapukara',\n",
       "       'Builder Floor for sale in Krish Icon',\n",
       "       'Studio Apartment for sale Alwar Bypass Road',\n",
       "       'Studio Apartment for sale in VP Spaces Grandeur Alwar Bypass Road',\n",
       "       'Apartment for sale in Vipul Gardens Shankarpur',\n",
       "       'Studio Apartment for sale in Assotech The Cosmopolis Arya Village Dumuduma',\n",
       "       'Apartment for sale Manimajra', 'Apartment for sale Vadavalli',\n",
       "       'Studio Apartment for sale Sahastradhara Road',\n",
       "       'Studio Apartment for sale Mussoorie Road',\n",
       "       'Studio Apartment for sale in Imperial Heights Mussoorie Road',\n",
       "       'Studio Apartment for sale in The Forest Residency Mussoorie Road',\n",
       "       'Apartment for sale Sahastradhara Road',\n",
       "       'Studio Apartment for sale Malsi',\n",
       "       'Studio Apartment for sale Aman Vihar',\n",
       "       'Studio Apartment for sale Vaduthala',\n",
       "       'Builder Floor for sale in Puri VIP Floors Sector 81',\n",
       "       'Studio Apartment for sale in Adore Happy Homes Sector 86',\n",
       "       'Studio Apartment for sale in Omaxe Heights Sector 86',\n",
       "       'Studio Apartment for sale in Eternal Bliss Mapusa',\n",
       "       'Studio Apartment for sale Rivera Hermitage Goa',\n",
       "       'Studio Apartment for sale Calangute',\n",
       "       'Studio Apartment for sale Assagao',\n",
       "       'Studio Apartment for sale in Sitara Atrium Margao',\n",
       "       'Studio Apartment for sale Nagoa',\n",
       "       'Studio Apartment for sale in Resort Village Royale Calangute',\n",
       "       'Studio Apartment for sale in Naroo Holiday Homes Calangute',\n",
       "       'Studio Apartment for sale Canconna',\n",
       "       'Studio Apartment for sale palmarinha de goa Goa',\n",
       "       'Studio Apartment for sale in Ramcons Residency Majorda',\n",
       "       'Studio Apartment for sale Palolem',\n",
       "       'Studio Apartment for sale Nachinola',\n",
       "       'Apartment for sale Calangute',\n",
       "       'Studio Apartment for sale in Ruby Residency Palolem',\n",
       "       'Studio Apartment for sale Knowledge Park',\n",
       "       'Studio Apartment for sale in Gaurs Runway Suites Yamuna Expressway',\n",
       "       'Studio Apartment for sale in Thee Halt Express Knowledge Park 3',\n",
       "       'Studio Apartment for sale in Godrej The Suites Sector 27',\n",
       "       'Studio Apartment for sale in Supertech Up Country Yamuna Expressway',\n",
       "       'Studio Apartment for sale in Imperia H2O Noida Extention',\n",
       "       'Studio Apartment for sale in Imperia H2O Knowledge Park 5',\n",
       "       'Studio Apartment for sale in Thee Halt Express IT Park, Knowledge Park 3',\n",
       "       'Studio Apartment for sale Knowledge Park 3',\n",
       "       'Studio Apartment for sale in Omaxe India Trade Center Pari Chowk',\n",
       "       'Studio Apartment for sale in Jaypee Greens Moon Court Jaypee Greens',\n",
       "       'Studio Apartment for sale in Supertech Czar Villas Omicron',\n",
       "       'Studio Apartment for sale in Imperia Residency Knowledge Park 5',\n",
       "       'Studio Apartment for sale Knowledge Park 5',\n",
       "       'Studio Apartment for sale in Gaur City Center Greater Noida West',\n",
       "       'Studio Apartment for sale in Fusion UFairia Greater Noida West',\n",
       "       'Studio Apartment for sale Supertech czar, omicron 1 greater Noida Greater Noida',\n",
       "       'Studio Apartment for sale Site C Greater Noida',\n",
       "       'Studio Apartment for sale in Paramount Pine and Oak Studios Zeta 1',\n",
       "       'Studio Apartment for sale Eta 2, Eta',\n",
       "       'Studio Apartment for sale in Paramount Golfmart Zeta 1',\n",
       "       'Studio Apartment for sale in Kaveri City Centre Delta 1',\n",
       "       'Studio Apartment for sale in Paramount Golfforeste Zeta 1',\n",
       "       'Studio Apartment for sale in Paramount Golf Foreste Pine Tower Sector-Zeta',\n",
       "       'Studio Apartment for sale in SDS NRI residency Pari Chowk',\n",
       "       'Studio Apartment for sale supertech czar villas, Omicron, Greater Noida Greater Noida',\n",
       "       'Studio Apartment for sale in Eldeco Mystic Greens Omicron',\n",
       "       'Studio Apartment for sale in Supertech Czar Suites Omicron 1',\n",
       "       'Studio Apartment for sale Jaypee Greens',\n",
       "       'Studio Apartment for sale in Supertech Socrates Omicron 1',\n",
       "       'Studio Apartment for sale in Stellar MI Citihomes Omicron 3',\n",
       "       'Studio Apartment for sale in Habitech Club House Knowledge Park 3',\n",
       "       'Studio Apartment for sale Sector-4',\n",
       "       'Studio Apartment for sale Pari Chowk',\n",
       "       'Studio Apartment for sale Omicron 1',\n",
       "       'Studio Apartment for sale Zeta 2',\n",
       "       'Studio Apartment for sale Sector 27',\n",
       "       'Studio Apartment for sale in Jaypee Greens Moon Court Pari Chowk',\n",
       "       'Studio Apartment for sale Yamuna Expressway',\n",
       "       'Studio Apartment for sale Bishnupur, Guwahati Guwahati',\n",
       "       'Studio Apartment for sale Patanjali',\n",
       "       'Studio Apartment for sale in Ansals Anand Dham Shantikunj',\n",
       "       'Studio Apartment for sale in Haridwar Greens Rajaji National Park',\n",
       "       'Studio Apartment for sale Bazarpeth',\n",
       "       'Studio Apartment for sale Manisha Nagar',\n",
       "       'Studio Apartment for sale Kalyan Murbad Road',\n",
       "       'Studio Apartment for sale Chikan Ghar',\n",
       "       'Studio Apartment for sale Khadakpada',\n",
       "       'Studio Apartment for sale Lokgram',\n",
       "       'Studio Apartment for sale Gauripada',\n",
       "       'Apartment for sale in KDA Sulabh Avas Panki Gangaganj',\n",
       "       'Studio Apartment for sale Azad Nagar',\n",
       "       'Studio Apartment for sale Kangarappady',\n",
       "       'Studio Apartment for sale Fort Cochin',\n",
       "       'Studio Apartment for sale Kalady Kochi',\n",
       "       'Studio Apartment for sale Virattipathu',\n",
       "       'Studio Apartment for sale Kharar',\n",
       "       'Studio Apartment for sale in Mohali Walk Sector 62',\n",
       "       'Studio Apartment for sale Sector 68',\n",
       "       'Apartment for sale in Palm Village Sector 126',\n",
       "       'Studio Apartment for sale Pandav Nagari',\n",
       "       'Studio Apartment for sale Makhamalabed Gaothan',\n",
       "       'Studio Apartment for sale Dhruv Nagar',\n",
       "       'Studio Apartment for sale Devkhop',\n",
       "       'Studio Apartment for sale Boisar',\n",
       "       'Studio Apartment for sale Tembhode',\n",
       "       'Studio Apartment for sale Vasai',\n",
       "       'Studio Apartment for sale in Divyaraj Value Homes Boisar West',\n",
       "       'Studio Apartment for sale M B Kunj Palghar',\n",
       "       'Studio Apartment for sale in Mahindra Happinest Nandore',\n",
       "       'Studio Apartment for sale Divya Jyoti, Boisar Palghar Road, Palghar Palghar',\n",
       "       'Studio Apartment for sale in Mahindra Happinest Palghar 2 Palghar',\n",
       "       'Studio Apartment for sale Nandore',\n",
       "       'Studio Apartment for sale Naya Raipur',\n",
       "       'Apartment for sale South Office Para',\n",
       "       'Studio Apartment for sale Khed',\n",
       "       'Studio Apartment for sale Dagapur',\n",
       "       'Studio Apartment for sale Sonipat Road',\n",
       "       'Studio Apartment for sale TDI City Kundli',\n",
       "       'Studio Apartment for sale Ram Nagar',\n",
       "       'Studio Apartment for sale Varachha Main Road',\n",
       "       'Studio Apartment for sale in Rajhans Belliza Dumas Road',\n",
       "       'Studio Apartment for sale Dindoli',\n",
       "       'Studio Apartment for sale Guruvayur',\n",
       "       'Studio Apartment for sale Irungalur',\n",
       "       'Apartment for sale Poojapura',\n",
       "       'Studio Apartment for sale Poojapura',\n",
       "       'Studio Apartment for sale Subhanpura',\n",
       "       'Studio Apartment for sale in Bansari Avenue Waghodia Road',\n",
       "       'Studio Apartment for sale in Gajanan Heights Manjalpur',\n",
       "       'Studio Apartment for sale Awleshpur chitaipur chunar road varanasi 221005 Varanasi',\n",
       "       'Studio Apartment for sale bangalore Varanasi',\n",
       "       'Studio Apartment for sale Jawahar Autonagar',\n",
       "       'Apartment for sale Madhavadhara',\n",
       "       'Apartment for sale in Bhoomatha Radhika Residency Madhurawada',\n",
       "       'Apartment for sale in Chalamajis Landmark Madhurawada',\n",
       "       'Studio Apartment for sale Yendada',\n",
       "       'Studio Apartment for sale in Hare Krishna Orchid Sunrakh Road',\n",
       "       'Studio Apartment for sale in Hare Krishna Dham Sunrakh Road',\n",
       "       'Studio Apartment for sale Chhatikara Road',\n",
       "       'Studio Apartment for sale in Krishna Valley NH-2',\n",
       "       'Studio Apartment for sale in Omaxe Eternity Chhatikara Road',\n",
       "       'Studio Apartment for sale in Sanskar City Vrindavan',\n",
       "       'Studio Apartment for sale in SBP Gateway Of Dreams Patiala Road',\n",
       "       'Studio Apartment for sale Singhpura',\n",
       "       'Studio Apartment for sale in Royale High Street Ambala Highway',\n",
       "       'Studio Apartment for sale Gazipur',\n",
       "       'Studio Apartment for sale Dhakoli',\n",
       "       'Studio Apartment for sale VIP Road'], dtype=object)"
      ]
     },
     "execution_count": 20,
     "metadata": {},
     "output_type": "execute_result"
    }
   ],
   "source": [
    "df['BHK'].unique()"
   ]
  },
  {
   "cell_type": "code",
   "execution_count": 21,
   "id": "d008239e",
   "metadata": {},
   "outputs": [],
   "source": [
    "def BHK_extractor2(text):\n",
    "    if 'Studio Apartment' in text:\n",
    "        return '1'\n",
    "    else:\n",
    "        return text"
   ]
  },
  {
   "cell_type": "code",
   "execution_count": 22,
   "id": "beff1fd6",
   "metadata": {},
   "outputs": [],
   "source": [
    "df['BHK']=df['BHK'].apply(BHK_extractor2)"
   ]
  },
  {
   "cell_type": "code",
   "execution_count": 23,
   "id": "6b5466ad",
   "metadata": {},
   "outputs": [
    {
     "data": {
      "text/plain": [
       "3                                                                         80848\n",
       "2                                                                         75508\n",
       "4                                                                         16600\n",
       "1                                                                         13174\n",
       "5                                                                          1183\n",
       "6                                                                            98\n",
       "> 10                                                                         32\n",
       "7                                                                            22\n",
       "8                                                                            17\n",
       "10                                                                           11\n",
       "9                                                                             7\n",
       "Apartment for sale S R Layout Murgesh Pallya                                  3\n",
       "Apartment for sale in Shivam Parivar Sidhivinayak C H S Ghatkopar West        2\n",
       "Apartment for sale Kisan Nagar                                                2\n",
       "Apartment for sale in Bhoomatha Radhika Residency Madhurawada                 1\n",
       "Apartment for sale Manimajra                                                  1\n",
       "Apartment for sale Madhavadhara                                               1\n",
       "Apartment for sale Poojapura                                                  1\n",
       "Apartment for sale South Office Para                                          1\n",
       "Apartment for sale in Palm Village Sector 126                                 1\n",
       "Apartment for sale in KDA Sulabh Avas Panki Gangaganj                         1\n",
       "Apartment for sale Calangute                                                  1\n",
       "Builder Floor for sale in Puri VIP Floors Sector 81                           1\n",
       "Apartment for sale Sahastradhara Road                                         1\n",
       "Apartment for sale Vadavalli                                                  1\n",
       "Apartment for sale Ballygunge                                                 1\n",
       "Apartment for sale in Vipul Gardens Shankarpur                                1\n",
       "Builder Floor for sale in Krish Icon                                          1\n",
       "Apartment for sale Dayal Bagh                                                 1\n",
       "Apartment for sale in Sonai Heights Yewalewadi, Katraj                        1\n",
       "Apartment for sale in Tara Srishti Mundhwa                                    1\n",
       "Apartment for sale Sitapur Road                                               1\n",
       "Apartment for sale in Pristine Garden Guduvancheri                            1\n",
       "Apartment for sale in Golden Fortune Mogappair                                1\n",
       "Apartment for sale in Krishna Residency Horamavu                              1\n",
       "Apartment for sale Muneshwara Nagar Railway Layout                            1\n",
       "Apartment for sale South Bopal, Bopal                                         1\n",
       "Apartment for sale in Chalamajis Landmark Madhurawada                         1\n",
       "Name: BHK, dtype: int64"
      ]
     },
     "execution_count": 23,
     "metadata": {},
     "output_type": "execute_result"
    }
   ],
   "source": [
    "df['BHK'].value_counts()"
   ]
  },
  {
   "cell_type": "code",
   "execution_count": 24,
   "id": "1e582cb0",
   "metadata": {},
   "outputs": [],
   "source": [
    "def BHK_extractor3(text):\n",
    "    if 'Apartment' in text:\n",
    "        return 'Apartment'\n",
    "    elif 'Builder' in text:\n",
    "        return 'Builder'\n",
    "    else:\n",
    "        return text"
   ]
  },
  {
   "cell_type": "code",
   "execution_count": 25,
   "id": "84ed7b1c",
   "metadata": {},
   "outputs": [],
   "source": [
    "df['BHK']=df['BHK'].apply(BHK_extractor3)"
   ]
  },
  {
   "cell_type": "code",
   "execution_count": 26,
   "id": "10088754",
   "metadata": {},
   "outputs": [
    {
     "data": {
      "text/plain": [
       "3            80848\n",
       "2            75508\n",
       "4            16600\n",
       "1            13174\n",
       "5             1183\n",
       "6               98\n",
       "> 10            32\n",
       "Apartment       29\n",
       "7               22\n",
       "8               17\n",
       "10              11\n",
       "9                7\n",
       "Builder          2\n",
       "Name: BHK, dtype: int64"
      ]
     },
     "execution_count": 26,
     "metadata": {},
     "output_type": "execute_result"
    }
   ],
   "source": [
    "df['BHK'].value_counts()"
   ]
  },
  {
   "cell_type": "code",
   "execution_count": 27,
   "id": "dd622363",
   "metadata": {},
   "outputs": [],
   "source": [
    "drop_items=['> 10','Apartment','7','8','9','10','6','Builder']\n",
    "for i in drop_items:\n",
    "    df=df[df['BHK']!=i]"
   ]
  },
  {
   "cell_type": "code",
   "execution_count": 28,
   "id": "51760738",
   "metadata": {},
   "outputs": [
    {
     "data": {
      "text/plain": [
       "3    80848\n",
       "2    75508\n",
       "4    16600\n",
       "1    13174\n",
       "5     1183\n",
       "Name: BHK, dtype: int64"
      ]
     },
     "execution_count": 28,
     "metadata": {},
     "output_type": "execute_result"
    }
   ],
   "source": [
    "df['BHK'].value_counts()"
   ]
  },
  {
   "cell_type": "code",
   "execution_count": 29,
   "id": "48700e35",
   "metadata": {},
   "outputs": [
    {
     "data": {
      "text/plain": [
       "(187313, 22)"
      ]
     },
     "execution_count": 29,
     "metadata": {},
     "output_type": "execute_result"
    }
   ],
   "source": [
    "df.shape"
   ]
  },
  {
   "cell_type": "code",
   "execution_count": 30,
   "id": "41a6010c",
   "metadata": {},
   "outputs": [
    {
     "data": {
      "text/plain": [
       "dtype('O')"
      ]
     },
     "execution_count": 30,
     "metadata": {},
     "output_type": "execute_result"
    }
   ],
   "source": [
    "df['BHK'].dtype"
   ]
  },
  {
   "cell_type": "code",
   "execution_count": 31,
   "id": "8bab3140",
   "metadata": {},
   "outputs": [],
   "source": [
    "df['BHK']=df['BHK'].astype('int')"
   ]
  },
  {
   "cell_type": "code",
   "execution_count": 32,
   "id": "933559a2",
   "metadata": {},
   "outputs": [
    {
     "data": {
      "text/plain": [
       "dtype('int32')"
      ]
     },
     "execution_count": 32,
     "metadata": {},
     "output_type": "execute_result"
    }
   ],
   "source": [
    "df['BHK'].dtype"
   ]
  },
  {
   "cell_type": "code",
   "execution_count": 33,
   "id": "da770de0",
   "metadata": {},
   "outputs": [
    {
     "data": {
      "image/png": "[encoded data removed]",
      "text/plain": [
       "<Figure size 648x504 with 1 Axes>"
      ]
     },
     "metadata": {
      "needs_background": "light"
     },
     "output_type": "display_data"
    }
   ],
   "source": [
    "plt.figure(figsize=(9,7))\n",
    "df['BHK'].value_counts().plot(kind='bar')\n",
    "plt.title('BHK Counts')\n",
    "plt.xlabel('Number of BHK')\n",
    "plt.ylabel('Number of Houses')\n",
    "plt.show()"
   ]
  },
  {
   "cell_type": "code",
   "execution_count": 34,
   "id": "856ecf21",
   "metadata": {},
   "outputs": [
    {
     "data": {
      "text/html": [
       "<div>\n",
       "<style scoped>\n",
       "    .dataframe tbody tr th:only-of-type {\n",
       "        vertical-align: middle;\n",
       "    }\n",
       "\n",
       "    .dataframe tbody tr th {\n",
       "        vertical-align: top;\n",
       "    }\n",
       "\n",
       "    .dataframe thead th {\n",
       "        text-align: right;\n",
       "    }\n",
       "</style>\n",
       "<table border=\"1\" class=\"dataframe\">\n",
       "  <thead>\n",
       "    <tr style=\"text-align: right;\">\n",
       "      <th></th>\n",
       "      <th>Index</th>\n",
       "      <th>Title</th>\n",
       "      <th>Description</th>\n",
       "      <th>Amount(in rupees)</th>\n",
       "      <th>Price (in rupees)</th>\n",
       "      <th>location</th>\n",
       "      <th>Carpet Area</th>\n",
       "      <th>Status</th>\n",
       "      <th>Floor</th>\n",
       "      <th>Transaction</th>\n",
       "      <th>...</th>\n",
       "      <th>overlooking</th>\n",
       "      <th>Society</th>\n",
       "      <th>Bathroom</th>\n",
       "      <th>Balcony</th>\n",
       "      <th>Car Parking</th>\n",
       "      <th>Ownership</th>\n",
       "      <th>Super Area</th>\n",
       "      <th>Dimensions</th>\n",
       "      <th>Plot Area</th>\n",
       "      <th>BHK</th>\n",
       "    </tr>\n",
       "  </thead>\n",
       "  <tbody>\n",
       "    <tr>\n",
       "      <th>143364</th>\n",
       "      <td>143364</td>\n",
       "      <td>2 BHK Ready to Occupy Flat for sale in Mahagun...</td>\n",
       "      <td>Carefully laid out in the prime location of Se...</td>\n",
       "      <td>1.10 Cr</td>\n",
       "      <td>8800.0</td>\n",
       "      <td>noida</td>\n",
       "      <td>NaN</td>\n",
       "      <td>Ready to Move</td>\n",
       "      <td>10 out of 23</td>\n",
       "      <td>Resale</td>\n",
       "      <td>...</td>\n",
       "      <td>Main Road</td>\n",
       "      <td>NaN</td>\n",
       "      <td>2</td>\n",
       "      <td>3</td>\n",
       "      <td>2 Covered</td>\n",
       "      <td>Leasehold</td>\n",
       "      <td>1250 sqft</td>\n",
       "      <td>NaN</td>\n",
       "      <td>NaN</td>\n",
       "      <td>2</td>\n",
       "    </tr>\n",
       "    <tr>\n",
       "      <th>113691</th>\n",
       "      <td>113691</td>\n",
       "      <td>2 BHK Ready to Occupy Flat for sale Sec 13 Awa...</td>\n",
       "      <td>This magnificent 2 BHK Flat is available for s...</td>\n",
       "      <td>42 Lac</td>\n",
       "      <td>4941.0</td>\n",
       "      <td>lucknow</td>\n",
       "      <td>700 sqft</td>\n",
       "      <td>Ready to Move</td>\n",
       "      <td>1 out of 3</td>\n",
       "      <td>Resale</td>\n",
       "      <td>...</td>\n",
       "      <td>NaN</td>\n",
       "      <td>NaN</td>\n",
       "      <td>2</td>\n",
       "      <td>1</td>\n",
       "      <td>NaN</td>\n",
       "      <td>NaN</td>\n",
       "      <td>NaN</td>\n",
       "      <td>NaN</td>\n",
       "      <td>NaN</td>\n",
       "      <td>2</td>\n",
       "    </tr>\n",
       "    <tr>\n",
       "      <th>10615</th>\n",
       "      <td>10615</td>\n",
       "      <td>3 BHK Ready to Occupy Flat for sale in Swastik...</td>\n",
       "      <td>Up for immediate sale is a 3 BHK apartment in ...</td>\n",
       "      <td>65 Lac</td>\n",
       "      <td>4151.0</td>\n",
       "      <td>ahmedabad</td>\n",
       "      <td>103 sqyrd</td>\n",
       "      <td>Ready to Move</td>\n",
       "      <td>12 out of 14</td>\n",
       "      <td>Resale</td>\n",
       "      <td>...</td>\n",
       "      <td>Garden/Park, Main Road</td>\n",
       "      <td>Swastik Riviera</td>\n",
       "      <td>3</td>\n",
       "      <td>1</td>\n",
       "      <td>1 Covered</td>\n",
       "      <td>Freehold</td>\n",
       "      <td>NaN</td>\n",
       "      <td>NaN</td>\n",
       "      <td>NaN</td>\n",
       "      <td>3</td>\n",
       "    </tr>\n",
       "    <tr>\n",
       "      <th>62087</th>\n",
       "      <td>62087</td>\n",
       "      <td>4 BHK Ready to Occupy Flat for sale in Pioneer...</td>\n",
       "      <td>This lovely 4 BHK Flat in Sector 62, Gurgaon i...</td>\n",
       "      <td>8.96 Cr</td>\n",
       "      <td>18000.0</td>\n",
       "      <td>gurgaon</td>\n",
       "      <td>4583 sqft</td>\n",
       "      <td>Ready to Move</td>\n",
       "      <td>9 out of 30</td>\n",
       "      <td>New Property</td>\n",
       "      <td>...</td>\n",
       "      <td>Garden/Park</td>\n",
       "      <td>Pioneer Araya</td>\n",
       "      <td>5</td>\n",
       "      <td>4</td>\n",
       "      <td>2 Covered</td>\n",
       "      <td>Freehold</td>\n",
       "      <td>NaN</td>\n",
       "      <td>NaN</td>\n",
       "      <td>NaN</td>\n",
       "      <td>4</td>\n",
       "    </tr>\n",
       "    <tr>\n",
       "      <th>116813</th>\n",
       "      <td>116813</td>\n",
       "      <td>4 BHK Ready to Occupy Flat for sale in Green p...</td>\n",
       "      <td>4 BHK flat available for sale in New Delhi in ...</td>\n",
       "      <td>5.05 Cr</td>\n",
       "      <td>20200.0</td>\n",
       "      <td>new-delhi</td>\n",
       "      <td>2450 sqft</td>\n",
       "      <td>Ready to Move</td>\n",
       "      <td>1 out of 4</td>\n",
       "      <td>New Property</td>\n",
       "      <td>...</td>\n",
       "      <td>Garden/Park</td>\n",
       "      <td>Green park extension</td>\n",
       "      <td>4</td>\n",
       "      <td>2</td>\n",
       "      <td>2 Covered</td>\n",
       "      <td>Freehold</td>\n",
       "      <td>NaN</td>\n",
       "      <td>NaN</td>\n",
       "      <td>NaN</td>\n",
       "      <td>4</td>\n",
       "    </tr>\n",
       "  </tbody>\n",
       "</table>\n",
       "<p>5 rows × 22 columns</p>\n",
       "</div>"
      ],
      "text/plain": [
       "         Index                                              Title  \\\n",
       "143364  143364  2 BHK Ready to Occupy Flat for sale in Mahagun...   \n",
       "113691  113691  2 BHK Ready to Occupy Flat for sale Sec 13 Awa...   \n",
       "10615    10615  3 BHK Ready to Occupy Flat for sale in Swastik...   \n",
       "62087    62087  4 BHK Ready to Occupy Flat for sale in Pioneer...   \n",
       "116813  116813  4 BHK Ready to Occupy Flat for sale in Green p...   \n",
       "\n",
       "                                              Description Amount(in rupees)  \\\n",
       "143364  Carefully laid out in the prime location of Se...          1.10 Cr    \n",
       "113691  This magnificent 2 BHK Flat is available for s...           42 Lac    \n",
       "10615   Up for immediate sale is a 3 BHK apartment in ...           65 Lac    \n",
       "62087   This lovely 4 BHK Flat in Sector 62, Gurgaon i...          8.96 Cr    \n",
       "116813  4 BHK flat available for sale in New Delhi in ...          5.05 Cr    \n",
       "\n",
       "        Price (in rupees)   location Carpet Area         Status         Floor  \\\n",
       "143364             8800.0      noida         NaN  Ready to Move  10 out of 23   \n",
       "113691             4941.0    lucknow    700 sqft  Ready to Move    1 out of 3   \n",
       "10615              4151.0  ahmedabad   103 sqyrd  Ready to Move  12 out of 14   \n",
       "62087             18000.0    gurgaon   4583 sqft  Ready to Move   9 out of 30   \n",
       "116813            20200.0  new-delhi   2450 sqft  Ready to Move    1 out of 4   \n",
       "\n",
       "         Transaction  ...             overlooking               Society  \\\n",
       "143364        Resale  ...               Main Road                   NaN   \n",
       "113691        Resale  ...                     NaN                   NaN   \n",
       "10615         Resale  ...  Garden/Park, Main Road       Swastik Riviera   \n",
       "62087   New Property  ...             Garden/Park         Pioneer Araya   \n",
       "116813  New Property  ...             Garden/Park  Green park extension   \n",
       "\n",
       "       Bathroom Balcony Car Parking  Ownership Super Area Dimensions  \\\n",
       "143364        2       3   2 Covered  Leasehold  1250 sqft        NaN   \n",
       "113691        2       1         NaN        NaN        NaN        NaN   \n",
       "10615         3       1   1 Covered   Freehold        NaN        NaN   \n",
       "62087         5       4   2 Covered   Freehold        NaN        NaN   \n",
       "116813        4       2   2 Covered   Freehold        NaN        NaN   \n",
       "\n",
       "       Plot Area  BHK  \n",
       "143364       NaN    2  \n",
       "113691       NaN    2  \n",
       "10615        NaN    3  \n",
       "62087        NaN    4  \n",
       "116813       NaN    4  \n",
       "\n",
       "[5 rows x 22 columns]"
      ]
     },
     "execution_count": 34,
     "metadata": {},
     "output_type": "execute_result"
    }
   ],
   "source": [
    "df.sample(5)"
   ]
  },
  {
   "cell_type": "code",
   "execution_count": 35,
   "id": "690f09f4",
   "metadata": {},
   "outputs": [
    {
     "data": {
      "text/plain": [
       "'Bhiwandi, Thane has an attractive 1 BHK Flat for sale. The property is ideally located in a strategic location in Srushti Siddhi Mangal Murti Complex township. This flat for resale is a choice property. This apartment ready to move in the Bhiwandi is available for an attractive price of\\xa0INR 42 Lac. You will find it unfurnished.'"
      ]
     },
     "execution_count": 35,
     "metadata": {},
     "output_type": "execute_result"
    }
   ],
   "source": [
    "df['Description'][0]"
   ]
  },
  {
   "cell_type": "code",
   "execution_count": 36,
   "id": "45149563",
   "metadata": {},
   "outputs": [
    {
     "data": {
      "text/plain": [
       "'One can find this stunning 2 BHK flat for sale in Pokhran Road, Thane. It enjoys an excellent location within the\\xa0Dosti Vihar. This flat for resale is a choice property. This ready to move flat in Pokhran Road can be availed at a reasonable price of INR 98 Lac. This semi-furnished flat is strategically designed with all the amenities to enhance the living experience. The property is strategically placed near prominent places as near singhaniya school which make for the smooth living of residents.'"
      ]
     },
     "execution_count": 36,
     "metadata": {},
     "output_type": "execute_result"
    }
   ],
   "source": [
    "df['Description'][1]"
   ]
  },
  {
   "cell_type": "code",
   "execution_count": 37,
   "id": "926b0942",
   "metadata": {},
   "outputs": [
    {
     "data": {
      "text/plain": [
       "\"Up for immediate sale is a 2 BHK apartment in Kolshet Road, Thane. Don't miss this bargain flat for sale. Situated in the Sunrise By Kalpataru township, it has a prime location. This flat for resale has a desirable location. You can buy this ready to move flat in Kolshet Road at a reasonable price of INR 1.40 Cr. This unfurnished flat is strategically designed with all the amenities to enhance the living experience. Landmarks near the apartment include pokhran road no 2.\""
      ]
     },
     "execution_count": 37,
     "metadata": {},
     "output_type": "execute_result"
    }
   ],
   "source": [
    "df['Description'][2]"
   ]
  },
  {
   "cell_type": "code",
   "execution_count": 38,
   "id": "3bb0a57b",
   "metadata": {},
   "outputs": [
    {
     "data": {
      "text/plain": [
       "new-delhi      27588\n",
       "bangalore      24010\n",
       "kolkata        22376\n",
       "gurgaon        20060\n",
       "ahmedabad      12740\n",
       "               ...  \n",
       "nellore           30\n",
       "solapur           30\n",
       "madurai           30\n",
       "navsari           30\n",
       "pondicherry       28\n",
       "Name: location, Length: 81, dtype: int64"
      ]
     },
     "execution_count": 38,
     "metadata": {},
     "output_type": "execute_result"
    }
   ],
   "source": [
    "df['location'].value_counts()"
   ]
  },
  {
   "cell_type": "code",
   "execution_count": 39,
   "id": "cffb5437",
   "metadata": {},
   "outputs": [
    {
     "data": {
      "text/plain": [
       "81"
      ]
     },
     "execution_count": 39,
     "metadata": {},
     "output_type": "execute_result"
    }
   ],
   "source": [
    "df['location'].nunique()"
   ]
  },
  {
   "cell_type": "code",
   "execution_count": 40,
   "id": "514be5a1",
   "metadata": {},
   "outputs": [
    {
     "data": {
      "text/plain": [
       "array(['thane', 'navi-mumbai', 'nagpur', 'mumbai', 'ahmedabad',\n",
       "       'bangalore', 'chennai', 'gurgaon', 'hyderabad', 'indore', 'jaipur',\n",
       "       'kolkata', 'lucknow', 'new-delhi', 'noida', 'pune', 'agra',\n",
       "       'ahmadnagar', 'allahabad', 'aurangabad', 'badlapur', 'belgaum',\n",
       "       'bhiwadi', 'bhiwandi', 'bhopal', 'bhubaneswar', 'chandigarh',\n",
       "       'coimbatore', 'dehradun', 'durgapur', 'ernakulam', 'faridabad',\n",
       "       'ghaziabad', 'goa', 'greater-noida', 'guntur', 'guwahati',\n",
       "       'gwalior', 'haridwar', 'jabalpur', 'jamshedpur', 'jodhpur',\n",
       "       'kalyan', 'kanpur', 'kochi', 'kozhikode', 'ludhiana', 'madurai',\n",
       "       'mangalore', 'mohali', 'mysore', 'nashik', 'navsari', 'nellore',\n",
       "       'palakkad', 'palghar', 'panchkula', 'patna', 'pondicherry',\n",
       "       'raipur', 'rajahmundry', 'ranchi', 'satara', 'shimla', 'siliguri',\n",
       "       'solapur', 'sonipat', 'surat', 'thrissur', 'tirupati', 'trichy',\n",
       "       'trivandrum', 'udaipur', 'udupi', 'vadodara', 'vapi', 'varanasi',\n",
       "       'vijayawada', 'visakhapatnam', 'vrindavan', 'zirakpur'],\n",
       "      dtype=object)"
      ]
     },
     "execution_count": 40,
     "metadata": {},
     "output_type": "execute_result"
    }
   ],
   "source": [
    "df['location'].unique()"
   ]
  },
  {
   "cell_type": "code",
   "execution_count": 41,
   "id": "50f2b180",
   "metadata": {},
   "outputs": [],
   "source": [
    "b=df['location'].value_counts()"
   ]
  },
  {
   "cell_type": "code",
   "execution_count": 42,
   "id": "7cb53af7",
   "metadata": {},
   "outputs": [
    {
     "data": {
      "text/html": [
       "<div>\n",
       "<style scoped>\n",
       "    .dataframe tbody tr th:only-of-type {\n",
       "        vertical-align: middle;\n",
       "    }\n",
       "\n",
       "    .dataframe tbody tr th {\n",
       "        vertical-align: top;\n",
       "    }\n",
       "\n",
       "    .dataframe thead th {\n",
       "        text-align: right;\n",
       "    }\n",
       "</style>\n",
       "<table border=\"1\" class=\"dataframe\">\n",
       "  <thead>\n",
       "    <tr style=\"text-align: right;\">\n",
       "      <th></th>\n",
       "      <th>location</th>\n",
       "    </tr>\n",
       "  </thead>\n",
       "  <tbody>\n",
       "    <tr>\n",
       "      <th>new-delhi</th>\n",
       "      <td>27588</td>\n",
       "    </tr>\n",
       "    <tr>\n",
       "      <th>bangalore</th>\n",
       "      <td>24010</td>\n",
       "    </tr>\n",
       "    <tr>\n",
       "      <th>kolkata</th>\n",
       "      <td>22376</td>\n",
       "    </tr>\n",
       "    <tr>\n",
       "      <th>gurgaon</th>\n",
       "      <td>20060</td>\n",
       "    </tr>\n",
       "    <tr>\n",
       "      <th>ahmedabad</th>\n",
       "      <td>12740</td>\n",
       "    </tr>\n",
       "  </tbody>\n",
       "</table>\n",
       "</div>"
      ],
      "text/plain": [
       "           location\n",
       "new-delhi     27588\n",
       "bangalore     24010\n",
       "kolkata       22376\n",
       "gurgaon       20060\n",
       "ahmedabad     12740"
      ]
     },
     "execution_count": 42,
     "metadata": {},
     "output_type": "execute_result"
    }
   ],
   "source": [
    "b=pd.DataFrame(b)\n",
    "b.head()"
   ]
  },
  {
   "cell_type": "code",
   "execution_count": 43,
   "id": "c286f7bc",
   "metadata": {},
   "outputs": [],
   "source": [
    "c=b[b['location']<500]"
   ]
  },
  {
   "cell_type": "code",
   "execution_count": 44,
   "id": "2615610f",
   "metadata": {},
   "outputs": [
    {
     "data": {
      "text/html": [
       "<div>\n",
       "<style scoped>\n",
       "    .dataframe tbody tr th:only-of-type {\n",
       "        vertical-align: middle;\n",
       "    }\n",
       "\n",
       "    .dataframe tbody tr th {\n",
       "        vertical-align: top;\n",
       "    }\n",
       "\n",
       "    .dataframe thead th {\n",
       "        text-align: right;\n",
       "    }\n",
       "</style>\n",
       "<table border=\"1\" class=\"dataframe\">\n",
       "  <thead>\n",
       "    <tr style=\"text-align: right;\">\n",
       "      <th></th>\n",
       "      <th>location</th>\n",
       "    </tr>\n",
       "  </thead>\n",
       "  <tbody>\n",
       "    <tr>\n",
       "      <th>bhubaneswar</th>\n",
       "      <td>455</td>\n",
       "    </tr>\n",
       "    <tr>\n",
       "      <th>aurangabad</th>\n",
       "      <td>450</td>\n",
       "    </tr>\n",
       "    <tr>\n",
       "      <th>mangalore</th>\n",
       "      <td>449</td>\n",
       "    </tr>\n",
       "    <tr>\n",
       "      <th>agra</th>\n",
       "      <td>448</td>\n",
       "    </tr>\n",
       "    <tr>\n",
       "      <th>badlapur</th>\n",
       "      <td>390</td>\n",
       "    </tr>\n",
       "    <tr>\n",
       "      <th>siliguri</th>\n",
       "      <td>390</td>\n",
       "    </tr>\n",
       "    <tr>\n",
       "      <th>panchkula</th>\n",
       "      <td>359</td>\n",
       "    </tr>\n",
       "    <tr>\n",
       "      <th>nashik</th>\n",
       "      <td>345</td>\n",
       "    </tr>\n",
       "    <tr>\n",
       "      <th>guntur</th>\n",
       "      <td>270</td>\n",
       "    </tr>\n",
       "    <tr>\n",
       "      <th>varanasi</th>\n",
       "      <td>268</td>\n",
       "    </tr>\n",
       "    <tr>\n",
       "      <th>thrissur</th>\n",
       "      <td>210</td>\n",
       "    </tr>\n",
       "    <tr>\n",
       "      <th>trivandrum</th>\n",
       "      <td>209</td>\n",
       "    </tr>\n",
       "    <tr>\n",
       "      <th>haridwar</th>\n",
       "      <td>180</td>\n",
       "    </tr>\n",
       "    <tr>\n",
       "      <th>ernakulam</th>\n",
       "      <td>179</td>\n",
       "    </tr>\n",
       "    <tr>\n",
       "      <th>mysore</th>\n",
       "      <td>178</td>\n",
       "    </tr>\n",
       "    <tr>\n",
       "      <th>allahabad</th>\n",
       "      <td>177</td>\n",
       "    </tr>\n",
       "    <tr>\n",
       "      <th>durgapur</th>\n",
       "      <td>150</td>\n",
       "    </tr>\n",
       "    <tr>\n",
       "      <th>ludhiana</th>\n",
       "      <td>150</td>\n",
       "    </tr>\n",
       "    <tr>\n",
       "      <th>gwalior</th>\n",
       "      <td>150</td>\n",
       "    </tr>\n",
       "    <tr>\n",
       "      <th>vapi</th>\n",
       "      <td>149</td>\n",
       "    </tr>\n",
       "    <tr>\n",
       "      <th>indore</th>\n",
       "      <td>143</td>\n",
       "    </tr>\n",
       "    <tr>\n",
       "      <th>bhopal</th>\n",
       "      <td>120</td>\n",
       "    </tr>\n",
       "    <tr>\n",
       "      <th>jabalpur</th>\n",
       "      <td>120</td>\n",
       "    </tr>\n",
       "    <tr>\n",
       "      <th>trichy</th>\n",
       "      <td>119</td>\n",
       "    </tr>\n",
       "    <tr>\n",
       "      <th>udaipur</th>\n",
       "      <td>119</td>\n",
       "    </tr>\n",
       "    <tr>\n",
       "      <th>rajahmundry</th>\n",
       "      <td>90</td>\n",
       "    </tr>\n",
       "    <tr>\n",
       "      <th>bhiwandi</th>\n",
       "      <td>90</td>\n",
       "    </tr>\n",
       "    <tr>\n",
       "      <th>tirupati</th>\n",
       "      <td>90</td>\n",
       "    </tr>\n",
       "    <tr>\n",
       "      <th>satara</th>\n",
       "      <td>60</td>\n",
       "    </tr>\n",
       "    <tr>\n",
       "      <th>shimla</th>\n",
       "      <td>60</td>\n",
       "    </tr>\n",
       "    <tr>\n",
       "      <th>kozhikode</th>\n",
       "      <td>60</td>\n",
       "    </tr>\n",
       "    <tr>\n",
       "      <th>vrindavan</th>\n",
       "      <td>60</td>\n",
       "    </tr>\n",
       "    <tr>\n",
       "      <th>belgaum</th>\n",
       "      <td>60</td>\n",
       "    </tr>\n",
       "    <tr>\n",
       "      <th>udupi</th>\n",
       "      <td>60</td>\n",
       "    </tr>\n",
       "    <tr>\n",
       "      <th>jodhpur</th>\n",
       "      <td>59</td>\n",
       "    </tr>\n",
       "    <tr>\n",
       "      <th>ahmadnagar</th>\n",
       "      <td>30</td>\n",
       "    </tr>\n",
       "    <tr>\n",
       "      <th>palakkad</th>\n",
       "      <td>30</td>\n",
       "    </tr>\n",
       "    <tr>\n",
       "      <th>nellore</th>\n",
       "      <td>30</td>\n",
       "    </tr>\n",
       "    <tr>\n",
       "      <th>solapur</th>\n",
       "      <td>30</td>\n",
       "    </tr>\n",
       "    <tr>\n",
       "      <th>madurai</th>\n",
       "      <td>30</td>\n",
       "    </tr>\n",
       "    <tr>\n",
       "      <th>navsari</th>\n",
       "      <td>30</td>\n",
       "    </tr>\n",
       "    <tr>\n",
       "      <th>pondicherry</th>\n",
       "      <td>28</td>\n",
       "    </tr>\n",
       "  </tbody>\n",
       "</table>\n",
       "</div>"
      ],
      "text/plain": [
       "             location\n",
       "bhubaneswar       455\n",
       "aurangabad        450\n",
       "mangalore         449\n",
       "agra              448\n",
       "badlapur          390\n",
       "siliguri          390\n",
       "panchkula         359\n",
       "nashik            345\n",
       "guntur            270\n",
       "varanasi          268\n",
       "thrissur          210\n",
       "trivandrum        209\n",
       "haridwar          180\n",
       "ernakulam         179\n",
       "mysore            178\n",
       "allahabad         177\n",
       "durgapur          150\n",
       "ludhiana          150\n",
       "gwalior           150\n",
       "vapi              149\n",
       "indore            143\n",
       "bhopal            120\n",
       "jabalpur          120\n",
       "trichy            119\n",
       "udaipur           119\n",
       "rajahmundry        90\n",
       "bhiwandi           90\n",
       "tirupati           90\n",
       "satara             60\n",
       "shimla             60\n",
       "kozhikode          60\n",
       "vrindavan          60\n",
       "belgaum            60\n",
       "udupi              60\n",
       "jodhpur            59\n",
       "ahmadnagar         30\n",
       "palakkad           30\n",
       "nellore            30\n",
       "solapur            30\n",
       "madurai            30\n",
       "navsari            30\n",
       "pondicherry        28"
      ]
     },
     "execution_count": 44,
     "metadata": {},
     "output_type": "execute_result"
    }
   ],
   "source": [
    "c"
   ]
  },
  {
   "cell_type": "code",
   "execution_count": 45,
   "id": "d24e2fd9",
   "metadata": {},
   "outputs": [
    {
     "data": {
      "text/plain": [
       "Index(['bhubaneswar', 'aurangabad', 'mangalore', 'agra', 'badlapur',\n",
       "       'siliguri', 'panchkula', 'nashik', 'guntur', 'varanasi', 'thrissur',\n",
       "       'trivandrum', 'haridwar', 'ernakulam', 'mysore', 'allahabad',\n",
       "       'durgapur', 'ludhiana', 'gwalior', 'vapi', 'indore', 'bhopal',\n",
       "       'jabalpur', 'trichy', 'udaipur', 'rajahmundry', 'bhiwandi', 'tirupati',\n",
       "       'satara', 'shimla', 'kozhikode', 'vrindavan', 'belgaum', 'udupi',\n",
       "       'jodhpur', 'ahmadnagar', 'palakkad', 'nellore', 'solapur', 'madurai',\n",
       "       'navsari', 'pondicherry'],\n",
       "      dtype='object')"
      ]
     },
     "execution_count": 45,
     "metadata": {},
     "output_type": "execute_result"
    }
   ],
   "source": [
    "c.index"
   ]
  },
  {
   "cell_type": "code",
   "execution_count": 46,
   "id": "5efef17d",
   "metadata": {},
   "outputs": [],
   "source": [
    "d=[]\n",
    "for i in c.index:\n",
    "    d.append(i)"
   ]
  },
  {
   "cell_type": "code",
   "execution_count": 47,
   "id": "829591a2",
   "metadata": {},
   "outputs": [
    {
     "data": {
      "text/plain": [
       "['bhubaneswar',\n",
       " 'aurangabad',\n",
       " 'mangalore',\n",
       " 'agra',\n",
       " 'badlapur',\n",
       " 'siliguri',\n",
       " 'panchkula',\n",
       " 'nashik',\n",
       " 'guntur',\n",
       " 'varanasi',\n",
       " 'thrissur',\n",
       " 'trivandrum',\n",
       " 'haridwar',\n",
       " 'ernakulam',\n",
       " 'mysore',\n",
       " 'allahabad',\n",
       " 'durgapur',\n",
       " 'ludhiana',\n",
       " 'gwalior',\n",
       " 'vapi',\n",
       " 'indore',\n",
       " 'bhopal',\n",
       " 'jabalpur',\n",
       " 'trichy',\n",
       " 'udaipur',\n",
       " 'rajahmundry',\n",
       " 'bhiwandi',\n",
       " 'tirupati',\n",
       " 'satara',\n",
       " 'shimla',\n",
       " 'kozhikode',\n",
       " 'vrindavan',\n",
       " 'belgaum',\n",
       " 'udupi',\n",
       " 'jodhpur',\n",
       " 'ahmadnagar',\n",
       " 'palakkad',\n",
       " 'nellore',\n",
       " 'solapur',\n",
       " 'madurai',\n",
       " 'navsari',\n",
       " 'pondicherry']"
      ]
     },
     "execution_count": 47,
     "metadata": {},
     "output_type": "execute_result"
    }
   ],
   "source": [
    "d"
   ]
  },
  {
   "cell_type": "code",
   "execution_count": 48,
   "id": "d44f959c",
   "metadata": {},
   "outputs": [],
   "source": [
    "for i in d:\n",
    "    df=df[df['location']!=i]"
   ]
  },
  {
   "cell_type": "code",
   "execution_count": 49,
   "id": "03ee76a5",
   "metadata": {},
   "outputs": [
    {
     "data": {
      "text/plain": [
       "(180239, 22)"
      ]
     },
     "execution_count": 49,
     "metadata": {},
     "output_type": "execute_result"
    }
   ],
   "source": [
    "df.shape"
   ]
  },
  {
   "cell_type": "code",
   "execution_count": 50,
   "id": "4e7fddc8",
   "metadata": {},
   "outputs": [
    {
     "data": {
      "text/plain": [
       "new-delhi        27588\n",
       "bangalore        24010\n",
       "kolkata          22376\n",
       "gurgaon          20060\n",
       "ahmedabad        12740\n",
       "hyderabad        12286\n",
       "chennai          10486\n",
       "jaipur            8485\n",
       "greater-noida     4707\n",
       "faridabad         3833\n",
       "vadodara          2387\n",
       "surat             2364\n",
       "pune              2219\n",
       "thane             1925\n",
       "mumbai            1828\n",
       "visakhapatnam     1795\n",
       "mohali            1706\n",
       "zirakpur          1530\n",
       "chandigarh        1437\n",
       "noida             1280\n",
       "goa               1195\n",
       "ranchi            1079\n",
       "bhiwadi           1049\n",
       "kochi             1049\n",
       "dehradun           984\n",
       "ghaziabad          929\n",
       "lucknow            894\n",
       "patna              779\n",
       "kanpur             774\n",
       "sonipat            750\n",
       "guwahati           747\n",
       "navi-mumbai        718\n",
       "coimbatore         716\n",
       "nagpur             714\n",
       "jamshedpur         630\n",
       "kalyan             600\n",
       "vijayawada         570\n",
       "raipur             510\n",
       "palghar            510\n",
       "Name: location, dtype: int64"
      ]
     },
     "execution_count": 50,
     "metadata": {},
     "output_type": "execute_result"
    }
   ],
   "source": [
    "df['location'].value_counts()"
   ]
  },
  {
   "cell_type": "code",
   "execution_count": 51,
   "id": "8607598b",
   "metadata": {},
   "outputs": [
    {
     "data": {
      "text/html": [
       "<div>\n",
       "<style scoped>\n",
       "    .dataframe tbody tr th:only-of-type {\n",
       "        vertical-align: middle;\n",
       "    }\n",
       "\n",
       "    .dataframe tbody tr th {\n",
       "        vertical-align: top;\n",
       "    }\n",
       "\n",
       "    .dataframe thead th {\n",
       "        text-align: right;\n",
       "    }\n",
       "</style>\n",
       "<table border=\"1\" class=\"dataframe\">\n",
       "  <thead>\n",
       "    <tr style=\"text-align: right;\">\n",
       "      <th></th>\n",
       "      <th>Index</th>\n",
       "      <th>Title</th>\n",
       "      <th>Description</th>\n",
       "      <th>Amount(in rupees)</th>\n",
       "      <th>Price (in rupees)</th>\n",
       "      <th>location</th>\n",
       "      <th>Carpet Area</th>\n",
       "      <th>Status</th>\n",
       "      <th>Floor</th>\n",
       "      <th>Transaction</th>\n",
       "      <th>...</th>\n",
       "      <th>overlooking</th>\n",
       "      <th>Society</th>\n",
       "      <th>Bathroom</th>\n",
       "      <th>Balcony</th>\n",
       "      <th>Car Parking</th>\n",
       "      <th>Ownership</th>\n",
       "      <th>Super Area</th>\n",
       "      <th>Dimensions</th>\n",
       "      <th>Plot Area</th>\n",
       "      <th>BHK</th>\n",
       "    </tr>\n",
       "  </thead>\n",
       "  <tbody>\n",
       "    <tr>\n",
       "      <th>22046</th>\n",
       "      <td>22046</td>\n",
       "      <td>3 BHK Ready to Occupy Flat for sale Phase 8th ...</td>\n",
       "      <td>This lovely 3 BHK Flat in JP Nagar Phase 8, Ba...</td>\n",
       "      <td>88 Lac</td>\n",
       "      <td>5254.0</td>\n",
       "      <td>bangalore</td>\n",
       "      <td>NaN</td>\n",
       "      <td>Ready to Move</td>\n",
       "      <td>2 out of 4</td>\n",
       "      <td>New Property</td>\n",
       "      <td>...</td>\n",
       "      <td>Garden/Park</td>\n",
       "      <td>NaN</td>\n",
       "      <td>3</td>\n",
       "      <td>2</td>\n",
       "      <td>1 Covered</td>\n",
       "      <td>Freehold</td>\n",
       "      <td>1675 sqft</td>\n",
       "      <td>NaN</td>\n",
       "      <td>NaN</td>\n",
       "      <td>3</td>\n",
       "    </tr>\n",
       "    <tr>\n",
       "      <th>142135</th>\n",
       "      <td>142135</td>\n",
       "      <td>4 BHK Ready to Occupy Flat for sale in Hamdam ...</td>\n",
       "      <td>Up for immediate sale is a 4 BHK apartment in ...</td>\n",
       "      <td>2.68 Cr</td>\n",
       "      <td>11167.0</td>\n",
       "      <td>new-delhi</td>\n",
       "      <td>2100 sqft</td>\n",
       "      <td>Ready to Move</td>\n",
       "      <td>8 out of 10</td>\n",
       "      <td>Resale</td>\n",
       "      <td>...</td>\n",
       "      <td>Garden/Park, Main Road</td>\n",
       "      <td>Hamdam Apartment</td>\n",
       "      <td>3</td>\n",
       "      <td>4</td>\n",
       "      <td>1 Covered,</td>\n",
       "      <td>Freehold</td>\n",
       "      <td>NaN</td>\n",
       "      <td>NaN</td>\n",
       "      <td>NaN</td>\n",
       "      <td>4</td>\n",
       "    </tr>\n",
       "    <tr>\n",
       "      <th>155408</th>\n",
       "      <td>155408</td>\n",
       "      <td>2 BHK Ready to Occupy Flat for sale Indraprast...</td>\n",
       "      <td>Creatively planned and constructed is a 2 BHK ...</td>\n",
       "      <td>35 Lac</td>\n",
       "      <td>3889.0</td>\n",
       "      <td>faridabad</td>\n",
       "      <td>NaN</td>\n",
       "      <td>Ready to Move</td>\n",
       "      <td>2 out of 4</td>\n",
       "      <td>Resale</td>\n",
       "      <td>...</td>\n",
       "      <td>NaN</td>\n",
       "      <td>NaN</td>\n",
       "      <td>2</td>\n",
       "      <td>NaN</td>\n",
       "      <td>NaN</td>\n",
       "      <td>NaN</td>\n",
       "      <td>900 sqft</td>\n",
       "      <td>NaN</td>\n",
       "      <td>NaN</td>\n",
       "      <td>2</td>\n",
       "    </tr>\n",
       "    <tr>\n",
       "      <th>145211</th>\n",
       "      <td>145211</td>\n",
       "      <td>4 BHK Ready to Occupy Flat for sale in Shaan G...</td>\n",
       "      <td>One can find this stunning 4 BHK flat for sale...</td>\n",
       "      <td>3.91 Cr</td>\n",
       "      <td>11602.0</td>\n",
       "      <td>pune</td>\n",
       "      <td>NaN</td>\n",
       "      <td>Ready to Move</td>\n",
       "      <td>5 out of 8</td>\n",
       "      <td>Resale</td>\n",
       "      <td>...</td>\n",
       "      <td>Garden/Park</td>\n",
       "      <td>Shaan Ganga</td>\n",
       "      <td>3</td>\n",
       "      <td>2</td>\n",
       "      <td>2 Covered</td>\n",
       "      <td>Co-operative Society</td>\n",
       "      <td>3370 sqft</td>\n",
       "      <td>NaN</td>\n",
       "      <td>NaN</td>\n",
       "      <td>4</td>\n",
       "    </tr>\n",
       "    <tr>\n",
       "      <th>163772</th>\n",
       "      <td>163772</td>\n",
       "      <td>2 BHK Ready to Occupy Flat for sale in Nimbus ...</td>\n",
       "      <td>This beautiful 2 BHK Flat is available for sal...</td>\n",
       "      <td>59 Lac</td>\n",
       "      <td>5296.0</td>\n",
       "      <td>greater-noida</td>\n",
       "      <td>NaN</td>\n",
       "      <td>NaN</td>\n",
       "      <td>3 out of 21</td>\n",
       "      <td>Resale</td>\n",
       "      <td>...</td>\n",
       "      <td>Garden/Park, Pool</td>\n",
       "      <td>Nimbus Express Park View 2</td>\n",
       "      <td>2</td>\n",
       "      <td>3</td>\n",
       "      <td>NaN</td>\n",
       "      <td>Leasehold</td>\n",
       "      <td>1114 sqft</td>\n",
       "      <td>NaN</td>\n",
       "      <td>NaN</td>\n",
       "      <td>2</td>\n",
       "    </tr>\n",
       "  </tbody>\n",
       "</table>\n",
       "<p>5 rows × 22 columns</p>\n",
       "</div>"
      ],
      "text/plain": [
       "         Index                                              Title  \\\n",
       "22046    22046  3 BHK Ready to Occupy Flat for sale Phase 8th ...   \n",
       "142135  142135  4 BHK Ready to Occupy Flat for sale in Hamdam ...   \n",
       "155408  155408  2 BHK Ready to Occupy Flat for sale Indraprast...   \n",
       "145211  145211  4 BHK Ready to Occupy Flat for sale in Shaan G...   \n",
       "163772  163772  2 BHK Ready to Occupy Flat for sale in Nimbus ...   \n",
       "\n",
       "                                              Description Amount(in rupees)  \\\n",
       "22046   This lovely 3 BHK Flat in JP Nagar Phase 8, Ba...           88 Lac    \n",
       "142135  Up for immediate sale is a 4 BHK apartment in ...          2.68 Cr    \n",
       "155408  Creatively planned and constructed is a 2 BHK ...           35 Lac    \n",
       "145211  One can find this stunning 4 BHK flat for sale...          3.91 Cr    \n",
       "163772  This beautiful 2 BHK Flat is available for sal...           59 Lac    \n",
       "\n",
       "        Price (in rupees)       location Carpet Area         Status  \\\n",
       "22046              5254.0      bangalore         NaN  Ready to Move   \n",
       "142135            11167.0      new-delhi   2100 sqft  Ready to Move   \n",
       "155408             3889.0      faridabad         NaN  Ready to Move   \n",
       "145211            11602.0           pune         NaN  Ready to Move   \n",
       "163772             5296.0  greater-noida         NaN            NaN   \n",
       "\n",
       "              Floor   Transaction  ...             overlooking  \\\n",
       "22046    2 out of 4  New Property  ...             Garden/Park   \n",
       "142135  8 out of 10        Resale  ...  Garden/Park, Main Road   \n",
       "155408   2 out of 4        Resale  ...                     NaN   \n",
       "145211   5 out of 8        Resale  ...             Garden/Park   \n",
       "163772  3 out of 21        Resale  ...       Garden/Park, Pool   \n",
       "\n",
       "                           Society Bathroom Balcony Car Parking  \\\n",
       "22046                          NaN        3       2   1 Covered   \n",
       "142135            Hamdam Apartment        3       4  1 Covered,   \n",
       "155408                         NaN        2     NaN         NaN   \n",
       "145211                 Shaan Ganga        3       2   2 Covered   \n",
       "163772  Nimbus Express Park View 2        2       3         NaN   \n",
       "\n",
       "                   Ownership Super Area Dimensions Plot Area  BHK  \n",
       "22046               Freehold  1675 sqft        NaN       NaN    3  \n",
       "142135              Freehold        NaN        NaN       NaN    4  \n",
       "155408                   NaN   900 sqft        NaN       NaN    2  \n",
       "145211  Co-operative Society  3370 sqft        NaN       NaN    4  \n",
       "163772             Leasehold  1114 sqft        NaN       NaN    2  \n",
       "\n",
       "[5 rows x 22 columns]"
      ]
     },
     "execution_count": 51,
     "metadata": {},
     "output_type": "execute_result"
    }
   ],
   "source": [
    "df.sample(5)"
   ]
  },
  {
   "cell_type": "code",
   "execution_count": 52,
   "id": "f330bddb",
   "metadata": {},
   "outputs": [
    {
     "data": {
      "image/png": "[encoded data removed]",
      "text/plain": [
       "<Figure size 1080x648 with 1 Axes>"
      ]
     },
     "metadata": {
      "needs_background": "light"
     },
     "output_type": "display_data"
    }
   ],
   "source": [
    "plt.figure(figsize=(15,9))\n",
    "df['location'].value_counts().plot(kind='bar')\n",
    "plt.show()"
   ]
  },
  {
   "cell_type": "code",
   "execution_count": 53,
   "id": "f41d1ead",
   "metadata": {},
   "outputs": [
    {
     "data": {
      "text/plain": [
       "Call for Price    9368\n",
       "85 Lac            5168\n",
       "65 Lac            4061\n",
       "60 Lac            3686\n",
       "70 Lac            3660\n",
       "                  ... \n",
       "6.38 Cr              1\n",
       "20.1 Lac             1\n",
       "4.84 Cr              1\n",
       "6.51 Cr              1\n",
       "9.90 Cr              1\n",
       "Name: Amount(in rupees), Length: 1540, dtype: int64"
      ]
     },
     "execution_count": 53,
     "metadata": {},
     "output_type": "execute_result"
    }
   ],
   "source": [
    "df['Amount(in rupees)'].value_counts()"
   ]
  },
  {
   "cell_type": "code",
   "execution_count": 54,
   "id": "df9e3a0f",
   "metadata": {},
   "outputs": [],
   "source": [
    "df=df[df['Amount(in rupees)']!='Call for Price']"
   ]
  },
  {
   "cell_type": "code",
   "execution_count": 55,
   "id": "bccd104e",
   "metadata": {},
   "outputs": [
    {
     "data": {
      "text/plain": [
       "(170871, 22)"
      ]
     },
     "execution_count": 55,
     "metadata": {},
     "output_type": "execute_result"
    }
   ],
   "source": [
    "df.shape"
   ]
  },
  {
   "cell_type": "code",
   "execution_count": 56,
   "id": "c086cc00",
   "metadata": {},
   "outputs": [
    {
     "data": {
      "text/plain": [
       "['42', 'Lac']"
      ]
     },
     "execution_count": 56,
     "metadata": {},
     "output_type": "execute_result"
    }
   ],
   "source": [
    "df['Amount(in rupees)'][0].split()"
   ]
  },
  {
   "cell_type": "code",
   "execution_count": 57,
   "id": "aecb076a",
   "metadata": {},
   "outputs": [],
   "source": [
    "def num_sys(text):\n",
    "    return text.split()[1]"
   ]
  },
  {
   "cell_type": "code",
   "execution_count": 58,
   "id": "6219bd2f",
   "metadata": {},
   "outputs": [],
   "source": [
    "df['num_sys']=df['Amount(in rupees)'].apply(num_sys)"
   ]
  },
  {
   "cell_type": "code",
   "execution_count": 59,
   "id": "d8aa596a",
   "metadata": {},
   "outputs": [
    {
     "data": {
      "text/html": [
       "<div>\n",
       "<style scoped>\n",
       "    .dataframe tbody tr th:only-of-type {\n",
       "        vertical-align: middle;\n",
       "    }\n",
       "\n",
       "    .dataframe tbody tr th {\n",
       "        vertical-align: top;\n",
       "    }\n",
       "\n",
       "    .dataframe thead th {\n",
       "        text-align: right;\n",
       "    }\n",
       "</style>\n",
       "<table border=\"1\" class=\"dataframe\">\n",
       "  <thead>\n",
       "    <tr style=\"text-align: right;\">\n",
       "      <th></th>\n",
       "      <th>Index</th>\n",
       "      <th>Title</th>\n",
       "      <th>Description</th>\n",
       "      <th>Amount(in rupees)</th>\n",
       "      <th>Price (in rupees)</th>\n",
       "      <th>location</th>\n",
       "      <th>Carpet Area</th>\n",
       "      <th>Status</th>\n",
       "      <th>Floor</th>\n",
       "      <th>Transaction</th>\n",
       "      <th>...</th>\n",
       "      <th>Society</th>\n",
       "      <th>Bathroom</th>\n",
       "      <th>Balcony</th>\n",
       "      <th>Car Parking</th>\n",
       "      <th>Ownership</th>\n",
       "      <th>Super Area</th>\n",
       "      <th>Dimensions</th>\n",
       "      <th>Plot Area</th>\n",
       "      <th>BHK</th>\n",
       "      <th>num_sys</th>\n",
       "    </tr>\n",
       "  </thead>\n",
       "  <tbody>\n",
       "    <tr>\n",
       "      <th>54906</th>\n",
       "      <td>54906</td>\n",
       "      <td>2 BHK Ready to Occupy Flat for sale Ashok Viha...</td>\n",
       "      <td>Up for immediate sale is a 2 BHK apartment in ...</td>\n",
       "      <td>26.5 Lac</td>\n",
       "      <td>4907.0</td>\n",
       "      <td>gurgaon</td>\n",
       "      <td>600 sqft</td>\n",
       "      <td>Ready to Move</td>\n",
       "      <td>1 out of 4</td>\n",
       "      <td>Resale</td>\n",
       "      <td>...</td>\n",
       "      <td>NaN</td>\n",
       "      <td>2</td>\n",
       "      <td>NaN</td>\n",
       "      <td>NaN</td>\n",
       "      <td>NaN</td>\n",
       "      <td>NaN</td>\n",
       "      <td>NaN</td>\n",
       "      <td>NaN</td>\n",
       "      <td>2</td>\n",
       "      <td>Lac</td>\n",
       "    </tr>\n",
       "    <tr>\n",
       "      <th>95707</th>\n",
       "      <td>95707</td>\n",
       "      <td>2 BHK Ready to Occupy Flat for sale in Siddha ...</td>\n",
       "      <td>Multistorey apartment is available for sale. I...</td>\n",
       "      <td>34 Lac</td>\n",
       "      <td>4000.0</td>\n",
       "      <td>kolkata</td>\n",
       "      <td>780 sqft</td>\n",
       "      <td>Ready to Move</td>\n",
       "      <td>2 out of 4</td>\n",
       "      <td>Resale</td>\n",
       "      <td>...</td>\n",
       "      <td>Siddha Town</td>\n",
       "      <td>2</td>\n",
       "      <td>2</td>\n",
       "      <td>NaN</td>\n",
       "      <td>NaN</td>\n",
       "      <td>NaN</td>\n",
       "      <td>NaN</td>\n",
       "      <td>NaN</td>\n",
       "      <td>2</td>\n",
       "      <td>Lac</td>\n",
       "    </tr>\n",
       "    <tr>\n",
       "      <th>19783</th>\n",
       "      <td>19783</td>\n",
       "      <td>2 BHK Ready to Occupy Flat for sale Kengeri Sa...</td>\n",
       "      <td>This exquisite 2 BHK Flat is offered for sale ...</td>\n",
       "      <td>35 Lac</td>\n",
       "      <td>3846.0</td>\n",
       "      <td>bangalore</td>\n",
       "      <td>NaN</td>\n",
       "      <td>Ready to Move</td>\n",
       "      <td>3 out of 4</td>\n",
       "      <td>Resale</td>\n",
       "      <td>...</td>\n",
       "      <td>NaN</td>\n",
       "      <td>2</td>\n",
       "      <td>NaN</td>\n",
       "      <td>NaN</td>\n",
       "      <td>NaN</td>\n",
       "      <td>910 sqft</td>\n",
       "      <td>NaN</td>\n",
       "      <td>NaN</td>\n",
       "      <td>2</td>\n",
       "      <td>Lac</td>\n",
       "    </tr>\n",
       "    <tr>\n",
       "      <th>91493</th>\n",
       "      <td>91493</td>\n",
       "      <td>3 BHK Ready to Occupy Flat for sale in SGIL Ga...</td>\n",
       "      <td>This gorgeous 3 BHK Flat is available for sale...</td>\n",
       "      <td>46 Lac</td>\n",
       "      <td>4205.0</td>\n",
       "      <td>kolkata</td>\n",
       "      <td>825 sqft</td>\n",
       "      <td>Ready to Move</td>\n",
       "      <td>7 out of 8</td>\n",
       "      <td>Resale</td>\n",
       "      <td>...</td>\n",
       "      <td>SGIL Gardenia</td>\n",
       "      <td>2</td>\n",
       "      <td>2</td>\n",
       "      <td>NaN</td>\n",
       "      <td>NaN</td>\n",
       "      <td>NaN</td>\n",
       "      <td>NaN</td>\n",
       "      <td>NaN</td>\n",
       "      <td>3</td>\n",
       "      <td>Lac</td>\n",
       "    </tr>\n",
       "    <tr>\n",
       "      <th>118637</th>\n",
       "      <td>118637</td>\n",
       "      <td>3 BHK Ready to Occupy Flat for sale in DDA San...</td>\n",
       "      <td>One can find this stunning 3 BHK flat for sale...</td>\n",
       "      <td>1.56 Cr</td>\n",
       "      <td>9750.0</td>\n",
       "      <td>new-delhi</td>\n",
       "      <td>1350 sqft</td>\n",
       "      <td>Ready to Move</td>\n",
       "      <td>3 out of 10</td>\n",
       "      <td>Resale</td>\n",
       "      <td>...</td>\n",
       "      <td>DDA Sanskriti Apartments</td>\n",
       "      <td>2</td>\n",
       "      <td>3</td>\n",
       "      <td>1 Covered,</td>\n",
       "      <td>Freehold</td>\n",
       "      <td>NaN</td>\n",
       "      <td>NaN</td>\n",
       "      <td>NaN</td>\n",
       "      <td>3</td>\n",
       "      <td>Cr</td>\n",
       "    </tr>\n",
       "  </tbody>\n",
       "</table>\n",
       "<p>5 rows × 23 columns</p>\n",
       "</div>"
      ],
      "text/plain": [
       "         Index                                              Title  \\\n",
       "54906    54906  2 BHK Ready to Occupy Flat for sale Ashok Viha...   \n",
       "95707    95707  2 BHK Ready to Occupy Flat for sale in Siddha ...   \n",
       "19783    19783  2 BHK Ready to Occupy Flat for sale Kengeri Sa...   \n",
       "91493    91493  3 BHK Ready to Occupy Flat for sale in SGIL Ga...   \n",
       "118637  118637  3 BHK Ready to Occupy Flat for sale in DDA San...   \n",
       "\n",
       "                                              Description Amount(in rupees)  \\\n",
       "54906   Up for immediate sale is a 2 BHK apartment in ...         26.5 Lac    \n",
       "95707   Multistorey apartment is available for sale. I...           34 Lac    \n",
       "19783   This exquisite 2 BHK Flat is offered for sale ...           35 Lac    \n",
       "91493   This gorgeous 3 BHK Flat is available for sale...           46 Lac    \n",
       "118637  One can find this stunning 3 BHK flat for sale...          1.56 Cr    \n",
       "\n",
       "        Price (in rupees)   location Carpet Area         Status        Floor  \\\n",
       "54906              4907.0    gurgaon    600 sqft  Ready to Move   1 out of 4   \n",
       "95707              4000.0    kolkata    780 sqft  Ready to Move   2 out of 4   \n",
       "19783              3846.0  bangalore         NaN  Ready to Move   3 out of 4   \n",
       "91493              4205.0    kolkata    825 sqft  Ready to Move   7 out of 8   \n",
       "118637             9750.0  new-delhi   1350 sqft  Ready to Move  3 out of 10   \n",
       "\n",
       "       Transaction  ...                   Society Bathroom Balcony  \\\n",
       "54906       Resale  ...                       NaN        2     NaN   \n",
       "95707       Resale  ...               Siddha Town        2       2   \n",
       "19783       Resale  ...                       NaN        2     NaN   \n",
       "91493       Resale  ...             SGIL Gardenia        2       2   \n",
       "118637      Resale  ...  DDA Sanskriti Apartments        2       3   \n",
       "\n",
       "       Car Parking Ownership Super Area Dimensions Plot Area BHK  num_sys  \n",
       "54906          NaN       NaN        NaN        NaN       NaN   2      Lac  \n",
       "95707          NaN       NaN        NaN        NaN       NaN   2      Lac  \n",
       "19783          NaN       NaN   910 sqft        NaN       NaN   2      Lac  \n",
       "91493          NaN       NaN        NaN        NaN       NaN   3      Lac  \n",
       "118637  1 Covered,  Freehold        NaN        NaN       NaN   3       Cr  \n",
       "\n",
       "[5 rows x 23 columns]"
      ]
     },
     "execution_count": 59,
     "metadata": {},
     "output_type": "execute_result"
    }
   ],
   "source": [
    "df.sample(5)"
   ]
  },
  {
   "cell_type": "code",
   "execution_count": 60,
   "id": "bac28531",
   "metadata": {},
   "outputs": [
    {
     "data": {
      "text/plain": [
       "Lac    106639\n",
       "Cr      64232\n",
       "Name: num_sys, dtype: int64"
      ]
     },
     "execution_count": 60,
     "metadata": {},
     "output_type": "execute_result"
    }
   ],
   "source": [
    "df['num_sys'].value_counts()"
   ]
  },
  {
   "cell_type": "code",
   "execution_count": 61,
   "id": "54562368",
   "metadata": {},
   "outputs": [],
   "source": [
    "df['Amount(in rupees)']=df['Amount(in rupees)'].str.replace(' Lac','')\n",
    "df['Amount(in rupees)']=df['Amount(in rupees)'].str.replace(' Cr','')"
   ]
  },
  {
   "cell_type": "code",
   "execution_count": 62,
   "id": "c718a961",
   "metadata": {},
   "outputs": [
    {
     "data": {
      "text/html": [
       "<div>\n",
       "<style scoped>\n",
       "    .dataframe tbody tr th:only-of-type {\n",
       "        vertical-align: middle;\n",
       "    }\n",
       "\n",
       "    .dataframe tbody tr th {\n",
       "        vertical-align: top;\n",
       "    }\n",
       "\n",
       "    .dataframe thead th {\n",
       "        text-align: right;\n",
       "    }\n",
       "</style>\n",
       "<table border=\"1\" class=\"dataframe\">\n",
       "  <thead>\n",
       "    <tr style=\"text-align: right;\">\n",
       "      <th></th>\n",
       "      <th>Index</th>\n",
       "      <th>Title</th>\n",
       "      <th>Description</th>\n",
       "      <th>Amount(in rupees)</th>\n",
       "      <th>Price (in rupees)</th>\n",
       "      <th>location</th>\n",
       "      <th>Carpet Area</th>\n",
       "      <th>Status</th>\n",
       "      <th>Floor</th>\n",
       "      <th>Transaction</th>\n",
       "      <th>...</th>\n",
       "      <th>Society</th>\n",
       "      <th>Bathroom</th>\n",
       "      <th>Balcony</th>\n",
       "      <th>Car Parking</th>\n",
       "      <th>Ownership</th>\n",
       "      <th>Super Area</th>\n",
       "      <th>Dimensions</th>\n",
       "      <th>Plot Area</th>\n",
       "      <th>BHK</th>\n",
       "      <th>num_sys</th>\n",
       "    </tr>\n",
       "  </thead>\n",
       "  <tbody>\n",
       "    <tr>\n",
       "      <th>24106</th>\n",
       "      <td>24106</td>\n",
       "      <td>2 BHK Ready to Occupy Flat for sale in SB Temp...</td>\n",
       "      <td>NaN</td>\n",
       "      <td>1.17</td>\n",
       "      <td>9161.0</td>\n",
       "      <td>bangalore</td>\n",
       "      <td>NaN</td>\n",
       "      <td>Ready to Move</td>\n",
       "      <td>NaN</td>\n",
       "      <td>New Property</td>\n",
       "      <td>...</td>\n",
       "      <td>NaN</td>\n",
       "      <td>2</td>\n",
       "      <td>NaN</td>\n",
       "      <td>1 Covered</td>\n",
       "      <td>NaN</td>\n",
       "      <td>1285 sqft</td>\n",
       "      <td>NaN</td>\n",
       "      <td>NaN</td>\n",
       "      <td>2</td>\n",
       "      <td>Cr</td>\n",
       "    </tr>\n",
       "    <tr>\n",
       "      <th>4751</th>\n",
       "      <td>4751</td>\n",
       "      <td>2 BHK Ready to Occupy Flat for sale in Ashraya...</td>\n",
       "      <td>This attractive 2 BHK apartment can be found f...</td>\n",
       "      <td>39</td>\n",
       "      <td>3939.0</td>\n",
       "      <td>ahmedabad</td>\n",
       "      <td>643 sqft</td>\n",
       "      <td>Ready to Move</td>\n",
       "      <td>5 out of 7</td>\n",
       "      <td>Resale</td>\n",
       "      <td>...</td>\n",
       "      <td>Ashraya 9</td>\n",
       "      <td>2</td>\n",
       "      <td>1</td>\n",
       "      <td>NaN</td>\n",
       "      <td>Freehold</td>\n",
       "      <td>NaN</td>\n",
       "      <td>NaN</td>\n",
       "      <td>NaN</td>\n",
       "      <td>2</td>\n",
       "      <td>Lac</td>\n",
       "    </tr>\n",
       "    <tr>\n",
       "      <th>144408</th>\n",
       "      <td>144408</td>\n",
       "      <td>4 BHK Ready to Occupy Flat for sale in Panchsh...</td>\n",
       "      <td>This attractive 4 BHK apartment can be found f...</td>\n",
       "      <td>4.15</td>\n",
       "      <td>12188.0</td>\n",
       "      <td>pune</td>\n",
       "      <td>2650 sqft</td>\n",
       "      <td>Ready to Move</td>\n",
       "      <td>20 out of 31</td>\n",
       "      <td>New Property</td>\n",
       "      <td>...</td>\n",
       "      <td>Panchshil Towers</td>\n",
       "      <td>5</td>\n",
       "      <td>2</td>\n",
       "      <td>NaN</td>\n",
       "      <td>Freehold</td>\n",
       "      <td>NaN</td>\n",
       "      <td>NaN</td>\n",
       "      <td>NaN</td>\n",
       "      <td>4</td>\n",
       "      <td>Cr</td>\n",
       "    </tr>\n",
       "    <tr>\n",
       "      <th>108826</th>\n",
       "      <td>108826</td>\n",
       "      <td>3 BHK Ready to Occupy Flat for sale in Diamond...</td>\n",
       "      <td>3 bedroom flat available for sale in Diamond C...</td>\n",
       "      <td>1.10</td>\n",
       "      <td>7666.0</td>\n",
       "      <td>kolkata</td>\n",
       "      <td>NaN</td>\n",
       "      <td>Ready to Move</td>\n",
       "      <td>12 out of 20</td>\n",
       "      <td>Resale</td>\n",
       "      <td>...</td>\n",
       "      <td>Diamond City South</td>\n",
       "      <td>2</td>\n",
       "      <td>2</td>\n",
       "      <td>1 Open</td>\n",
       "      <td>Freehold</td>\n",
       "      <td>1435 sqft</td>\n",
       "      <td>NaN</td>\n",
       "      <td>NaN</td>\n",
       "      <td>3</td>\n",
       "      <td>Cr</td>\n",
       "    </tr>\n",
       "    <tr>\n",
       "      <th>71959</th>\n",
       "      <td>71959</td>\n",
       "      <td>3 BHK Ready to Occupy Flat for sale Punjagutta...</td>\n",
       "      <td>Discover this immaculate 3 BHK flat for sale a...</td>\n",
       "      <td>2.15</td>\n",
       "      <td>9534.0</td>\n",
       "      <td>hyderabad</td>\n",
       "      <td>NaN</td>\n",
       "      <td>Ready to Move</td>\n",
       "      <td>2 out of 5</td>\n",
       "      <td>Resale</td>\n",
       "      <td>...</td>\n",
       "      <td>NaN</td>\n",
       "      <td>3</td>\n",
       "      <td>NaN</td>\n",
       "      <td>NaN</td>\n",
       "      <td>NaN</td>\n",
       "      <td>2255 sqft</td>\n",
       "      <td>NaN</td>\n",
       "      <td>NaN</td>\n",
       "      <td>3</td>\n",
       "      <td>Cr</td>\n",
       "    </tr>\n",
       "  </tbody>\n",
       "</table>\n",
       "<p>5 rows × 23 columns</p>\n",
       "</div>"
      ],
      "text/plain": [
       "         Index                                              Title  \\\n",
       "24106    24106  2 BHK Ready to Occupy Flat for sale in SB Temp...   \n",
       "4751      4751  2 BHK Ready to Occupy Flat for sale in Ashraya...   \n",
       "144408  144408  4 BHK Ready to Occupy Flat for sale in Panchsh...   \n",
       "108826  108826  3 BHK Ready to Occupy Flat for sale in Diamond...   \n",
       "71959    71959  3 BHK Ready to Occupy Flat for sale Punjagutta...   \n",
       "\n",
       "                                              Description Amount(in rupees)  \\\n",
       "24106                                                 NaN             1.17    \n",
       "4751    This attractive 2 BHK apartment can be found f...               39    \n",
       "144408  This attractive 4 BHK apartment can be found f...             4.15    \n",
       "108826  3 bedroom flat available for sale in Diamond C...             1.10    \n",
       "71959   Discover this immaculate 3 BHK flat for sale a...             2.15    \n",
       "\n",
       "        Price (in rupees)   location Carpet Area         Status         Floor  \\\n",
       "24106              9161.0  bangalore         NaN  Ready to Move           NaN   \n",
       "4751               3939.0  ahmedabad    643 sqft  Ready to Move    5 out of 7   \n",
       "144408            12188.0       pune   2650 sqft  Ready to Move  20 out of 31   \n",
       "108826             7666.0    kolkata         NaN  Ready to Move  12 out of 20   \n",
       "71959              9534.0  hyderabad         NaN  Ready to Move    2 out of 5   \n",
       "\n",
       "         Transaction  ...             Society Bathroom Balcony Car Parking  \\\n",
       "24106   New Property  ...                 NaN        2     NaN   1 Covered   \n",
       "4751          Resale  ...           Ashraya 9        2       1         NaN   \n",
       "144408  New Property  ...    Panchshil Towers        5       2         NaN   \n",
       "108826        Resale  ...  Diamond City South        2       2      1 Open   \n",
       "71959         Resale  ...                 NaN        3     NaN         NaN   \n",
       "\n",
       "       Ownership Super Area Dimensions Plot Area BHK  num_sys  \n",
       "24106        NaN  1285 sqft        NaN       NaN   2       Cr  \n",
       "4751    Freehold        NaN        NaN       NaN   2      Lac  \n",
       "144408  Freehold        NaN        NaN       NaN   4       Cr  \n",
       "108826  Freehold  1435 sqft        NaN       NaN   3       Cr  \n",
       "71959        NaN  2255 sqft        NaN       NaN   3       Cr  \n",
       "\n",
       "[5 rows x 23 columns]"
      ]
     },
     "execution_count": 62,
     "metadata": {},
     "output_type": "execute_result"
    }
   ],
   "source": [
    "df.sample(5)"
   ]
  },
  {
   "cell_type": "code",
   "execution_count": 63,
   "id": "1122f610",
   "metadata": {},
   "outputs": [],
   "source": [
    "df['Amount(in rupees)']=df['Amount(in rupees)'].astype('float')"
   ]
  },
  {
   "cell_type": "code",
   "execution_count": 64,
   "id": "73dc2935",
   "metadata": {},
   "outputs": [
    {
     "data": {
      "text/plain": [
       "dtype('float64')"
      ]
     },
     "execution_count": 64,
     "metadata": {},
     "output_type": "execute_result"
    }
   ],
   "source": [
    "df['Amount(in rupees)'].dtype"
   ]
  },
  {
   "cell_type": "code",
   "execution_count": 65,
   "id": "85e1a5b4",
   "metadata": {},
   "outputs": [],
   "source": [
    "df_Lac=df[df['num_sys']=='Lac']\n",
    "df_Cr=df[df['num_sys']=='Cr']"
   ]
  },
  {
   "cell_type": "code",
   "execution_count": 66,
   "id": "66de8c39",
   "metadata": {},
   "outputs": [],
   "source": [
    "df_Lac['Amount(in rupees)']=df['Amount(in rupees)']*10000\n",
    "df_Cr['Amount(in rupees)']=df['Amount(in rupees)']*10000000"
   ]
  },
  {
   "cell_type": "code",
   "execution_count": 67,
   "id": "6b02fcbc",
   "metadata": {},
   "outputs": [],
   "source": [
    "df=pd.concat([df_Lac,df_Cr])"
   ]
  },
  {
   "cell_type": "code",
   "execution_count": 68,
   "id": "72a16139",
   "metadata": {},
   "outputs": [
    {
     "data": {
      "text/html": [
       "<div>\n",
       "<style scoped>\n",
       "    .dataframe tbody tr th:only-of-type {\n",
       "        vertical-align: middle;\n",
       "    }\n",
       "\n",
       "    .dataframe tbody tr th {\n",
       "        vertical-align: top;\n",
       "    }\n",
       "\n",
       "    .dataframe thead th {\n",
       "        text-align: right;\n",
       "    }\n",
       "</style>\n",
       "<table border=\"1\" class=\"dataframe\">\n",
       "  <thead>\n",
       "    <tr style=\"text-align: right;\">\n",
       "      <th></th>\n",
       "      <th>Index</th>\n",
       "      <th>Title</th>\n",
       "      <th>Description</th>\n",
       "      <th>Amount(in rupees)</th>\n",
       "      <th>Price (in rupees)</th>\n",
       "      <th>location</th>\n",
       "      <th>Carpet Area</th>\n",
       "      <th>Status</th>\n",
       "      <th>Floor</th>\n",
       "      <th>Transaction</th>\n",
       "      <th>...</th>\n",
       "      <th>Society</th>\n",
       "      <th>Bathroom</th>\n",
       "      <th>Balcony</th>\n",
       "      <th>Car Parking</th>\n",
       "      <th>Ownership</th>\n",
       "      <th>Super Area</th>\n",
       "      <th>Dimensions</th>\n",
       "      <th>Plot Area</th>\n",
       "      <th>BHK</th>\n",
       "      <th>num_sys</th>\n",
       "    </tr>\n",
       "  </thead>\n",
       "  <tbody>\n",
       "    <tr>\n",
       "      <th>163083</th>\n",
       "      <td>163083</td>\n",
       "      <td>3 BHK Ready to Occupy Flat for sale in Sikka K...</td>\n",
       "      <td>3 BHK flat available for sale in Greater Noida...</td>\n",
       "      <td>669000.0</td>\n",
       "      <td>5350.0</td>\n",
       "      <td>greater-noida</td>\n",
       "      <td>NaN</td>\n",
       "      <td>Ready to Move</td>\n",
       "      <td>NaN</td>\n",
       "      <td>New Property</td>\n",
       "      <td>...</td>\n",
       "      <td>Sikka Kaamya Greens</td>\n",
       "      <td>2</td>\n",
       "      <td>NaN</td>\n",
       "      <td>1 Covered</td>\n",
       "      <td>NaN</td>\n",
       "      <td>1250 sqft</td>\n",
       "      <td>NaN</td>\n",
       "      <td>NaN</td>\n",
       "      <td>3</td>\n",
       "      <td>Lac</td>\n",
       "    </tr>\n",
       "    <tr>\n",
       "      <th>76807</th>\n",
       "      <td>76807</td>\n",
       "      <td>2 BHK Ready to Occupy Flat for sale in Sanjana...</td>\n",
       "      <td>Kandlakoya, Hyderabad has an attractive 2 BHK ...</td>\n",
       "      <td>690000.0</td>\n",
       "      <td>NaN</td>\n",
       "      <td>hyderabad</td>\n",
       "      <td>956 sqft</td>\n",
       "      <td>Ready to Move</td>\n",
       "      <td>5 out of 5</td>\n",
       "      <td>Resale</td>\n",
       "      <td>...</td>\n",
       "      <td>NaN</td>\n",
       "      <td>2</td>\n",
       "      <td>1</td>\n",
       "      <td>1 Covered</td>\n",
       "      <td>Freehold</td>\n",
       "      <td>NaN</td>\n",
       "      <td>NaN</td>\n",
       "      <td>NaN</td>\n",
       "      <td>2</td>\n",
       "      <td>Lac</td>\n",
       "    </tr>\n",
       "    <tr>\n",
       "      <th>175362</th>\n",
       "      <td>175362</td>\n",
       "      <td>3 BHK Ready to Occupy Flat for sale in Pranami...</td>\n",
       "      <td>This exquisite 3 BHK Flat is offered for sale ...</td>\n",
       "      <td>871000.0</td>\n",
       "      <td>4750.0</td>\n",
       "      <td>ranchi</td>\n",
       "      <td>1376 sqft</td>\n",
       "      <td>Ready to Move</td>\n",
       "      <td>2 out of 4</td>\n",
       "      <td>New Property</td>\n",
       "      <td>...</td>\n",
       "      <td>Pranami Blue Sapphire</td>\n",
       "      <td>3</td>\n",
       "      <td>3</td>\n",
       "      <td>2 Covered</td>\n",
       "      <td>Freehold</td>\n",
       "      <td>NaN</td>\n",
       "      <td>NaN</td>\n",
       "      <td>NaN</td>\n",
       "      <td>3</td>\n",
       "      <td>Lac</td>\n",
       "    </tr>\n",
       "    <tr>\n",
       "      <th>143400</th>\n",
       "      <td>143400</td>\n",
       "      <td>2 BHK Ready to Occupy Flat for sale in Paras T...</td>\n",
       "      <td>Up for immediate sale is a 2 BHK apartment in ...</td>\n",
       "      <td>420000.0</td>\n",
       "      <td>4541.0</td>\n",
       "      <td>noida</td>\n",
       "      <td>NaN</td>\n",
       "      <td>Ready to Move</td>\n",
       "      <td>3 out of 19</td>\n",
       "      <td>Resale</td>\n",
       "      <td>...</td>\n",
       "      <td>NaN</td>\n",
       "      <td>2</td>\n",
       "      <td>3</td>\n",
       "      <td>NaN</td>\n",
       "      <td>NaN</td>\n",
       "      <td>925 sqft</td>\n",
       "      <td>NaN</td>\n",
       "      <td>NaN</td>\n",
       "      <td>2</td>\n",
       "      <td>Lac</td>\n",
       "    </tr>\n",
       "    <tr>\n",
       "      <th>29565</th>\n",
       "      <td>29565</td>\n",
       "      <td>2 BHK Ready to Occupy Flat for sale in Jai Gar...</td>\n",
       "      <td>Up for immediate sale is a 2 BHK apartment in ...</td>\n",
       "      <td>830000.0</td>\n",
       "      <td>6854.0</td>\n",
       "      <td>bangalore</td>\n",
       "      <td>880 sqft</td>\n",
       "      <td>Ready to Move</td>\n",
       "      <td>4 out of 5</td>\n",
       "      <td>Resale</td>\n",
       "      <td>...</td>\n",
       "      <td>NaN</td>\n",
       "      <td>2</td>\n",
       "      <td>2</td>\n",
       "      <td>NaN</td>\n",
       "      <td>Freehold</td>\n",
       "      <td>NaN</td>\n",
       "      <td>NaN</td>\n",
       "      <td>NaN</td>\n",
       "      <td>2</td>\n",
       "      <td>Lac</td>\n",
       "    </tr>\n",
       "  </tbody>\n",
       "</table>\n",
       "<p>5 rows × 23 columns</p>\n",
       "</div>"
      ],
      "text/plain": [
       "         Index                                              Title  \\\n",
       "163083  163083  3 BHK Ready to Occupy Flat for sale in Sikka K...   \n",
       "76807    76807  2 BHK Ready to Occupy Flat for sale in Sanjana...   \n",
       "175362  175362  3 BHK Ready to Occupy Flat for sale in Pranami...   \n",
       "143400  143400  2 BHK Ready to Occupy Flat for sale in Paras T...   \n",
       "29565    29565  2 BHK Ready to Occupy Flat for sale in Jai Gar...   \n",
       "\n",
       "                                              Description  Amount(in rupees)  \\\n",
       "163083  3 BHK flat available for sale in Greater Noida...           669000.0   \n",
       "76807   Kandlakoya, Hyderabad has an attractive 2 BHK ...           690000.0   \n",
       "175362  This exquisite 3 BHK Flat is offered for sale ...           871000.0   \n",
       "143400  Up for immediate sale is a 2 BHK apartment in ...           420000.0   \n",
       "29565   Up for immediate sale is a 2 BHK apartment in ...           830000.0   \n",
       "\n",
       "        Price (in rupees)       location Carpet Area         Status  \\\n",
       "163083             5350.0  greater-noida         NaN  Ready to Move   \n",
       "76807                 NaN      hyderabad    956 sqft  Ready to Move   \n",
       "175362             4750.0         ranchi   1376 sqft  Ready to Move   \n",
       "143400             4541.0          noida         NaN  Ready to Move   \n",
       "29565              6854.0      bangalore    880 sqft  Ready to Move   \n",
       "\n",
       "              Floor   Transaction  ...                Society Bathroom  \\\n",
       "163083          NaN  New Property  ...    Sikka Kaamya Greens        2   \n",
       "76807    5 out of 5        Resale  ...                    NaN        2   \n",
       "175362   2 out of 4  New Property  ...  Pranami Blue Sapphire        3   \n",
       "143400  3 out of 19        Resale  ...                    NaN        2   \n",
       "29565    4 out of 5        Resale  ...                    NaN        2   \n",
       "\n",
       "       Balcony Car Parking Ownership Super Area Dimensions Plot Area BHK  \\\n",
       "163083     NaN   1 Covered       NaN  1250 sqft        NaN       NaN   3   \n",
       "76807        1   1 Covered  Freehold        NaN        NaN       NaN   2   \n",
       "175362       3   2 Covered  Freehold        NaN        NaN       NaN   3   \n",
       "143400       3         NaN       NaN   925 sqft        NaN       NaN   2   \n",
       "29565        2         NaN  Freehold        NaN        NaN       NaN   2   \n",
       "\n",
       "        num_sys  \n",
       "163083      Lac  \n",
       "76807       Lac  \n",
       "175362      Lac  \n",
       "143400      Lac  \n",
       "29565       Lac  \n",
       "\n",
       "[5 rows x 23 columns]"
      ]
     },
     "execution_count": 68,
     "metadata": {},
     "output_type": "execute_result"
    }
   ],
   "source": [
    "df.sample(5)"
   ]
  },
  {
   "cell_type": "code",
   "execution_count": 69,
   "id": "77d36716",
   "metadata": {},
   "outputs": [],
   "source": [
    "df.drop(columns=['num_sys'],axis=1,inplace=True)"
   ]
  },
  {
   "cell_type": "code",
   "execution_count": 70,
   "id": "c7b6c5a0",
   "metadata": {},
   "outputs": [
    {
     "data": {
      "text/html": [
       "<div>\n",
       "<style scoped>\n",
       "    .dataframe tbody tr th:only-of-type {\n",
       "        vertical-align: middle;\n",
       "    }\n",
       "\n",
       "    .dataframe tbody tr th {\n",
       "        vertical-align: top;\n",
       "    }\n",
       "\n",
       "    .dataframe thead th {\n",
       "        text-align: right;\n",
       "    }\n",
       "</style>\n",
       "<table border=\"1\" class=\"dataframe\">\n",
       "  <thead>\n",
       "    <tr style=\"text-align: right;\">\n",
       "      <th></th>\n",
       "      <th>Index</th>\n",
       "      <th>Title</th>\n",
       "      <th>Description</th>\n",
       "      <th>Amount(in rupees)</th>\n",
       "      <th>Price (in rupees)</th>\n",
       "      <th>location</th>\n",
       "      <th>Carpet Area</th>\n",
       "      <th>Status</th>\n",
       "      <th>Floor</th>\n",
       "      <th>Transaction</th>\n",
       "      <th>...</th>\n",
       "      <th>overlooking</th>\n",
       "      <th>Society</th>\n",
       "      <th>Bathroom</th>\n",
       "      <th>Balcony</th>\n",
       "      <th>Car Parking</th>\n",
       "      <th>Ownership</th>\n",
       "      <th>Super Area</th>\n",
       "      <th>Dimensions</th>\n",
       "      <th>Plot Area</th>\n",
       "      <th>BHK</th>\n",
       "    </tr>\n",
       "  </thead>\n",
       "  <tbody>\n",
       "    <tr>\n",
       "      <th>0</th>\n",
       "      <td>0</td>\n",
       "      <td>1 BHK Ready to Occupy Flat for sale in Srushti...</td>\n",
       "      <td>Bhiwandi, Thane has an attractive 1 BHK Flat f...</td>\n",
       "      <td>420000.0</td>\n",
       "      <td>6000.0</td>\n",
       "      <td>thane</td>\n",
       "      <td>500 sqft</td>\n",
       "      <td>Ready to Move</td>\n",
       "      <td>10 out of 11</td>\n",
       "      <td>Resale</td>\n",
       "      <td>...</td>\n",
       "      <td>NaN</td>\n",
       "      <td>Srushti Siddhi Mangal Murti Complex</td>\n",
       "      <td>1</td>\n",
       "      <td>2</td>\n",
       "      <td>NaN</td>\n",
       "      <td>NaN</td>\n",
       "      <td>NaN</td>\n",
       "      <td>NaN</td>\n",
       "      <td>NaN</td>\n",
       "      <td>1</td>\n",
       "    </tr>\n",
       "    <tr>\n",
       "      <th>1</th>\n",
       "      <td>1</td>\n",
       "      <td>2 BHK Ready to Occupy Flat for sale in Dosti V...</td>\n",
       "      <td>One can find this stunning 2 BHK flat for sale...</td>\n",
       "      <td>980000.0</td>\n",
       "      <td>13799.0</td>\n",
       "      <td>thane</td>\n",
       "      <td>473 sqft</td>\n",
       "      <td>Ready to Move</td>\n",
       "      <td>3 out of 22</td>\n",
       "      <td>Resale</td>\n",
       "      <td>...</td>\n",
       "      <td>Garden/Park</td>\n",
       "      <td>Dosti Vihar</td>\n",
       "      <td>2</td>\n",
       "      <td>NaN</td>\n",
       "      <td>1 Open</td>\n",
       "      <td>Freehold</td>\n",
       "      <td>NaN</td>\n",
       "      <td>NaN</td>\n",
       "      <td>NaN</td>\n",
       "      <td>2</td>\n",
       "    </tr>\n",
       "    <tr>\n",
       "      <th>3</th>\n",
       "      <td>3</td>\n",
       "      <td>1 BHK Ready to Occupy Flat for sale Kasheli</td>\n",
       "      <td>This beautiful 1 BHK Flat is available for sal...</td>\n",
       "      <td>250000.0</td>\n",
       "      <td>NaN</td>\n",
       "      <td>thane</td>\n",
       "      <td>530 sqft</td>\n",
       "      <td>Ready to Move</td>\n",
       "      <td>1 out of 3</td>\n",
       "      <td>Resale</td>\n",
       "      <td>...</td>\n",
       "      <td>NaN</td>\n",
       "      <td>NaN</td>\n",
       "      <td>1</td>\n",
       "      <td>1</td>\n",
       "      <td>NaN</td>\n",
       "      <td>NaN</td>\n",
       "      <td>NaN</td>\n",
       "      <td>NaN</td>\n",
       "      <td>NaN</td>\n",
       "      <td>1</td>\n",
       "    </tr>\n",
       "    <tr>\n",
       "      <th>5</th>\n",
       "      <td>5</td>\n",
       "      <td>1 BHK Ready to Occupy Flat for sale in Virat A...</td>\n",
       "      <td>Creatively planned and constructed is a 1 BHK ...</td>\n",
       "      <td>450000.0</td>\n",
       "      <td>6618.0</td>\n",
       "      <td>thane</td>\n",
       "      <td>NaN</td>\n",
       "      <td>Ready to Move</td>\n",
       "      <td>2 out of 7</td>\n",
       "      <td>Resale</td>\n",
       "      <td>...</td>\n",
       "      <td>Garden/Park, Main Road</td>\n",
       "      <td>Virat Aangan</td>\n",
       "      <td>1</td>\n",
       "      <td>1</td>\n",
       "      <td>NaN</td>\n",
       "      <td>Co-operative Society</td>\n",
       "      <td>680 sqft</td>\n",
       "      <td>NaN</td>\n",
       "      <td>NaN</td>\n",
       "      <td>1</td>\n",
       "    </tr>\n",
       "    <tr>\n",
       "      <th>6</th>\n",
       "      <td>6</td>\n",
       "      <td>1 BHK Ready to Occupy Flat for sale Mumbra</td>\n",
       "      <td>This magnificent 1 BHK Flat is available for s...</td>\n",
       "      <td>165000.0</td>\n",
       "      <td>2538.0</td>\n",
       "      <td>thane</td>\n",
       "      <td>550 sqft</td>\n",
       "      <td>Ready to Move</td>\n",
       "      <td>4 out of 5</td>\n",
       "      <td>Resale</td>\n",
       "      <td>...</td>\n",
       "      <td>NaN</td>\n",
       "      <td>NaN</td>\n",
       "      <td>1</td>\n",
       "      <td>NaN</td>\n",
       "      <td>NaN</td>\n",
       "      <td>NaN</td>\n",
       "      <td>NaN</td>\n",
       "      <td>NaN</td>\n",
       "      <td>NaN</td>\n",
       "      <td>1</td>\n",
       "    </tr>\n",
       "  </tbody>\n",
       "</table>\n",
       "<p>5 rows × 22 columns</p>\n",
       "</div>"
      ],
      "text/plain": [
       "   Index                                              Title  \\\n",
       "0      0  1 BHK Ready to Occupy Flat for sale in Srushti...   \n",
       "1      1  2 BHK Ready to Occupy Flat for sale in Dosti V...   \n",
       "3      3        1 BHK Ready to Occupy Flat for sale Kasheli   \n",
       "5      5  1 BHK Ready to Occupy Flat for sale in Virat A...   \n",
       "6      6         1 BHK Ready to Occupy Flat for sale Mumbra   \n",
       "\n",
       "                                         Description  Amount(in rupees)  \\\n",
       "0  Bhiwandi, Thane has an attractive 1 BHK Flat f...           420000.0   \n",
       "1  One can find this stunning 2 BHK flat for sale...           980000.0   \n",
       "3  This beautiful 1 BHK Flat is available for sal...           250000.0   \n",
       "5  Creatively planned and constructed is a 1 BHK ...           450000.0   \n",
       "6  This magnificent 1 BHK Flat is available for s...           165000.0   \n",
       "\n",
       "   Price (in rupees) location Carpet Area         Status         Floor  \\\n",
       "0             6000.0    thane    500 sqft  Ready to Move  10 out of 11   \n",
       "1            13799.0    thane    473 sqft  Ready to Move   3 out of 22   \n",
       "3                NaN    thane    530 sqft  Ready to Move    1 out of 3   \n",
       "5             6618.0    thane         NaN  Ready to Move    2 out of 7   \n",
       "6             2538.0    thane    550 sqft  Ready to Move    4 out of 5   \n",
       "\n",
       "  Transaction  ...             overlooking  \\\n",
       "0      Resale  ...                     NaN   \n",
       "1      Resale  ...             Garden/Park   \n",
       "3      Resale  ...                     NaN   \n",
       "5      Resale  ...  Garden/Park, Main Road   \n",
       "6      Resale  ...                     NaN   \n",
       "\n",
       "                               Society Bathroom Balcony Car Parking  \\\n",
       "0  Srushti Siddhi Mangal Murti Complex        1       2         NaN   \n",
       "1                          Dosti Vihar        2     NaN      1 Open   \n",
       "3                                  NaN        1       1         NaN   \n",
       "5                         Virat Aangan        1       1         NaN   \n",
       "6                                  NaN        1     NaN         NaN   \n",
       "\n",
       "              Ownership Super Area Dimensions Plot Area  BHK  \n",
       "0                   NaN        NaN        NaN       NaN    1  \n",
       "1              Freehold        NaN        NaN       NaN    2  \n",
       "3                   NaN        NaN        NaN       NaN    1  \n",
       "5  Co-operative Society   680 sqft        NaN       NaN    1  \n",
       "6                   NaN        NaN        NaN       NaN    1  \n",
       "\n",
       "[5 rows x 22 columns]"
      ]
     },
     "execution_count": 70,
     "metadata": {},
     "output_type": "execute_result"
    }
   ],
   "source": [
    "df.head()"
   ]
  },
  {
   "cell_type": "code",
   "execution_count": 71,
   "id": "d7a0a04f",
   "metadata": {},
   "outputs": [
    {
     "data": {
      "text/plain": [
       "dtype('float64')"
      ]
     },
     "execution_count": 71,
     "metadata": {},
     "output_type": "execute_result"
    }
   ],
   "source": [
    "df['Price (in rupees)'].dtype"
   ]
  },
  {
   "cell_type": "code",
   "execution_count": 72,
   "id": "bf80ae39",
   "metadata": {},
   "outputs": [
    {
     "data": {
      "text/plain": [
       "7492"
      ]
     },
     "execution_count": 72,
     "metadata": {},
     "output_type": "execute_result"
    }
   ],
   "source": [
    "df['Price (in rupees)'].isnull().sum()"
   ]
  },
  {
   "cell_type": "code",
   "execution_count": 73,
   "id": "9bf3897d",
   "metadata": {},
   "outputs": [],
   "source": [
    "imputer=SimpleImputer(missing_values=np.nan,strategy='mean')"
   ]
  },
  {
   "cell_type": "code",
   "execution_count": 74,
   "id": "4240e973",
   "metadata": {},
   "outputs": [],
   "source": [
    "df['Price (in rupees)']=imputer.fit_transform(df['Price (in rupees)'].values.reshape(-1,1))"
   ]
  },
  {
   "cell_type": "code",
   "execution_count": 75,
   "id": "295473cb",
   "metadata": {},
   "outputs": [
    {
     "data": {
      "text/plain": [
       "0"
      ]
     },
     "execution_count": 75,
     "metadata": {},
     "output_type": "execute_result"
    }
   ],
   "source": [
    "df['Price (in rupees)'].isnull().sum()"
   ]
  },
  {
   "cell_type": "code",
   "execution_count": 76,
   "id": "1c0f9890",
   "metadata": {},
   "outputs": [
    {
     "data": {
      "text/plain": [
       "72751"
      ]
     },
     "execution_count": 76,
     "metadata": {},
     "output_type": "execute_result"
    }
   ],
   "source": [
    "df['Carpet Area'].isnull().sum()"
   ]
  },
  {
   "cell_type": "code",
   "execution_count": 77,
   "id": "4fa135fb",
   "metadata": {},
   "outputs": [
    {
     "data": {
      "text/plain": [
       "(170871, 22)"
      ]
     },
     "execution_count": 77,
     "metadata": {},
     "output_type": "execute_result"
    }
   ],
   "source": [
    "df.shape"
   ]
  },
  {
   "cell_type": "code",
   "execution_count": 78,
   "id": "00f236d2",
   "metadata": {},
   "outputs": [],
   "source": [
    "df.drop(columns=['Carpet Area'],axis=1,inplace=True)"
   ]
  },
  {
   "cell_type": "code",
   "execution_count": 79,
   "id": "65e2ebd3",
   "metadata": {},
   "outputs": [
    {
     "data": {
      "text/html": [
       "<div>\n",
       "<style scoped>\n",
       "    .dataframe tbody tr th:only-of-type {\n",
       "        vertical-align: middle;\n",
       "    }\n",
       "\n",
       "    .dataframe tbody tr th {\n",
       "        vertical-align: top;\n",
       "    }\n",
       "\n",
       "    .dataframe thead th {\n",
       "        text-align: right;\n",
       "    }\n",
       "</style>\n",
       "<table border=\"1\" class=\"dataframe\">\n",
       "  <thead>\n",
       "    <tr style=\"text-align: right;\">\n",
       "      <th></th>\n",
       "      <th>Index</th>\n",
       "      <th>Title</th>\n",
       "      <th>Description</th>\n",
       "      <th>Amount(in rupees)</th>\n",
       "      <th>Price (in rupees)</th>\n",
       "      <th>location</th>\n",
       "      <th>Status</th>\n",
       "      <th>Floor</th>\n",
       "      <th>Transaction</th>\n",
       "      <th>Furnishing</th>\n",
       "      <th>...</th>\n",
       "      <th>overlooking</th>\n",
       "      <th>Society</th>\n",
       "      <th>Bathroom</th>\n",
       "      <th>Balcony</th>\n",
       "      <th>Car Parking</th>\n",
       "      <th>Ownership</th>\n",
       "      <th>Super Area</th>\n",
       "      <th>Dimensions</th>\n",
       "      <th>Plot Area</th>\n",
       "      <th>BHK</th>\n",
       "    </tr>\n",
       "  </thead>\n",
       "  <tbody>\n",
       "    <tr>\n",
       "      <th>75707</th>\n",
       "      <td>75707</td>\n",
       "      <td>3 BHK Ready to Occupy Flat for sale in Silpa P...</td>\n",
       "      <td>Discover this immaculate 3 BHK flat for sale a...</td>\n",
       "      <td>12000000.0</td>\n",
       "      <td>6522.0</td>\n",
       "      <td>hyderabad</td>\n",
       "      <td>Ready to Move</td>\n",
       "      <td>1 out of 5</td>\n",
       "      <td>Resale</td>\n",
       "      <td>Semi-Furnished</td>\n",
       "      <td>...</td>\n",
       "      <td>Garden/Park</td>\n",
       "      <td>NaN</td>\n",
       "      <td>3</td>\n",
       "      <td>NaN</td>\n",
       "      <td>NaN</td>\n",
       "      <td>NaN</td>\n",
       "      <td>1840 sqft</td>\n",
       "      <td>NaN</td>\n",
       "      <td>NaN</td>\n",
       "      <td>3</td>\n",
       "    </tr>\n",
       "    <tr>\n",
       "      <th>88877</th>\n",
       "      <td>88877</td>\n",
       "      <td>4 BHK Ready to Occupy Flat for sale Raja Park</td>\n",
       "      <td>This ready to move-in 4 BHK flat is available ...</td>\n",
       "      <td>19500000.0</td>\n",
       "      <td>7222.0</td>\n",
       "      <td>jaipur</td>\n",
       "      <td>Ready to Move</td>\n",
       "      <td>3 out of 11</td>\n",
       "      <td>Resale</td>\n",
       "      <td>Semi-Furnished</td>\n",
       "      <td>...</td>\n",
       "      <td>Pool, Main Road</td>\n",
       "      <td>NaN</td>\n",
       "      <td>4</td>\n",
       "      <td>3</td>\n",
       "      <td>1 Covered</td>\n",
       "      <td>Freehold</td>\n",
       "      <td>2700 sqft</td>\n",
       "      <td>NaN</td>\n",
       "      <td>NaN</td>\n",
       "      <td>4</td>\n",
       "    </tr>\n",
       "    <tr>\n",
       "      <th>59396</th>\n",
       "      <td>59396</td>\n",
       "      <td>2 BHK Ready to Occupy Flat for sale in Lotus H...</td>\n",
       "      <td>Have a look at this immaculate 2 BHK flat for ...</td>\n",
       "      <td>700000.0</td>\n",
       "      <td>10000.0</td>\n",
       "      <td>gurgaon</td>\n",
       "      <td>Ready to Move</td>\n",
       "      <td>8 out of 10</td>\n",
       "      <td>Resale</td>\n",
       "      <td>Semi-Furnished</td>\n",
       "      <td>...</td>\n",
       "      <td>NaN</td>\n",
       "      <td>Lotus Homz</td>\n",
       "      <td>2</td>\n",
       "      <td>2</td>\n",
       "      <td>NaN</td>\n",
       "      <td>NaN</td>\n",
       "      <td>700 sqft</td>\n",
       "      <td>NaN</td>\n",
       "      <td>NaN</td>\n",
       "      <td>2</td>\n",
       "    </tr>\n",
       "    <tr>\n",
       "      <th>26018</th>\n",
       "      <td>26018</td>\n",
       "      <td>3 BHK Ready to Occupy Flat for sale in Shriram...</td>\n",
       "      <td>This magnificent 3 BHK Flat is available for s...</td>\n",
       "      <td>850000.0</td>\n",
       "      <td>7296.0</td>\n",
       "      <td>bangalore</td>\n",
       "      <td>Ready to Move</td>\n",
       "      <td>10 out of 14</td>\n",
       "      <td>Resale</td>\n",
       "      <td>Unfurnished</td>\n",
       "      <td>...</td>\n",
       "      <td>Garden/Park, Main Road</td>\n",
       "      <td>NaN</td>\n",
       "      <td>2</td>\n",
       "      <td>2</td>\n",
       "      <td>1 Covered</td>\n",
       "      <td>Freehold</td>\n",
       "      <td>NaN</td>\n",
       "      <td>NaN</td>\n",
       "      <td>NaN</td>\n",
       "      <td>3</td>\n",
       "    </tr>\n",
       "    <tr>\n",
       "      <th>179090</th>\n",
       "      <td>179090</td>\n",
       "      <td>3 BHK Ready to Occupy Flat for sale in Raghuvi...</td>\n",
       "      <td>This exquisite 3 BHK Flat is offered for sale ...</td>\n",
       "      <td>800000.0</td>\n",
       "      <td>4322.0</td>\n",
       "      <td>surat</td>\n",
       "      <td>Ready to Move</td>\n",
       "      <td>1 out of 13</td>\n",
       "      <td>Resale</td>\n",
       "      <td>Furnished</td>\n",
       "      <td>...</td>\n",
       "      <td>Pool, Garden/Park, Main Road</td>\n",
       "      <td>Raghuvir Sentosa Heights</td>\n",
       "      <td>3</td>\n",
       "      <td>3</td>\n",
       "      <td>NaN</td>\n",
       "      <td>Co-operative Society</td>\n",
       "      <td>NaN</td>\n",
       "      <td>NaN</td>\n",
       "      <td>NaN</td>\n",
       "      <td>3</td>\n",
       "    </tr>\n",
       "  </tbody>\n",
       "</table>\n",
       "<p>5 rows × 21 columns</p>\n",
       "</div>"
      ],
      "text/plain": [
       "         Index                                              Title  \\\n",
       "75707    75707  3 BHK Ready to Occupy Flat for sale in Silpa P...   \n",
       "88877    88877      4 BHK Ready to Occupy Flat for sale Raja Park   \n",
       "59396    59396  2 BHK Ready to Occupy Flat for sale in Lotus H...   \n",
       "26018    26018  3 BHK Ready to Occupy Flat for sale in Shriram...   \n",
       "179090  179090  3 BHK Ready to Occupy Flat for sale in Raghuvi...   \n",
       "\n",
       "                                              Description  Amount(in rupees)  \\\n",
       "75707   Discover this immaculate 3 BHK flat for sale a...         12000000.0   \n",
       "88877   This ready to move-in 4 BHK flat is available ...         19500000.0   \n",
       "59396   Have a look at this immaculate 2 BHK flat for ...           700000.0   \n",
       "26018   This magnificent 3 BHK Flat is available for s...           850000.0   \n",
       "179090  This exquisite 3 BHK Flat is offered for sale ...           800000.0   \n",
       "\n",
       "        Price (in rupees)   location         Status         Floor Transaction  \\\n",
       "75707              6522.0  hyderabad  Ready to Move    1 out of 5      Resale   \n",
       "88877              7222.0     jaipur  Ready to Move   3 out of 11      Resale   \n",
       "59396             10000.0    gurgaon  Ready to Move   8 out of 10      Resale   \n",
       "26018              7296.0  bangalore  Ready to Move  10 out of 14      Resale   \n",
       "179090             4322.0      surat  Ready to Move   1 out of 13      Resale   \n",
       "\n",
       "            Furnishing  ...                   overlooking  \\\n",
       "75707   Semi-Furnished  ...                   Garden/Park   \n",
       "88877   Semi-Furnished  ...               Pool, Main Road   \n",
       "59396   Semi-Furnished  ...                           NaN   \n",
       "26018      Unfurnished  ...        Garden/Park, Main Road   \n",
       "179090       Furnished  ...  Pool, Garden/Park, Main Road   \n",
       "\n",
       "                         Society Bathroom Balcony Car Parking  \\\n",
       "75707                        NaN        3     NaN         NaN   \n",
       "88877                        NaN        4       3   1 Covered   \n",
       "59396                 Lotus Homz        2       2         NaN   \n",
       "26018                        NaN        2       2   1 Covered   \n",
       "179090  Raghuvir Sentosa Heights        3       3         NaN   \n",
       "\n",
       "                   Ownership Super Area Dimensions  Plot Area  BHK  \n",
       "75707                    NaN  1840 sqft        NaN        NaN    3  \n",
       "88877               Freehold  2700 sqft        NaN        NaN    4  \n",
       "59396                    NaN   700 sqft        NaN        NaN    2  \n",
       "26018               Freehold        NaN        NaN        NaN    3  \n",
       "179090  Co-operative Society        NaN        NaN        NaN    3  \n",
       "\n",
       "[5 rows x 21 columns]"
      ]
     },
     "execution_count": 79,
     "metadata": {},
     "output_type": "execute_result"
    }
   ],
   "source": [
    "df.sample(5)"
   ]
  },
  {
   "cell_type": "code",
   "execution_count": 80,
   "id": "a14b07e3",
   "metadata": {},
   "outputs": [
    {
     "data": {
      "text/plain": [
       "581"
      ]
     },
     "execution_count": 80,
     "metadata": {},
     "output_type": "execute_result"
    }
   ],
   "source": [
    "df['Status'].isnull().sum()"
   ]
  },
  {
   "cell_type": "code",
   "execution_count": 81,
   "id": "9f6ef42b",
   "metadata": {},
   "outputs": [],
   "source": [
    "df.dropna(subset=['Status'],inplace=True)"
   ]
  },
  {
   "cell_type": "code",
   "execution_count": 82,
   "id": "5063e8f1",
   "metadata": {},
   "outputs": [
    {
     "data": {
      "text/plain": [
       "0"
      ]
     },
     "execution_count": 82,
     "metadata": {},
     "output_type": "execute_result"
    }
   ],
   "source": [
    "df['Status'].isnull().sum()"
   ]
  },
  {
   "cell_type": "code",
   "execution_count": 83,
   "id": "a31f5f4a",
   "metadata": {},
   "outputs": [
    {
     "data": {
      "text/plain": [
       "Ready to Move    170290\n",
       "Name: Status, dtype: int64"
      ]
     },
     "execution_count": 83,
     "metadata": {},
     "output_type": "execute_result"
    }
   ],
   "source": [
    "df['Status'].value_counts()"
   ]
  },
  {
   "cell_type": "code",
   "execution_count": 84,
   "id": "77bac208",
   "metadata": {},
   "outputs": [],
   "source": [
    "df.drop(columns=['Status'],axis=1,inplace=True)"
   ]
  },
  {
   "cell_type": "code",
   "execution_count": 85,
   "id": "630663e2",
   "metadata": {},
   "outputs": [
    {
     "data": {
      "text/html": [
       "<div>\n",
       "<style scoped>\n",
       "    .dataframe tbody tr th:only-of-type {\n",
       "        vertical-align: middle;\n",
       "    }\n",
       "\n",
       "    .dataframe tbody tr th {\n",
       "        vertical-align: top;\n",
       "    }\n",
       "\n",
       "    .dataframe thead th {\n",
       "        text-align: right;\n",
       "    }\n",
       "</style>\n",
       "<table border=\"1\" class=\"dataframe\">\n",
       "  <thead>\n",
       "    <tr style=\"text-align: right;\">\n",
       "      <th></th>\n",
       "      <th>Index</th>\n",
       "      <th>Title</th>\n",
       "      <th>Description</th>\n",
       "      <th>Amount(in rupees)</th>\n",
       "      <th>Price (in rupees)</th>\n",
       "      <th>location</th>\n",
       "      <th>Floor</th>\n",
       "      <th>Transaction</th>\n",
       "      <th>Furnishing</th>\n",
       "      <th>facing</th>\n",
       "      <th>overlooking</th>\n",
       "      <th>Society</th>\n",
       "      <th>Bathroom</th>\n",
       "      <th>Balcony</th>\n",
       "      <th>Car Parking</th>\n",
       "      <th>Ownership</th>\n",
       "      <th>Super Area</th>\n",
       "      <th>Dimensions</th>\n",
       "      <th>Plot Area</th>\n",
       "      <th>BHK</th>\n",
       "    </tr>\n",
       "  </thead>\n",
       "  <tbody>\n",
       "    <tr>\n",
       "      <th>133525</th>\n",
       "      <td>133525</td>\n",
       "      <td>4 BHK Ready to Occupy Flat for sale in Hamdam ...</td>\n",
       "      <td>Up for immediate sale is a 4 BHK apartment in ...</td>\n",
       "      <td>26800000.0</td>\n",
       "      <td>11167.0</td>\n",
       "      <td>new-delhi</td>\n",
       "      <td>8 out of 10</td>\n",
       "      <td>Resale</td>\n",
       "      <td>Unfurnished</td>\n",
       "      <td>North - East</td>\n",
       "      <td>Garden/Park, Main Road</td>\n",
       "      <td>Hamdam Apartment</td>\n",
       "      <td>3</td>\n",
       "      <td>4</td>\n",
       "      <td>1 Covered,</td>\n",
       "      <td>Freehold</td>\n",
       "      <td>NaN</td>\n",
       "      <td>NaN</td>\n",
       "      <td>NaN</td>\n",
       "      <td>4</td>\n",
       "    </tr>\n",
       "    <tr>\n",
       "      <th>115799</th>\n",
       "      <td>115799</td>\n",
       "      <td>3 BHK Ready to Occupy Flat for sale Pochanpur ...</td>\n",
       "      <td>Up for immediate sale is a 3 BHK apartment in ...</td>\n",
       "      <td>650000.0</td>\n",
       "      <td>5000.0</td>\n",
       "      <td>new-delhi</td>\n",
       "      <td>1 out of 5</td>\n",
       "      <td>Resale</td>\n",
       "      <td>Furnished</td>\n",
       "      <td>NaN</td>\n",
       "      <td>NaN</td>\n",
       "      <td>NaN</td>\n",
       "      <td>2</td>\n",
       "      <td>NaN</td>\n",
       "      <td>NaN</td>\n",
       "      <td>NaN</td>\n",
       "      <td>1300 sqft</td>\n",
       "      <td>NaN</td>\n",
       "      <td>NaN</td>\n",
       "      <td>3</td>\n",
       "    </tr>\n",
       "    <tr>\n",
       "      <th>134816</th>\n",
       "      <td>134816</td>\n",
       "      <td>4 BHK Ready to Occupy Flat for sale Janakpuri ...</td>\n",
       "      <td>This gorgeous 4 BHK Flat is available for sale...</td>\n",
       "      <td>43500000.0</td>\n",
       "      <td>21481.0</td>\n",
       "      <td>new-delhi</td>\n",
       "      <td>2 out of 4</td>\n",
       "      <td>New Property</td>\n",
       "      <td>Semi-Furnished</td>\n",
       "      <td>East</td>\n",
       "      <td>Garden/Park</td>\n",
       "      <td>NaN</td>\n",
       "      <td>4</td>\n",
       "      <td>2</td>\n",
       "      <td>2 Covered,</td>\n",
       "      <td>Freehold</td>\n",
       "      <td>NaN</td>\n",
       "      <td>NaN</td>\n",
       "      <td>NaN</td>\n",
       "      <td>4</td>\n",
       "    </tr>\n",
       "    <tr>\n",
       "      <th>182743</th>\n",
       "      <td>182743</td>\n",
       "      <td>3 BHK Ready to Occupy Flat for sale in Nilambe...</td>\n",
       "      <td>This gorgeous 3 BHK Flat is available for sale...</td>\n",
       "      <td>900000.0</td>\n",
       "      <td>4390.0</td>\n",
       "      <td>vadodara</td>\n",
       "      <td>8 out of 10</td>\n",
       "      <td>Resale</td>\n",
       "      <td>Furnished</td>\n",
       "      <td>East</td>\n",
       "      <td>Main Road</td>\n",
       "      <td>Nilamber Edifice</td>\n",
       "      <td>3</td>\n",
       "      <td>2</td>\n",
       "      <td>1 Covered</td>\n",
       "      <td>Freehold</td>\n",
       "      <td>NaN</td>\n",
       "      <td>NaN</td>\n",
       "      <td>NaN</td>\n",
       "      <td>3</td>\n",
       "    </tr>\n",
       "    <tr>\n",
       "      <th>135210</th>\n",
       "      <td>135210</td>\n",
       "      <td>3 BHK Ready to Occupy Flat for sale in East of...</td>\n",
       "      <td>East Of Kailash Block B, New Delhi has an appe...</td>\n",
       "      <td>23500000.0</td>\n",
       "      <td>20435.0</td>\n",
       "      <td>new-delhi</td>\n",
       "      <td>1 out of 4</td>\n",
       "      <td>New Property</td>\n",
       "      <td>Semi-Furnished</td>\n",
       "      <td>NaN</td>\n",
       "      <td>NaN</td>\n",
       "      <td>East of Kailash</td>\n",
       "      <td>3</td>\n",
       "      <td>2</td>\n",
       "      <td>NaN</td>\n",
       "      <td>NaN</td>\n",
       "      <td>NaN</td>\n",
       "      <td>NaN</td>\n",
       "      <td>NaN</td>\n",
       "      <td>3</td>\n",
       "    </tr>\n",
       "  </tbody>\n",
       "</table>\n",
       "</div>"
      ],
      "text/plain": [
       "         Index                                              Title  \\\n",
       "133525  133525  4 BHK Ready to Occupy Flat for sale in Hamdam ...   \n",
       "115799  115799  3 BHK Ready to Occupy Flat for sale Pochanpur ...   \n",
       "134816  134816  4 BHK Ready to Occupy Flat for sale Janakpuri ...   \n",
       "182743  182743  3 BHK Ready to Occupy Flat for sale in Nilambe...   \n",
       "135210  135210  3 BHK Ready to Occupy Flat for sale in East of...   \n",
       "\n",
       "                                              Description  Amount(in rupees)  \\\n",
       "133525  Up for immediate sale is a 4 BHK apartment in ...         26800000.0   \n",
       "115799  Up for immediate sale is a 3 BHK apartment in ...           650000.0   \n",
       "134816  This gorgeous 4 BHK Flat is available for sale...         43500000.0   \n",
       "182743  This gorgeous 3 BHK Flat is available for sale...           900000.0   \n",
       "135210  East Of Kailash Block B, New Delhi has an appe...         23500000.0   \n",
       "\n",
       "        Price (in rupees)   location        Floor   Transaction  \\\n",
       "133525            11167.0  new-delhi  8 out of 10        Resale   \n",
       "115799             5000.0  new-delhi   1 out of 5        Resale   \n",
       "134816            21481.0  new-delhi   2 out of 4  New Property   \n",
       "182743             4390.0   vadodara  8 out of 10        Resale   \n",
       "135210            20435.0  new-delhi   1 out of 4  New Property   \n",
       "\n",
       "            Furnishing        facing             overlooking  \\\n",
       "133525     Unfurnished  North - East  Garden/Park, Main Road   \n",
       "115799       Furnished           NaN                     NaN   \n",
       "134816  Semi-Furnished          East             Garden/Park   \n",
       "182743       Furnished          East               Main Road   \n",
       "135210  Semi-Furnished           NaN                     NaN   \n",
       "\n",
       "                 Society Bathroom Balcony Car Parking Ownership Super Area  \\\n",
       "133525  Hamdam Apartment        3       4  1 Covered,  Freehold        NaN   \n",
       "115799               NaN        2     NaN         NaN       NaN  1300 sqft   \n",
       "134816               NaN        4       2  2 Covered,  Freehold        NaN   \n",
       "182743  Nilamber Edifice        3       2   1 Covered  Freehold        NaN   \n",
       "135210   East of Kailash        3       2         NaN       NaN        NaN   \n",
       "\n",
       "        Dimensions  Plot Area  BHK  \n",
       "133525         NaN        NaN    4  \n",
       "115799         NaN        NaN    3  \n",
       "134816         NaN        NaN    4  \n",
       "182743         NaN        NaN    3  \n",
       "135210         NaN        NaN    3  "
      ]
     },
     "execution_count": 85,
     "metadata": {},
     "output_type": "execute_result"
    }
   ],
   "source": [
    "df.sample(5)"
   ]
  },
  {
   "cell_type": "code",
   "execution_count": 86,
   "id": "92c44708",
   "metadata": {},
   "outputs": [
    {
     "data": {
      "text/plain": [
       "1 out of 4      11395\n",
       "2 out of 4      11006\n",
       "3 out of 4       7431\n",
       "1 out of 3       6658\n",
       "4 out of 4       5534\n",
       "                ...  \n",
       "30 out of 35        1\n",
       "23 out of 36        1\n",
       "14 out of 34        1\n",
       "34 out of 42        1\n",
       "7 out of 41         1\n",
       "Name: Floor, Length: 923, dtype: int64"
      ]
     },
     "execution_count": 86,
     "metadata": {},
     "output_type": "execute_result"
    }
   ],
   "source": [
    "df['Floor'].value_counts()"
   ]
  },
  {
   "cell_type": "code",
   "execution_count": 87,
   "id": "d9d60d6e",
   "metadata": {},
   "outputs": [
    {
     "data": {
      "text/plain": [
       "6624"
      ]
     },
     "execution_count": 87,
     "metadata": {},
     "output_type": "execute_result"
    }
   ],
   "source": [
    "df['Floor'].isnull().sum()"
   ]
  },
  {
   "cell_type": "code",
   "execution_count": 88,
   "id": "f435ea65",
   "metadata": {},
   "outputs": [],
   "source": [
    "df.dropna(subset=['Floor'],inplace=True)"
   ]
  },
  {
   "cell_type": "code",
   "execution_count": 89,
   "id": "4cb385d8",
   "metadata": {},
   "outputs": [
    {
     "data": {
      "text/plain": [
       "0"
      ]
     },
     "execution_count": 89,
     "metadata": {},
     "output_type": "execute_result"
    }
   ],
   "source": [
    "df['Floor'].isnull().sum()"
   ]
  },
  {
   "cell_type": "code",
   "execution_count": 90,
   "id": "c9377066",
   "metadata": {},
   "outputs": [
    {
     "data": {
      "text/plain": [
       "['10 ', ' of 11']"
      ]
     },
     "execution_count": 90,
     "metadata": {},
     "output_type": "execute_result"
    }
   ],
   "source": [
    "df['Floor'][0].split('out')"
   ]
  },
  {
   "cell_type": "code",
   "execution_count": 91,
   "id": "dc5ff705",
   "metadata": {},
   "outputs": [
    {
     "data": {
      "text/plain": [
       "'10'"
      ]
     },
     "execution_count": 91,
     "metadata": {},
     "output_type": "execute_result"
    }
   ],
   "source": [
    "df['Floor'][0].split('out')[0].strip()"
   ]
  },
  {
   "cell_type": "code",
   "execution_count": 92,
   "id": "2daf4cde",
   "metadata": {},
   "outputs": [],
   "source": [
    "df=df[df['Floor'].apply(lambda x: isinstance(x,str))]"
   ]
  },
  {
   "cell_type": "code",
   "execution_count": 93,
   "id": "bc575fcd",
   "metadata": {},
   "outputs": [],
   "source": [
    "def floor(text):\n",
    "    return text.split('out')[0].strip()"
   ]
  },
  {
   "cell_type": "code",
   "execution_count": 94,
   "id": "5b90a1fb",
   "metadata": {},
   "outputs": [],
   "source": [
    "df['Floor']=df['Floor'].apply(floor)"
   ]
  },
  {
   "cell_type": "code",
   "execution_count": 95,
   "id": "4435bb4e",
   "metadata": {},
   "outputs": [
    {
     "data": {
      "text/plain": [
       "dtype('O')"
      ]
     },
     "execution_count": 95,
     "metadata": {},
     "output_type": "execute_result"
    }
   ],
   "source": [
    "df['Floor'].dtype"
   ]
  },
  {
   "cell_type": "code",
   "execution_count": 96,
   "id": "14407565",
   "metadata": {},
   "outputs": [
    {
     "data": {
      "text/html": [
       "<div>\n",
       "<style scoped>\n",
       "    .dataframe tbody tr th:only-of-type {\n",
       "        vertical-align: middle;\n",
       "    }\n",
       "\n",
       "    .dataframe tbody tr th {\n",
       "        vertical-align: top;\n",
       "    }\n",
       "\n",
       "    .dataframe thead th {\n",
       "        text-align: right;\n",
       "    }\n",
       "</style>\n",
       "<table border=\"1\" class=\"dataframe\">\n",
       "  <thead>\n",
       "    <tr style=\"text-align: right;\">\n",
       "      <th></th>\n",
       "      <th>Index</th>\n",
       "      <th>Title</th>\n",
       "      <th>Description</th>\n",
       "      <th>Amount(in rupees)</th>\n",
       "      <th>Price (in rupees)</th>\n",
       "      <th>location</th>\n",
       "      <th>Floor</th>\n",
       "      <th>Transaction</th>\n",
       "      <th>Furnishing</th>\n",
       "      <th>facing</th>\n",
       "      <th>overlooking</th>\n",
       "      <th>Society</th>\n",
       "      <th>Bathroom</th>\n",
       "      <th>Balcony</th>\n",
       "      <th>Car Parking</th>\n",
       "      <th>Ownership</th>\n",
       "      <th>Super Area</th>\n",
       "      <th>Dimensions</th>\n",
       "      <th>Plot Area</th>\n",
       "      <th>BHK</th>\n",
       "    </tr>\n",
       "  </thead>\n",
       "  <tbody>\n",
       "    <tr>\n",
       "      <th>61567</th>\n",
       "      <td>61567</td>\n",
       "      <td>3 BHK Ready to Occupy Flat for sale in orchid ...</td>\n",
       "      <td>Up for immediate sale is a 3 BHK apartment in ...</td>\n",
       "      <td>17500000.0</td>\n",
       "      <td>9695.0</td>\n",
       "      <td>gurgaon</td>\n",
       "      <td>5</td>\n",
       "      <td>Resale</td>\n",
       "      <td>Unfurnished</td>\n",
       "      <td>NaN</td>\n",
       "      <td>NaN</td>\n",
       "      <td>orchid petals</td>\n",
       "      <td>3</td>\n",
       "      <td>3</td>\n",
       "      <td>NaN</td>\n",
       "      <td>NaN</td>\n",
       "      <td>NaN</td>\n",
       "      <td>NaN</td>\n",
       "      <td>NaN</td>\n",
       "      <td>3</td>\n",
       "    </tr>\n",
       "    <tr>\n",
       "      <th>39372</th>\n",
       "      <td>39372</td>\n",
       "      <td>2 BHK Ready to Occupy Flat for sale HAL 2nd St...</td>\n",
       "      <td>Carefully laid out in the prime location of HA...</td>\n",
       "      <td>13000000.0</td>\n",
       "      <td>11818.0</td>\n",
       "      <td>bangalore</td>\n",
       "      <td>2</td>\n",
       "      <td>New Property</td>\n",
       "      <td>Unfurnished</td>\n",
       "      <td>East</td>\n",
       "      <td>NaN</td>\n",
       "      <td>NaN</td>\n",
       "      <td>2</td>\n",
       "      <td>1</td>\n",
       "      <td>1 Covered</td>\n",
       "      <td>Freehold</td>\n",
       "      <td>NaN</td>\n",
       "      <td>NaN</td>\n",
       "      <td>NaN</td>\n",
       "      <td>2</td>\n",
       "    </tr>\n",
       "    <tr>\n",
       "      <th>153804</th>\n",
       "      <td>153804</td>\n",
       "      <td>2 BHK Ready to Occupy Flat for sale in Aviral ...</td>\n",
       "      <td>This ready to move-in 2 BHK flat is available ...</td>\n",
       "      <td>646000.0</td>\n",
       "      <td>4900.0</td>\n",
       "      <td>dehradun</td>\n",
       "      <td>3</td>\n",
       "      <td>New Property</td>\n",
       "      <td>Semi-Furnished</td>\n",
       "      <td>NaN</td>\n",
       "      <td>NaN</td>\n",
       "      <td>Aviral Greens</td>\n",
       "      <td>2</td>\n",
       "      <td>NaN</td>\n",
       "      <td>NaN</td>\n",
       "      <td>NaN</td>\n",
       "      <td>1319 sqft</td>\n",
       "      <td>NaN</td>\n",
       "      <td>NaN</td>\n",
       "      <td>2</td>\n",
       "    </tr>\n",
       "    <tr>\n",
       "      <th>47441</th>\n",
       "      <td>47441</td>\n",
       "      <td>3 BHK Ready to Occupy Flat for sale in Jain Su...</td>\n",
       "      <td>Up for immediate sale is a 3 BHK apartment in ...</td>\n",
       "      <td>800000.0</td>\n",
       "      <td>5517.0</td>\n",
       "      <td>chennai</td>\n",
       "      <td>1</td>\n",
       "      <td>Resale</td>\n",
       "      <td>Furnished</td>\n",
       "      <td>NaN</td>\n",
       "      <td>NaN</td>\n",
       "      <td>NaN</td>\n",
       "      <td>3</td>\n",
       "      <td>2</td>\n",
       "      <td>NaN</td>\n",
       "      <td>NaN</td>\n",
       "      <td>1450 sqft</td>\n",
       "      <td>NaN</td>\n",
       "      <td>NaN</td>\n",
       "      <td>3</td>\n",
       "    </tr>\n",
       "    <tr>\n",
       "      <th>42661</th>\n",
       "      <td>42661</td>\n",
       "      <td>2 BHK Ready to Occupy Flat for sale in Sri Vas...</td>\n",
       "      <td>This magnificent 2 BHK Flat is available for s...</td>\n",
       "      <td>450000.0</td>\n",
       "      <td>4956.0</td>\n",
       "      <td>chennai</td>\n",
       "      <td>2</td>\n",
       "      <td>Resale</td>\n",
       "      <td>Semi-Furnished</td>\n",
       "      <td>South</td>\n",
       "      <td>Garden/Park</td>\n",
       "      <td>NaN</td>\n",
       "      <td>2</td>\n",
       "      <td>2</td>\n",
       "      <td>1 Covered</td>\n",
       "      <td>Freehold</td>\n",
       "      <td>NaN</td>\n",
       "      <td>NaN</td>\n",
       "      <td>NaN</td>\n",
       "      <td>2</td>\n",
       "    </tr>\n",
       "  </tbody>\n",
       "</table>\n",
       "</div>"
      ],
      "text/plain": [
       "         Index                                              Title  \\\n",
       "61567    61567  3 BHK Ready to Occupy Flat for sale in orchid ...   \n",
       "39372    39372  2 BHK Ready to Occupy Flat for sale HAL 2nd St...   \n",
       "153804  153804  2 BHK Ready to Occupy Flat for sale in Aviral ...   \n",
       "47441    47441  3 BHK Ready to Occupy Flat for sale in Jain Su...   \n",
       "42661    42661  2 BHK Ready to Occupy Flat for sale in Sri Vas...   \n",
       "\n",
       "                                              Description  Amount(in rupees)  \\\n",
       "61567   Up for immediate sale is a 3 BHK apartment in ...         17500000.0   \n",
       "39372   Carefully laid out in the prime location of HA...         13000000.0   \n",
       "153804  This ready to move-in 2 BHK flat is available ...           646000.0   \n",
       "47441   Up for immediate sale is a 3 BHK apartment in ...           800000.0   \n",
       "42661   This magnificent 2 BHK Flat is available for s...           450000.0   \n",
       "\n",
       "        Price (in rupees)   location Floor   Transaction      Furnishing  \\\n",
       "61567              9695.0    gurgaon     5        Resale     Unfurnished   \n",
       "39372             11818.0  bangalore     2  New Property     Unfurnished   \n",
       "153804             4900.0   dehradun     3  New Property  Semi-Furnished   \n",
       "47441              5517.0    chennai     1        Resale       Furnished   \n",
       "42661              4956.0    chennai     2        Resale  Semi-Furnished   \n",
       "\n",
       "       facing  overlooking        Society Bathroom Balcony Car Parking  \\\n",
       "61567     NaN          NaN  orchid petals        3       3         NaN   \n",
       "39372    East          NaN            NaN        2       1   1 Covered   \n",
       "153804    NaN          NaN  Aviral Greens        2     NaN         NaN   \n",
       "47441     NaN          NaN            NaN        3       2         NaN   \n",
       "42661   South  Garden/Park            NaN        2       2   1 Covered   \n",
       "\n",
       "       Ownership Super Area  Dimensions  Plot Area  BHK  \n",
       "61567        NaN        NaN         NaN        NaN    3  \n",
       "39372   Freehold        NaN         NaN        NaN    2  \n",
       "153804       NaN  1319 sqft         NaN        NaN    2  \n",
       "47441        NaN  1450 sqft         NaN        NaN    3  \n",
       "42661   Freehold        NaN         NaN        NaN    2  "
      ]
     },
     "execution_count": 96,
     "metadata": {},
     "output_type": "execute_result"
    }
   ],
   "source": [
    "df.sample(5)"
   ]
  },
  {
   "cell_type": "code",
   "execution_count": 97,
   "id": "af912d65",
   "metadata": {},
   "outputs": [
    {
     "data": {
      "text/plain": [
       "1                 29623\n",
       "2                 29310\n",
       "3                 23709\n",
       "4                 16432\n",
       "5                 11343\n",
       "Ground            10058\n",
       "6                  6597\n",
       "7                  6415\n",
       "8                  5079\n",
       "10                 4916\n",
       "12                 3743\n",
       "11                 2969\n",
       "9                  2856\n",
       "15                 1605\n",
       "14                 1572\n",
       "18                 1185\n",
       "16                 1163\n",
       "13                  986\n",
       "17                  963\n",
       "19                  876\n",
       "32                  721\n",
       "20                  330\n",
       "21                  255\n",
       "Upper Basement      178\n",
       "23                  140\n",
       "22                   95\n",
       "Lower Basement       92\n",
       "25                   90\n",
       "24                   75\n",
       "26                   60\n",
       "28                   50\n",
       "30                   44\n",
       "27                   31\n",
       "29                   22\n",
       "33                   12\n",
       "31                   11\n",
       "35                   11\n",
       "34                   10\n",
       "40                    8\n",
       "38                    5\n",
       "42                    4\n",
       "60                    4\n",
       "37                    3\n",
       "39                    3\n",
       "45                    3\n",
       "44                    2\n",
       "36                    2\n",
       "59                    2\n",
       "51                    2\n",
       "200                   1\n",
       "Name: Floor, dtype: int64"
      ]
     },
     "execution_count": 97,
     "metadata": {},
     "output_type": "execute_result"
    }
   ],
   "source": [
    "df['Floor'].value_counts()"
   ]
  },
  {
   "cell_type": "code",
   "execution_count": 98,
   "id": "8b78380e",
   "metadata": {},
   "outputs": [],
   "source": [
    "def floor2(text):\n",
    "    if 'Ground' in text:\n",
    "        return '0'\n",
    "    elif 'Upper Basement' in text:\n",
    "        return '-1'\n",
    "    elif 'Lower Basement' in text:\n",
    "        return '-2'\n",
    "    else:\n",
    "        return text"
   ]
  },
  {
   "cell_type": "code",
   "execution_count": 99,
   "id": "e0b85bca",
   "metadata": {},
   "outputs": [],
   "source": [
    "df['Floor']=df['Floor'].apply(floor2)"
   ]
  },
  {
   "cell_type": "code",
   "execution_count": 100,
   "id": "322b005f",
   "metadata": {},
   "outputs": [],
   "source": [
    "val=['-1','-2']\n",
    "for i in val:\n",
    "    df=df[df['Floor']!=i]"
   ]
  },
  {
   "cell_type": "code",
   "execution_count": 101,
   "id": "38c9336e",
   "metadata": {},
   "outputs": [
    {
     "data": {
      "text/plain": [
       "1      29623\n",
       "2      29310\n",
       "3      23709\n",
       "4      16432\n",
       "5      11343\n",
       "0      10058\n",
       "6       6597\n",
       "7       6415\n",
       "8       5079\n",
       "10      4916\n",
       "12      3743\n",
       "11      2969\n",
       "9       2856\n",
       "15      1605\n",
       "14      1572\n",
       "18      1185\n",
       "16      1163\n",
       "13       986\n",
       "17       963\n",
       "19       876\n",
       "32       721\n",
       "20       330\n",
       "21       255\n",
       "23       140\n",
       "22        95\n",
       "25        90\n",
       "24        75\n",
       "26        60\n",
       "28        50\n",
       "30        44\n",
       "27        31\n",
       "29        22\n",
       "33        12\n",
       "31        11\n",
       "35        11\n",
       "34        10\n",
       "40         8\n",
       "38         5\n",
       "42         4\n",
       "60         4\n",
       "37         3\n",
       "39         3\n",
       "45         3\n",
       "44         2\n",
       "36         2\n",
       "59         2\n",
       "51         2\n",
       "200        1\n",
       "Name: Floor, dtype: int64"
      ]
     },
     "execution_count": 101,
     "metadata": {},
     "output_type": "execute_result"
    }
   ],
   "source": [
    "df['Floor'].value_counts()"
   ]
  },
  {
   "cell_type": "code",
   "execution_count": 102,
   "id": "7c88b8f9",
   "metadata": {},
   "outputs": [],
   "source": [
    "df['Floor']=df['Floor'].astype('int')"
   ]
  },
  {
   "cell_type": "code",
   "execution_count": 103,
   "id": "aa29077d",
   "metadata": {},
   "outputs": [
    {
     "data": {
      "text/html": [
       "<div>\n",
       "<style scoped>\n",
       "    .dataframe tbody tr th:only-of-type {\n",
       "        vertical-align: middle;\n",
       "    }\n",
       "\n",
       "    .dataframe tbody tr th {\n",
       "        vertical-align: top;\n",
       "    }\n",
       "\n",
       "    .dataframe thead th {\n",
       "        text-align: right;\n",
       "    }\n",
       "</style>\n",
       "<table border=\"1\" class=\"dataframe\">\n",
       "  <thead>\n",
       "    <tr style=\"text-align: right;\">\n",
       "      <th></th>\n",
       "      <th>Index</th>\n",
       "      <th>Title</th>\n",
       "      <th>Description</th>\n",
       "      <th>Amount(in rupees)</th>\n",
       "      <th>Price (in rupees)</th>\n",
       "      <th>location</th>\n",
       "      <th>Floor</th>\n",
       "      <th>Transaction</th>\n",
       "      <th>Furnishing</th>\n",
       "      <th>facing</th>\n",
       "      <th>overlooking</th>\n",
       "      <th>Society</th>\n",
       "      <th>Bathroom</th>\n",
       "      <th>Balcony</th>\n",
       "      <th>Car Parking</th>\n",
       "      <th>Ownership</th>\n",
       "      <th>Super Area</th>\n",
       "      <th>Dimensions</th>\n",
       "      <th>Plot Area</th>\n",
       "      <th>BHK</th>\n",
       "    </tr>\n",
       "  </thead>\n",
       "  <tbody>\n",
       "    <tr>\n",
       "      <th>89057</th>\n",
       "      <td>89057</td>\n",
       "      <td>4 BHK Ready to Occupy Flat for sale Raja Park</td>\n",
       "      <td>This ready to move-in 4 BHK flat is available ...</td>\n",
       "      <td>19500000.0</td>\n",
       "      <td>7222.0</td>\n",
       "      <td>jaipur</td>\n",
       "      <td>3</td>\n",
       "      <td>Resale</td>\n",
       "      <td>Semi-Furnished</td>\n",
       "      <td>West</td>\n",
       "      <td>Pool, Main Road</td>\n",
       "      <td>NaN</td>\n",
       "      <td>4</td>\n",
       "      <td>3</td>\n",
       "      <td>1 Covered</td>\n",
       "      <td>Freehold</td>\n",
       "      <td>2700 sqft</td>\n",
       "      <td>NaN</td>\n",
       "      <td>NaN</td>\n",
       "      <td>4</td>\n",
       "    </tr>\n",
       "    <tr>\n",
       "      <th>22005</th>\n",
       "      <td>22005</td>\n",
       "      <td>2 BHK Ready to Occupy Flat for sale in Jai Gar...</td>\n",
       "      <td>Up for immediate sale is a 2 BHK apartment in ...</td>\n",
       "      <td>830000.0</td>\n",
       "      <td>6854.0</td>\n",
       "      <td>bangalore</td>\n",
       "      <td>4</td>\n",
       "      <td>Resale</td>\n",
       "      <td>Unfurnished</td>\n",
       "      <td>North</td>\n",
       "      <td>Garden/Park, Pool, Main Road</td>\n",
       "      <td>NaN</td>\n",
       "      <td>2</td>\n",
       "      <td>2</td>\n",
       "      <td>NaN</td>\n",
       "      <td>Freehold</td>\n",
       "      <td>NaN</td>\n",
       "      <td>NaN</td>\n",
       "      <td>NaN</td>\n",
       "      <td>2</td>\n",
       "    </tr>\n",
       "    <tr>\n",
       "      <th>156206</th>\n",
       "      <td>156206</td>\n",
       "      <td>3 BHK Ready to Occupy Flat for sale in Adore H...</td>\n",
       "      <td>Sector 86, Faridabad has an appealing 3 BHK fl...</td>\n",
       "      <td>360000.0</td>\n",
       "      <td>3600.0</td>\n",
       "      <td>faridabad</td>\n",
       "      <td>5</td>\n",
       "      <td>Resale</td>\n",
       "      <td>Unfurnished</td>\n",
       "      <td>North</td>\n",
       "      <td>Main Road</td>\n",
       "      <td>Adore Happy Homes Exclusive phase 2</td>\n",
       "      <td>2</td>\n",
       "      <td>3</td>\n",
       "      <td>1 Open</td>\n",
       "      <td>Freehold</td>\n",
       "      <td>NaN</td>\n",
       "      <td>NaN</td>\n",
       "      <td>NaN</td>\n",
       "      <td>3</td>\n",
       "    </tr>\n",
       "    <tr>\n",
       "      <th>70477</th>\n",
       "      <td>70477</td>\n",
       "      <td>3 BHK Ready to Occupy Flat for sale INDRAPRAST...</td>\n",
       "      <td>Discover this immaculate 3 BHK flat for sale a...</td>\n",
       "      <td>780000.0</td>\n",
       "      <td>5673.0</td>\n",
       "      <td>hyderabad</td>\n",
       "      <td>2</td>\n",
       "      <td>Resale</td>\n",
       "      <td>Unfurnished</td>\n",
       "      <td>NaN</td>\n",
       "      <td>NaN</td>\n",
       "      <td>NaN</td>\n",
       "      <td>2</td>\n",
       "      <td>1</td>\n",
       "      <td>NaN</td>\n",
       "      <td>NaN</td>\n",
       "      <td>1375 sqft</td>\n",
       "      <td>NaN</td>\n",
       "      <td>NaN</td>\n",
       "      <td>3</td>\n",
       "    </tr>\n",
       "    <tr>\n",
       "      <th>9297</th>\n",
       "      <td>9297</td>\n",
       "      <td>3 BHK Ready to Occupy Flat for sale Jagatpur</td>\n",
       "      <td>This ready to move-in 3 BHK flat is available ...</td>\n",
       "      <td>640000.0</td>\n",
       "      <td>3647.0</td>\n",
       "      <td>ahmedabad</td>\n",
       "      <td>5</td>\n",
       "      <td>Resale</td>\n",
       "      <td>Unfurnished</td>\n",
       "      <td>NaN</td>\n",
       "      <td>NaN</td>\n",
       "      <td>NaN</td>\n",
       "      <td>3</td>\n",
       "      <td>NaN</td>\n",
       "      <td>NaN</td>\n",
       "      <td>NaN</td>\n",
       "      <td>1755 sqft</td>\n",
       "      <td>NaN</td>\n",
       "      <td>NaN</td>\n",
       "      <td>3</td>\n",
       "    </tr>\n",
       "  </tbody>\n",
       "</table>\n",
       "</div>"
      ],
      "text/plain": [
       "         Index                                              Title  \\\n",
       "89057    89057      4 BHK Ready to Occupy Flat for sale Raja Park   \n",
       "22005    22005  2 BHK Ready to Occupy Flat for sale in Jai Gar...   \n",
       "156206  156206  3 BHK Ready to Occupy Flat for sale in Adore H...   \n",
       "70477    70477  3 BHK Ready to Occupy Flat for sale INDRAPRAST...   \n",
       "9297      9297       3 BHK Ready to Occupy Flat for sale Jagatpur   \n",
       "\n",
       "                                              Description  Amount(in rupees)  \\\n",
       "89057   This ready to move-in 4 BHK flat is available ...         19500000.0   \n",
       "22005   Up for immediate sale is a 2 BHK apartment in ...           830000.0   \n",
       "156206  Sector 86, Faridabad has an appealing 3 BHK fl...           360000.0   \n",
       "70477   Discover this immaculate 3 BHK flat for sale a...           780000.0   \n",
       "9297    This ready to move-in 3 BHK flat is available ...           640000.0   \n",
       "\n",
       "        Price (in rupees)   location  Floor Transaction      Furnishing  \\\n",
       "89057              7222.0     jaipur      3      Resale  Semi-Furnished   \n",
       "22005              6854.0  bangalore      4      Resale     Unfurnished   \n",
       "156206             3600.0  faridabad      5      Resale     Unfurnished   \n",
       "70477              5673.0  hyderabad      2      Resale     Unfurnished   \n",
       "9297               3647.0  ahmedabad      5      Resale     Unfurnished   \n",
       "\n",
       "       facing                   overlooking  \\\n",
       "89057    West               Pool, Main Road   \n",
       "22005   North  Garden/Park, Pool, Main Road   \n",
       "156206  North                     Main Road   \n",
       "70477     NaN                           NaN   \n",
       "9297      NaN                           NaN   \n",
       "\n",
       "                                    Society Bathroom Balcony Car Parking  \\\n",
       "89057                                   NaN        4       3   1 Covered   \n",
       "22005                                   NaN        2       2         NaN   \n",
       "156206  Adore Happy Homes Exclusive phase 2        2       3      1 Open   \n",
       "70477                                   NaN        2       1         NaN   \n",
       "9297                                    NaN        3     NaN         NaN   \n",
       "\n",
       "       Ownership Super Area  Dimensions  Plot Area  BHK  \n",
       "89057   Freehold  2700 sqft         NaN        NaN    4  \n",
       "22005   Freehold        NaN         NaN        NaN    2  \n",
       "156206  Freehold        NaN         NaN        NaN    3  \n",
       "70477        NaN  1375 sqft         NaN        NaN    3  \n",
       "9297         NaN  1755 sqft         NaN        NaN    3  "
      ]
     },
     "execution_count": 103,
     "metadata": {},
     "output_type": "execute_result"
    }
   ],
   "source": [
    "df.sample(5)"
   ]
  },
  {
   "cell_type": "code",
   "execution_count": 104,
   "id": "d15722c5",
   "metadata": {},
   "outputs": [
    {
     "data": {
      "text/plain": [
       "57"
      ]
     },
     "execution_count": 104,
     "metadata": {},
     "output_type": "execute_result"
    }
   ],
   "source": [
    "df['Transaction'].isnull().sum()"
   ]
  },
  {
   "cell_type": "code",
   "execution_count": 105,
   "id": "b830f8c5",
   "metadata": {},
   "outputs": [],
   "source": [
    "df.dropna(subset=['Transaction'],inplace=True)"
   ]
  },
  {
   "cell_type": "code",
   "execution_count": 106,
   "id": "9335f256",
   "metadata": {},
   "outputs": [
    {
     "data": {
      "text/plain": [
       "0"
      ]
     },
     "execution_count": 106,
     "metadata": {},
     "output_type": "execute_result"
    }
   ],
   "source": [
    "df['Transaction'].isnull().sum()"
   ]
  },
  {
   "cell_type": "code",
   "execution_count": 107,
   "id": "83f1be59",
   "metadata": {},
   "outputs": [
    {
     "data": {
      "text/plain": [
       "Resale          126634\n",
       "New Property     36003\n",
       "Other              702\n",
       "Name: Transaction, dtype: int64"
      ]
     },
     "execution_count": 107,
     "metadata": {},
     "output_type": "execute_result"
    }
   ],
   "source": [
    "df['Transaction'].value_counts()"
   ]
  },
  {
   "cell_type": "code",
   "execution_count": 108,
   "id": "aac4262a",
   "metadata": {},
   "outputs": [
    {
     "data": {
      "image/png": "[encoded data removed]",
      "text/plain": [
       "<Figure size 648x504 with 1 Axes>"
      ]
     },
     "metadata": {
      "needs_background": "light"
     },
     "output_type": "display_data"
    }
   ],
   "source": [
    "plt.figure(figsize=(9,7))\n",
    "df['Transaction'].value_counts().plot(kind='bar')\n",
    "plt.show()"
   ]
  },
  {
   "cell_type": "code",
   "execution_count": 109,
   "id": "ebe3049f",
   "metadata": {},
   "outputs": [
    {
     "data": {
      "text/plain": [
       "Semi-Furnished    78658\n",
       "Unfurnished       65335\n",
       "Furnished         18077\n",
       "Name: Furnishing, dtype: int64"
      ]
     },
     "execution_count": 109,
     "metadata": {},
     "output_type": "execute_result"
    }
   ],
   "source": [
    "df['Furnishing'].value_counts()"
   ]
  },
  {
   "cell_type": "code",
   "execution_count": 110,
   "id": "ca918c5a",
   "metadata": {},
   "outputs": [
    {
     "data": {
      "text/plain": [
       "1269"
      ]
     },
     "execution_count": 110,
     "metadata": {},
     "output_type": "execute_result"
    }
   ],
   "source": [
    "df['Furnishing'].isnull().sum()"
   ]
  },
  {
   "cell_type": "code",
   "execution_count": 111,
   "id": "9e0afd75",
   "metadata": {},
   "outputs": [],
   "source": [
    "df.dropna(subset=['Furnishing'],inplace=True)"
   ]
  },
  {
   "cell_type": "code",
   "execution_count": 112,
   "id": "cfd23f3a",
   "metadata": {},
   "outputs": [
    {
     "data": {
      "text/plain": [
       "0"
      ]
     },
     "execution_count": 112,
     "metadata": {},
     "output_type": "execute_result"
    }
   ],
   "source": [
    "df['Furnishing'].isnull().sum()"
   ]
  },
  {
   "cell_type": "code",
   "execution_count": 113,
   "id": "e0035389",
   "metadata": {},
   "outputs": [
    {
     "data": {
      "image/png": "[encoded data removed]",
      "text/plain": [
       "<Figure size 648x504 with 1 Axes>"
      ]
     },
     "metadata": {
      "needs_background": "light"
     },
     "output_type": "display_data"
    }
   ],
   "source": [
    "plt.figure(figsize=(9,7))\n",
    "df['Furnishing'].value_counts().plot(kind='bar')\n",
    "plt.show()"
   ]
  },
  {
   "cell_type": "code",
   "execution_count": 114,
   "id": "c367e092",
   "metadata": {},
   "outputs": [
    {
     "data": {
      "text/plain": [
       "55438"
      ]
     },
     "execution_count": 114,
     "metadata": {},
     "output_type": "execute_result"
    }
   ],
   "source": [
    "df['facing'].isnull().sum()"
   ]
  },
  {
   "cell_type": "code",
   "execution_count": 115,
   "id": "ce4f8c2d",
   "metadata": {},
   "outputs": [],
   "source": [
    "df.drop(columns=['facing'],axis=1,inplace=True)"
   ]
  },
  {
   "cell_type": "code",
   "execution_count": 116,
   "id": "41a7d4de",
   "metadata": {},
   "outputs": [
    {
     "data": {
      "text/html": [
       "<div>\n",
       "<style scoped>\n",
       "    .dataframe tbody tr th:only-of-type {\n",
       "        vertical-align: middle;\n",
       "    }\n",
       "\n",
       "    .dataframe tbody tr th {\n",
       "        vertical-align: top;\n",
       "    }\n",
       "\n",
       "    .dataframe thead th {\n",
       "        text-align: right;\n",
       "    }\n",
       "</style>\n",
       "<table border=\"1\" class=\"dataframe\">\n",
       "  <thead>\n",
       "    <tr style=\"text-align: right;\">\n",
       "      <th></th>\n",
       "      <th>Index</th>\n",
       "      <th>Title</th>\n",
       "      <th>Description</th>\n",
       "      <th>Amount(in rupees)</th>\n",
       "      <th>Price (in rupees)</th>\n",
       "      <th>location</th>\n",
       "      <th>Floor</th>\n",
       "      <th>Transaction</th>\n",
       "      <th>Furnishing</th>\n",
       "      <th>overlooking</th>\n",
       "      <th>Society</th>\n",
       "      <th>Bathroom</th>\n",
       "      <th>Balcony</th>\n",
       "      <th>Car Parking</th>\n",
       "      <th>Ownership</th>\n",
       "      <th>Super Area</th>\n",
       "      <th>Dimensions</th>\n",
       "      <th>Plot Area</th>\n",
       "      <th>BHK</th>\n",
       "    </tr>\n",
       "  </thead>\n",
       "  <tbody>\n",
       "    <tr>\n",
       "      <th>0</th>\n",
       "      <td>0</td>\n",
       "      <td>1 BHK Ready to Occupy Flat for sale in Srushti...</td>\n",
       "      <td>Bhiwandi, Thane has an attractive 1 BHK Flat f...</td>\n",
       "      <td>420000.0</td>\n",
       "      <td>6000.000000</td>\n",
       "      <td>thane</td>\n",
       "      <td>10</td>\n",
       "      <td>Resale</td>\n",
       "      <td>Unfurnished</td>\n",
       "      <td>NaN</td>\n",
       "      <td>Srushti Siddhi Mangal Murti Complex</td>\n",
       "      <td>1</td>\n",
       "      <td>2</td>\n",
       "      <td>NaN</td>\n",
       "      <td>NaN</td>\n",
       "      <td>NaN</td>\n",
       "      <td>NaN</td>\n",
       "      <td>NaN</td>\n",
       "      <td>1</td>\n",
       "    </tr>\n",
       "    <tr>\n",
       "      <th>1</th>\n",
       "      <td>1</td>\n",
       "      <td>2 BHK Ready to Occupy Flat for sale in Dosti V...</td>\n",
       "      <td>One can find this stunning 2 BHK flat for sale...</td>\n",
       "      <td>980000.0</td>\n",
       "      <td>13799.000000</td>\n",
       "      <td>thane</td>\n",
       "      <td>3</td>\n",
       "      <td>Resale</td>\n",
       "      <td>Semi-Furnished</td>\n",
       "      <td>Garden/Park</td>\n",
       "      <td>Dosti Vihar</td>\n",
       "      <td>2</td>\n",
       "      <td>NaN</td>\n",
       "      <td>1 Open</td>\n",
       "      <td>Freehold</td>\n",
       "      <td>NaN</td>\n",
       "      <td>NaN</td>\n",
       "      <td>NaN</td>\n",
       "      <td>2</td>\n",
       "    </tr>\n",
       "    <tr>\n",
       "      <th>3</th>\n",
       "      <td>3</td>\n",
       "      <td>1 BHK Ready to Occupy Flat for sale Kasheli</td>\n",
       "      <td>This beautiful 1 BHK Flat is available for sal...</td>\n",
       "      <td>250000.0</td>\n",
       "      <td>7592.314973</td>\n",
       "      <td>thane</td>\n",
       "      <td>1</td>\n",
       "      <td>Resale</td>\n",
       "      <td>Unfurnished</td>\n",
       "      <td>NaN</td>\n",
       "      <td>NaN</td>\n",
       "      <td>1</td>\n",
       "      <td>1</td>\n",
       "      <td>NaN</td>\n",
       "      <td>NaN</td>\n",
       "      <td>NaN</td>\n",
       "      <td>NaN</td>\n",
       "      <td>NaN</td>\n",
       "      <td>1</td>\n",
       "    </tr>\n",
       "    <tr>\n",
       "      <th>5</th>\n",
       "      <td>5</td>\n",
       "      <td>1 BHK Ready to Occupy Flat for sale in Virat A...</td>\n",
       "      <td>Creatively planned and constructed is a 1 BHK ...</td>\n",
       "      <td>450000.0</td>\n",
       "      <td>6618.000000</td>\n",
       "      <td>thane</td>\n",
       "      <td>2</td>\n",
       "      <td>Resale</td>\n",
       "      <td>Unfurnished</td>\n",
       "      <td>Garden/Park, Main Road</td>\n",
       "      <td>Virat Aangan</td>\n",
       "      <td>1</td>\n",
       "      <td>1</td>\n",
       "      <td>NaN</td>\n",
       "      <td>Co-operative Society</td>\n",
       "      <td>680 sqft</td>\n",
       "      <td>NaN</td>\n",
       "      <td>NaN</td>\n",
       "      <td>1</td>\n",
       "    </tr>\n",
       "    <tr>\n",
       "      <th>6</th>\n",
       "      <td>6</td>\n",
       "      <td>1 BHK Ready to Occupy Flat for sale Mumbra</td>\n",
       "      <td>This magnificent 1 BHK Flat is available for s...</td>\n",
       "      <td>165000.0</td>\n",
       "      <td>2538.000000</td>\n",
       "      <td>thane</td>\n",
       "      <td>4</td>\n",
       "      <td>Resale</td>\n",
       "      <td>Unfurnished</td>\n",
       "      <td>NaN</td>\n",
       "      <td>NaN</td>\n",
       "      <td>1</td>\n",
       "      <td>NaN</td>\n",
       "      <td>NaN</td>\n",
       "      <td>NaN</td>\n",
       "      <td>NaN</td>\n",
       "      <td>NaN</td>\n",
       "      <td>NaN</td>\n",
       "      <td>1</td>\n",
       "    </tr>\n",
       "  </tbody>\n",
       "</table>\n",
       "</div>"
      ],
      "text/plain": [
       "   Index                                              Title  \\\n",
       "0      0  1 BHK Ready to Occupy Flat for sale in Srushti...   \n",
       "1      1  2 BHK Ready to Occupy Flat for sale in Dosti V...   \n",
       "3      3        1 BHK Ready to Occupy Flat for sale Kasheli   \n",
       "5      5  1 BHK Ready to Occupy Flat for sale in Virat A...   \n",
       "6      6         1 BHK Ready to Occupy Flat for sale Mumbra   \n",
       "\n",
       "                                         Description  Amount(in rupees)  \\\n",
       "0  Bhiwandi, Thane has an attractive 1 BHK Flat f...           420000.0   \n",
       "1  One can find this stunning 2 BHK flat for sale...           980000.0   \n",
       "3  This beautiful 1 BHK Flat is available for sal...           250000.0   \n",
       "5  Creatively planned and constructed is a 1 BHK ...           450000.0   \n",
       "6  This magnificent 1 BHK Flat is available for s...           165000.0   \n",
       "\n",
       "   Price (in rupees) location  Floor Transaction      Furnishing  \\\n",
       "0        6000.000000    thane     10      Resale     Unfurnished   \n",
       "1       13799.000000    thane      3      Resale  Semi-Furnished   \n",
       "3        7592.314973    thane      1      Resale     Unfurnished   \n",
       "5        6618.000000    thane      2      Resale     Unfurnished   \n",
       "6        2538.000000    thane      4      Resale     Unfurnished   \n",
       "\n",
       "              overlooking                              Society Bathroom  \\\n",
       "0                     NaN  Srushti Siddhi Mangal Murti Complex        1   \n",
       "1             Garden/Park                          Dosti Vihar        2   \n",
       "3                     NaN                                  NaN        1   \n",
       "5  Garden/Park, Main Road                         Virat Aangan        1   \n",
       "6                     NaN                                  NaN        1   \n",
       "\n",
       "  Balcony Car Parking             Ownership Super Area  Dimensions  Plot Area  \\\n",
       "0       2         NaN                   NaN        NaN         NaN        NaN   \n",
       "1     NaN      1 Open              Freehold        NaN         NaN        NaN   \n",
       "3       1         NaN                   NaN        NaN         NaN        NaN   \n",
       "5       1         NaN  Co-operative Society   680 sqft         NaN        NaN   \n",
       "6     NaN         NaN                   NaN        NaN         NaN        NaN   \n",
       "\n",
       "   BHK  \n",
       "0    1  \n",
       "1    2  \n",
       "3    1  \n",
       "5    1  \n",
       "6    1  "
      ]
     },
     "execution_count": 116,
     "metadata": {},
     "output_type": "execute_result"
    }
   ],
   "source": [
    "df.head()"
   ]
  },
  {
   "cell_type": "code",
   "execution_count": 117,
   "id": "27fb938a",
   "metadata": {},
   "outputs": [
    {
     "data": {
      "text/plain": [
       "66195"
      ]
     },
     "execution_count": 117,
     "metadata": {},
     "output_type": "execute_result"
    }
   ],
   "source": [
    "df['overlooking'].isnull().sum()"
   ]
  },
  {
   "cell_type": "code",
   "execution_count": 118,
   "id": "1e2e8120",
   "metadata": {},
   "outputs": [],
   "source": [
    "df.drop(columns=['overlooking'],axis=1,inplace=True)"
   ]
  },
  {
   "cell_type": "code",
   "execution_count": 119,
   "id": "8565f443",
   "metadata": {},
   "outputs": [
    {
     "data": {
      "text/html": [
       "<div>\n",
       "<style scoped>\n",
       "    .dataframe tbody tr th:only-of-type {\n",
       "        vertical-align: middle;\n",
       "    }\n",
       "\n",
       "    .dataframe tbody tr th {\n",
       "        vertical-align: top;\n",
       "    }\n",
       "\n",
       "    .dataframe thead th {\n",
       "        text-align: right;\n",
       "    }\n",
       "</style>\n",
       "<table border=\"1\" class=\"dataframe\">\n",
       "  <thead>\n",
       "    <tr style=\"text-align: right;\">\n",
       "      <th></th>\n",
       "      <th>Index</th>\n",
       "      <th>Title</th>\n",
       "      <th>Description</th>\n",
       "      <th>Amount(in rupees)</th>\n",
       "      <th>Price (in rupees)</th>\n",
       "      <th>location</th>\n",
       "      <th>Floor</th>\n",
       "      <th>Transaction</th>\n",
       "      <th>Furnishing</th>\n",
       "      <th>Society</th>\n",
       "      <th>Bathroom</th>\n",
       "      <th>Balcony</th>\n",
       "      <th>Car Parking</th>\n",
       "      <th>Ownership</th>\n",
       "      <th>Super Area</th>\n",
       "      <th>Dimensions</th>\n",
       "      <th>Plot Area</th>\n",
       "      <th>BHK</th>\n",
       "    </tr>\n",
       "  </thead>\n",
       "  <tbody>\n",
       "    <tr>\n",
       "      <th>0</th>\n",
       "      <td>0</td>\n",
       "      <td>1 BHK Ready to Occupy Flat for sale in Srushti...</td>\n",
       "      <td>Bhiwandi, Thane has an attractive 1 BHK Flat f...</td>\n",
       "      <td>420000.0</td>\n",
       "      <td>6000.000000</td>\n",
       "      <td>thane</td>\n",
       "      <td>10</td>\n",
       "      <td>Resale</td>\n",
       "      <td>Unfurnished</td>\n",
       "      <td>Srushti Siddhi Mangal Murti Complex</td>\n",
       "      <td>1</td>\n",
       "      <td>2</td>\n",
       "      <td>NaN</td>\n",
       "      <td>NaN</td>\n",
       "      <td>NaN</td>\n",
       "      <td>NaN</td>\n",
       "      <td>NaN</td>\n",
       "      <td>1</td>\n",
       "    </tr>\n",
       "    <tr>\n",
       "      <th>1</th>\n",
       "      <td>1</td>\n",
       "      <td>2 BHK Ready to Occupy Flat for sale in Dosti V...</td>\n",
       "      <td>One can find this stunning 2 BHK flat for sale...</td>\n",
       "      <td>980000.0</td>\n",
       "      <td>13799.000000</td>\n",
       "      <td>thane</td>\n",
       "      <td>3</td>\n",
       "      <td>Resale</td>\n",
       "      <td>Semi-Furnished</td>\n",
       "      <td>Dosti Vihar</td>\n",
       "      <td>2</td>\n",
       "      <td>NaN</td>\n",
       "      <td>1 Open</td>\n",
       "      <td>Freehold</td>\n",
       "      <td>NaN</td>\n",
       "      <td>NaN</td>\n",
       "      <td>NaN</td>\n",
       "      <td>2</td>\n",
       "    </tr>\n",
       "    <tr>\n",
       "      <th>3</th>\n",
       "      <td>3</td>\n",
       "      <td>1 BHK Ready to Occupy Flat for sale Kasheli</td>\n",
       "      <td>This beautiful 1 BHK Flat is available for sal...</td>\n",
       "      <td>250000.0</td>\n",
       "      <td>7592.314973</td>\n",
       "      <td>thane</td>\n",
       "      <td>1</td>\n",
       "      <td>Resale</td>\n",
       "      <td>Unfurnished</td>\n",
       "      <td>NaN</td>\n",
       "      <td>1</td>\n",
       "      <td>1</td>\n",
       "      <td>NaN</td>\n",
       "      <td>NaN</td>\n",
       "      <td>NaN</td>\n",
       "      <td>NaN</td>\n",
       "      <td>NaN</td>\n",
       "      <td>1</td>\n",
       "    </tr>\n",
       "    <tr>\n",
       "      <th>5</th>\n",
       "      <td>5</td>\n",
       "      <td>1 BHK Ready to Occupy Flat for sale in Virat A...</td>\n",
       "      <td>Creatively planned and constructed is a 1 BHK ...</td>\n",
       "      <td>450000.0</td>\n",
       "      <td>6618.000000</td>\n",
       "      <td>thane</td>\n",
       "      <td>2</td>\n",
       "      <td>Resale</td>\n",
       "      <td>Unfurnished</td>\n",
       "      <td>Virat Aangan</td>\n",
       "      <td>1</td>\n",
       "      <td>1</td>\n",
       "      <td>NaN</td>\n",
       "      <td>Co-operative Society</td>\n",
       "      <td>680 sqft</td>\n",
       "      <td>NaN</td>\n",
       "      <td>NaN</td>\n",
       "      <td>1</td>\n",
       "    </tr>\n",
       "    <tr>\n",
       "      <th>6</th>\n",
       "      <td>6</td>\n",
       "      <td>1 BHK Ready to Occupy Flat for sale Mumbra</td>\n",
       "      <td>This magnificent 1 BHK Flat is available for s...</td>\n",
       "      <td>165000.0</td>\n",
       "      <td>2538.000000</td>\n",
       "      <td>thane</td>\n",
       "      <td>4</td>\n",
       "      <td>Resale</td>\n",
       "      <td>Unfurnished</td>\n",
       "      <td>NaN</td>\n",
       "      <td>1</td>\n",
       "      <td>NaN</td>\n",
       "      <td>NaN</td>\n",
       "      <td>NaN</td>\n",
       "      <td>NaN</td>\n",
       "      <td>NaN</td>\n",
       "      <td>NaN</td>\n",
       "      <td>1</td>\n",
       "    </tr>\n",
       "  </tbody>\n",
       "</table>\n",
       "</div>"
      ],
      "text/plain": [
       "   Index                                              Title  \\\n",
       "0      0  1 BHK Ready to Occupy Flat for sale in Srushti...   \n",
       "1      1  2 BHK Ready to Occupy Flat for sale in Dosti V...   \n",
       "3      3        1 BHK Ready to Occupy Flat for sale Kasheli   \n",
       "5      5  1 BHK Ready to Occupy Flat for sale in Virat A...   \n",
       "6      6         1 BHK Ready to Occupy Flat for sale Mumbra   \n",
       "\n",
       "                                         Description  Amount(in rupees)  \\\n",
       "0  Bhiwandi, Thane has an attractive 1 BHK Flat f...           420000.0   \n",
       "1  One can find this stunning 2 BHK flat for sale...           980000.0   \n",
       "3  This beautiful 1 BHK Flat is available for sal...           250000.0   \n",
       "5  Creatively planned and constructed is a 1 BHK ...           450000.0   \n",
       "6  This magnificent 1 BHK Flat is available for s...           165000.0   \n",
       "\n",
       "   Price (in rupees) location  Floor Transaction      Furnishing  \\\n",
       "0        6000.000000    thane     10      Resale     Unfurnished   \n",
       "1       13799.000000    thane      3      Resale  Semi-Furnished   \n",
       "3        7592.314973    thane      1      Resale     Unfurnished   \n",
       "5        6618.000000    thane      2      Resale     Unfurnished   \n",
       "6        2538.000000    thane      4      Resale     Unfurnished   \n",
       "\n",
       "                               Society Bathroom Balcony Car Parking  \\\n",
       "0  Srushti Siddhi Mangal Murti Complex        1       2         NaN   \n",
       "1                          Dosti Vihar        2     NaN      1 Open   \n",
       "3                                  NaN        1       1         NaN   \n",
       "5                         Virat Aangan        1       1         NaN   \n",
       "6                                  NaN        1     NaN         NaN   \n",
       "\n",
       "              Ownership Super Area  Dimensions  Plot Area  BHK  \n",
       "0                   NaN        NaN         NaN        NaN    1  \n",
       "1              Freehold        NaN         NaN        NaN    2  \n",
       "3                   NaN        NaN         NaN        NaN    1  \n",
       "5  Co-operative Society   680 sqft         NaN        NaN    1  \n",
       "6                   NaN        NaN         NaN        NaN    1  "
      ]
     },
     "execution_count": 119,
     "metadata": {},
     "output_type": "execute_result"
    }
   ],
   "source": [
    "df.head()"
   ]
  },
  {
   "cell_type": "code",
   "execution_count": 120,
   "id": "d001ef48",
   "metadata": {},
   "outputs": [
    {
     "data": {
      "text/plain": [
       "92863"
      ]
     },
     "execution_count": 120,
     "metadata": {},
     "output_type": "execute_result"
    }
   ],
   "source": [
    "df['Society'].isnull().sum()"
   ]
  },
  {
   "cell_type": "code",
   "execution_count": 121,
   "id": "df85b6b4",
   "metadata": {},
   "outputs": [
    {
     "data": {
      "text/plain": [
       "Hamdam Apartment                       1648\n",
       "Malibu Town                            1158\n",
       "Shree Vardhman Victoria                1154\n",
       "DLF Skycourt                           1151\n",
       "Nebula Tower                            982\n",
       "                                       ... \n",
       "DDA Pocket B4                             1\n",
       "DDA Rose Apartments                       1\n",
       "Anmol Vatika                              1\n",
       "Saini Builder Floors                      1\n",
       "Srushti Siddhi Mangal Murti Complex       1\n",
       "Name: Society, Length: 8779, dtype: int64"
      ]
     },
     "execution_count": 121,
     "metadata": {},
     "output_type": "execute_result"
    }
   ],
   "source": [
    "df['Society'].value_counts()"
   ]
  },
  {
   "cell_type": "code",
   "execution_count": 122,
   "id": "5e1d2742",
   "metadata": {},
   "outputs": [],
   "source": [
    "df.drop(columns=['Society'],axis=1,inplace=True)"
   ]
  },
  {
   "cell_type": "code",
   "execution_count": 123,
   "id": "bd57d8e4",
   "metadata": {},
   "outputs": [
    {
     "data": {
      "text/html": [
       "<div>\n",
       "<style scoped>\n",
       "    .dataframe tbody tr th:only-of-type {\n",
       "        vertical-align: middle;\n",
       "    }\n",
       "\n",
       "    .dataframe tbody tr th {\n",
       "        vertical-align: top;\n",
       "    }\n",
       "\n",
       "    .dataframe thead th {\n",
       "        text-align: right;\n",
       "    }\n",
       "</style>\n",
       "<table border=\"1\" class=\"dataframe\">\n",
       "  <thead>\n",
       "    <tr style=\"text-align: right;\">\n",
       "      <th></th>\n",
       "      <th>Index</th>\n",
       "      <th>Title</th>\n",
       "      <th>Description</th>\n",
       "      <th>Amount(in rupees)</th>\n",
       "      <th>Price (in rupees)</th>\n",
       "      <th>location</th>\n",
       "      <th>Floor</th>\n",
       "      <th>Transaction</th>\n",
       "      <th>Furnishing</th>\n",
       "      <th>Bathroom</th>\n",
       "      <th>Balcony</th>\n",
       "      <th>Car Parking</th>\n",
       "      <th>Ownership</th>\n",
       "      <th>Super Area</th>\n",
       "      <th>Dimensions</th>\n",
       "      <th>Plot Area</th>\n",
       "      <th>BHK</th>\n",
       "    </tr>\n",
       "  </thead>\n",
       "  <tbody>\n",
       "    <tr>\n",
       "      <th>0</th>\n",
       "      <td>0</td>\n",
       "      <td>1 BHK Ready to Occupy Flat for sale in Srushti...</td>\n",
       "      <td>Bhiwandi, Thane has an attractive 1 BHK Flat f...</td>\n",
       "      <td>420000.0</td>\n",
       "      <td>6000.000000</td>\n",
       "      <td>thane</td>\n",
       "      <td>10</td>\n",
       "      <td>Resale</td>\n",
       "      <td>Unfurnished</td>\n",
       "      <td>1</td>\n",
       "      <td>2</td>\n",
       "      <td>NaN</td>\n",
       "      <td>NaN</td>\n",
       "      <td>NaN</td>\n",
       "      <td>NaN</td>\n",
       "      <td>NaN</td>\n",
       "      <td>1</td>\n",
       "    </tr>\n",
       "    <tr>\n",
       "      <th>1</th>\n",
       "      <td>1</td>\n",
       "      <td>2 BHK Ready to Occupy Flat for sale in Dosti V...</td>\n",
       "      <td>One can find this stunning 2 BHK flat for sale...</td>\n",
       "      <td>980000.0</td>\n",
       "      <td>13799.000000</td>\n",
       "      <td>thane</td>\n",
       "      <td>3</td>\n",
       "      <td>Resale</td>\n",
       "      <td>Semi-Furnished</td>\n",
       "      <td>2</td>\n",
       "      <td>NaN</td>\n",
       "      <td>1 Open</td>\n",
       "      <td>Freehold</td>\n",
       "      <td>NaN</td>\n",
       "      <td>NaN</td>\n",
       "      <td>NaN</td>\n",
       "      <td>2</td>\n",
       "    </tr>\n",
       "    <tr>\n",
       "      <th>3</th>\n",
       "      <td>3</td>\n",
       "      <td>1 BHK Ready to Occupy Flat for sale Kasheli</td>\n",
       "      <td>This beautiful 1 BHK Flat is available for sal...</td>\n",
       "      <td>250000.0</td>\n",
       "      <td>7592.314973</td>\n",
       "      <td>thane</td>\n",
       "      <td>1</td>\n",
       "      <td>Resale</td>\n",
       "      <td>Unfurnished</td>\n",
       "      <td>1</td>\n",
       "      <td>1</td>\n",
       "      <td>NaN</td>\n",
       "      <td>NaN</td>\n",
       "      <td>NaN</td>\n",
       "      <td>NaN</td>\n",
       "      <td>NaN</td>\n",
       "      <td>1</td>\n",
       "    </tr>\n",
       "    <tr>\n",
       "      <th>5</th>\n",
       "      <td>5</td>\n",
       "      <td>1 BHK Ready to Occupy Flat for sale in Virat A...</td>\n",
       "      <td>Creatively planned and constructed is a 1 BHK ...</td>\n",
       "      <td>450000.0</td>\n",
       "      <td>6618.000000</td>\n",
       "      <td>thane</td>\n",
       "      <td>2</td>\n",
       "      <td>Resale</td>\n",
       "      <td>Unfurnished</td>\n",
       "      <td>1</td>\n",
       "      <td>1</td>\n",
       "      <td>NaN</td>\n",
       "      <td>Co-operative Society</td>\n",
       "      <td>680 sqft</td>\n",
       "      <td>NaN</td>\n",
       "      <td>NaN</td>\n",
       "      <td>1</td>\n",
       "    </tr>\n",
       "    <tr>\n",
       "      <th>6</th>\n",
       "      <td>6</td>\n",
       "      <td>1 BHK Ready to Occupy Flat for sale Mumbra</td>\n",
       "      <td>This magnificent 1 BHK Flat is available for s...</td>\n",
       "      <td>165000.0</td>\n",
       "      <td>2538.000000</td>\n",
       "      <td>thane</td>\n",
       "      <td>4</td>\n",
       "      <td>Resale</td>\n",
       "      <td>Unfurnished</td>\n",
       "      <td>1</td>\n",
       "      <td>NaN</td>\n",
       "      <td>NaN</td>\n",
       "      <td>NaN</td>\n",
       "      <td>NaN</td>\n",
       "      <td>NaN</td>\n",
       "      <td>NaN</td>\n",
       "      <td>1</td>\n",
       "    </tr>\n",
       "  </tbody>\n",
       "</table>\n",
       "</div>"
      ],
      "text/plain": [
       "   Index                                              Title  \\\n",
       "0      0  1 BHK Ready to Occupy Flat for sale in Srushti...   \n",
       "1      1  2 BHK Ready to Occupy Flat for sale in Dosti V...   \n",
       "3      3        1 BHK Ready to Occupy Flat for sale Kasheli   \n",
       "5      5  1 BHK Ready to Occupy Flat for sale in Virat A...   \n",
       "6      6         1 BHK Ready to Occupy Flat for sale Mumbra   \n",
       "\n",
       "                                         Description  Amount(in rupees)  \\\n",
       "0  Bhiwandi, Thane has an attractive 1 BHK Flat f...           420000.0   \n",
       "1  One can find this stunning 2 BHK flat for sale...           980000.0   \n",
       "3  This beautiful 1 BHK Flat is available for sal...           250000.0   \n",
       "5  Creatively planned and constructed is a 1 BHK ...           450000.0   \n",
       "6  This magnificent 1 BHK Flat is available for s...           165000.0   \n",
       "\n",
       "   Price (in rupees) location  Floor Transaction      Furnishing Bathroom  \\\n",
       "0        6000.000000    thane     10      Resale     Unfurnished        1   \n",
       "1       13799.000000    thane      3      Resale  Semi-Furnished        2   \n",
       "3        7592.314973    thane      1      Resale     Unfurnished        1   \n",
       "5        6618.000000    thane      2      Resale     Unfurnished        1   \n",
       "6        2538.000000    thane      4      Resale     Unfurnished        1   \n",
       "\n",
       "  Balcony Car Parking             Ownership Super Area  Dimensions  Plot Area  \\\n",
       "0       2         NaN                   NaN        NaN         NaN        NaN   \n",
       "1     NaN      1 Open              Freehold        NaN         NaN        NaN   \n",
       "3       1         NaN                   NaN        NaN         NaN        NaN   \n",
       "5       1         NaN  Co-operative Society   680 sqft         NaN        NaN   \n",
       "6     NaN         NaN                   NaN        NaN         NaN        NaN   \n",
       "\n",
       "   BHK  \n",
       "0    1  \n",
       "1    2  \n",
       "3    1  \n",
       "5    1  \n",
       "6    1  "
      ]
     },
     "execution_count": 123,
     "metadata": {},
     "output_type": "execute_result"
    }
   ],
   "source": [
    "df.head()"
   ]
  },
  {
   "cell_type": "code",
   "execution_count": 124,
   "id": "4061ca3e",
   "metadata": {},
   "outputs": [
    {
     "data": {
      "text/plain": [
       "34"
      ]
     },
     "execution_count": 124,
     "metadata": {},
     "output_type": "execute_result"
    }
   ],
   "source": [
    "df['Bathroom'].isnull().sum()"
   ]
  },
  {
   "cell_type": "code",
   "execution_count": 125,
   "id": "1f1917f1",
   "metadata": {},
   "outputs": [
    {
     "data": {
      "text/plain": [
       "dtype('O')"
      ]
     },
     "execution_count": 125,
     "metadata": {},
     "output_type": "execute_result"
    }
   ],
   "source": [
    "df['Bathroom'].dtype"
   ]
  },
  {
   "cell_type": "code",
   "execution_count": 126,
   "id": "0a1f97d2",
   "metadata": {},
   "outputs": [
    {
     "data": {
      "text/plain": [
       "array(['1', '2', '3', '4', nan, '7', '5', '6', '> 10', '8', '9', '10'],\n",
       "      dtype=object)"
      ]
     },
     "execution_count": 126,
     "metadata": {},
     "output_type": "execute_result"
    }
   ],
   "source": [
    "df['Bathroom'].unique()"
   ]
  },
  {
   "cell_type": "code",
   "execution_count": 127,
   "id": "6eb28914",
   "metadata": {},
   "outputs": [
    {
     "data": {
      "text/plain": [
       "2       81158\n",
       "3       49143\n",
       "4       14351\n",
       "1       14106\n",
       "5        3119\n",
       "6         134\n",
       "7          12\n",
       "8           5\n",
       "> 10        4\n",
       "9           3\n",
       "10          1\n",
       "Name: Bathroom, dtype: int64"
      ]
     },
     "execution_count": 127,
     "metadata": {},
     "output_type": "execute_result"
    }
   ],
   "source": [
    "df['Bathroom'].value_counts()"
   ]
  },
  {
   "cell_type": "code",
   "execution_count": 128,
   "id": "4ad4da76",
   "metadata": {},
   "outputs": [],
   "source": [
    "df.dropna(subset=['Bathroom'],inplace=True)"
   ]
  },
  {
   "cell_type": "code",
   "execution_count": 129,
   "id": "038b88aa",
   "metadata": {},
   "outputs": [
    {
     "data": {
      "text/plain": [
       "0"
      ]
     },
     "execution_count": 129,
     "metadata": {},
     "output_type": "execute_result"
    }
   ],
   "source": [
    "df['Bathroom'].isnull().sum()"
   ]
  },
  {
   "cell_type": "code",
   "execution_count": 130,
   "id": "962c9e0d",
   "metadata": {},
   "outputs": [],
   "source": [
    "df=df[df['Bathroom']!='> 10']"
   ]
  },
  {
   "cell_type": "code",
   "execution_count": 131,
   "id": "0c2d583f",
   "metadata": {},
   "outputs": [
    {
     "data": {
      "text/plain": [
       "2     81158\n",
       "3     49143\n",
       "4     14351\n",
       "1     14106\n",
       "5      3119\n",
       "6       134\n",
       "7        12\n",
       "8         5\n",
       "9         3\n",
       "10        1\n",
       "Name: Bathroom, dtype: int64"
      ]
     },
     "execution_count": 131,
     "metadata": {},
     "output_type": "execute_result"
    }
   ],
   "source": [
    "df['Bathroom'].value_counts()"
   ]
  },
  {
   "cell_type": "code",
   "execution_count": 132,
   "id": "25737a7a",
   "metadata": {},
   "outputs": [],
   "source": [
    "df['Bathroom']=df['Bathroom'].astype('int')"
   ]
  },
  {
   "cell_type": "code",
   "execution_count": 133,
   "id": "f581374c",
   "metadata": {},
   "outputs": [
    {
     "data": {
      "text/html": [
       "<div>\n",
       "<style scoped>\n",
       "    .dataframe tbody tr th:only-of-type {\n",
       "        vertical-align: middle;\n",
       "    }\n",
       "\n",
       "    .dataframe tbody tr th {\n",
       "        vertical-align: top;\n",
       "    }\n",
       "\n",
       "    .dataframe thead th {\n",
       "        text-align: right;\n",
       "    }\n",
       "</style>\n",
       "<table border=\"1\" class=\"dataframe\">\n",
       "  <thead>\n",
       "    <tr style=\"text-align: right;\">\n",
       "      <th></th>\n",
       "      <th>Index</th>\n",
       "      <th>Title</th>\n",
       "      <th>Description</th>\n",
       "      <th>Amount(in rupees)</th>\n",
       "      <th>Price (in rupees)</th>\n",
       "      <th>location</th>\n",
       "      <th>Floor</th>\n",
       "      <th>Transaction</th>\n",
       "      <th>Furnishing</th>\n",
       "      <th>Bathroom</th>\n",
       "      <th>Balcony</th>\n",
       "      <th>Car Parking</th>\n",
       "      <th>Ownership</th>\n",
       "      <th>Super Area</th>\n",
       "      <th>Dimensions</th>\n",
       "      <th>Plot Area</th>\n",
       "      <th>BHK</th>\n",
       "    </tr>\n",
       "  </thead>\n",
       "  <tbody>\n",
       "    <tr>\n",
       "      <th>0</th>\n",
       "      <td>0</td>\n",
       "      <td>1 BHK Ready to Occupy Flat for sale in Srushti...</td>\n",
       "      <td>Bhiwandi, Thane has an attractive 1 BHK Flat f...</td>\n",
       "      <td>420000.0</td>\n",
       "      <td>6000.000000</td>\n",
       "      <td>thane</td>\n",
       "      <td>10</td>\n",
       "      <td>Resale</td>\n",
       "      <td>Unfurnished</td>\n",
       "      <td>1</td>\n",
       "      <td>2</td>\n",
       "      <td>NaN</td>\n",
       "      <td>NaN</td>\n",
       "      <td>NaN</td>\n",
       "      <td>NaN</td>\n",
       "      <td>NaN</td>\n",
       "      <td>1</td>\n",
       "    </tr>\n",
       "    <tr>\n",
       "      <th>1</th>\n",
       "      <td>1</td>\n",
       "      <td>2 BHK Ready to Occupy Flat for sale in Dosti V...</td>\n",
       "      <td>One can find this stunning 2 BHK flat for sale...</td>\n",
       "      <td>980000.0</td>\n",
       "      <td>13799.000000</td>\n",
       "      <td>thane</td>\n",
       "      <td>3</td>\n",
       "      <td>Resale</td>\n",
       "      <td>Semi-Furnished</td>\n",
       "      <td>2</td>\n",
       "      <td>NaN</td>\n",
       "      <td>1 Open</td>\n",
       "      <td>Freehold</td>\n",
       "      <td>NaN</td>\n",
       "      <td>NaN</td>\n",
       "      <td>NaN</td>\n",
       "      <td>2</td>\n",
       "    </tr>\n",
       "    <tr>\n",
       "      <th>3</th>\n",
       "      <td>3</td>\n",
       "      <td>1 BHK Ready to Occupy Flat for sale Kasheli</td>\n",
       "      <td>This beautiful 1 BHK Flat is available for sal...</td>\n",
       "      <td>250000.0</td>\n",
       "      <td>7592.314973</td>\n",
       "      <td>thane</td>\n",
       "      <td>1</td>\n",
       "      <td>Resale</td>\n",
       "      <td>Unfurnished</td>\n",
       "      <td>1</td>\n",
       "      <td>1</td>\n",
       "      <td>NaN</td>\n",
       "      <td>NaN</td>\n",
       "      <td>NaN</td>\n",
       "      <td>NaN</td>\n",
       "      <td>NaN</td>\n",
       "      <td>1</td>\n",
       "    </tr>\n",
       "    <tr>\n",
       "      <th>5</th>\n",
       "      <td>5</td>\n",
       "      <td>1 BHK Ready to Occupy Flat for sale in Virat A...</td>\n",
       "      <td>Creatively planned and constructed is a 1 BHK ...</td>\n",
       "      <td>450000.0</td>\n",
       "      <td>6618.000000</td>\n",
       "      <td>thane</td>\n",
       "      <td>2</td>\n",
       "      <td>Resale</td>\n",
       "      <td>Unfurnished</td>\n",
       "      <td>1</td>\n",
       "      <td>1</td>\n",
       "      <td>NaN</td>\n",
       "      <td>Co-operative Society</td>\n",
       "      <td>680 sqft</td>\n",
       "      <td>NaN</td>\n",
       "      <td>NaN</td>\n",
       "      <td>1</td>\n",
       "    </tr>\n",
       "    <tr>\n",
       "      <th>6</th>\n",
       "      <td>6</td>\n",
       "      <td>1 BHK Ready to Occupy Flat for sale Mumbra</td>\n",
       "      <td>This magnificent 1 BHK Flat is available for s...</td>\n",
       "      <td>165000.0</td>\n",
       "      <td>2538.000000</td>\n",
       "      <td>thane</td>\n",
       "      <td>4</td>\n",
       "      <td>Resale</td>\n",
       "      <td>Unfurnished</td>\n",
       "      <td>1</td>\n",
       "      <td>NaN</td>\n",
       "      <td>NaN</td>\n",
       "      <td>NaN</td>\n",
       "      <td>NaN</td>\n",
       "      <td>NaN</td>\n",
       "      <td>NaN</td>\n",
       "      <td>1</td>\n",
       "    </tr>\n",
       "  </tbody>\n",
       "</table>\n",
       "</div>"
      ],
      "text/plain": [
       "   Index                                              Title  \\\n",
       "0      0  1 BHK Ready to Occupy Flat for sale in Srushti...   \n",
       "1      1  2 BHK Ready to Occupy Flat for sale in Dosti V...   \n",
       "3      3        1 BHK Ready to Occupy Flat for sale Kasheli   \n",
       "5      5  1 BHK Ready to Occupy Flat for sale in Virat A...   \n",
       "6      6         1 BHK Ready to Occupy Flat for sale Mumbra   \n",
       "\n",
       "                                         Description  Amount(in rupees)  \\\n",
       "0  Bhiwandi, Thane has an attractive 1 BHK Flat f...           420000.0   \n",
       "1  One can find this stunning 2 BHK flat for sale...           980000.0   \n",
       "3  This beautiful 1 BHK Flat is available for sal...           250000.0   \n",
       "5  Creatively planned and constructed is a 1 BHK ...           450000.0   \n",
       "6  This magnificent 1 BHK Flat is available for s...           165000.0   \n",
       "\n",
       "   Price (in rupees) location  Floor Transaction      Furnishing  Bathroom  \\\n",
       "0        6000.000000    thane     10      Resale     Unfurnished         1   \n",
       "1       13799.000000    thane      3      Resale  Semi-Furnished         2   \n",
       "3        7592.314973    thane      1      Resale     Unfurnished         1   \n",
       "5        6618.000000    thane      2      Resale     Unfurnished         1   \n",
       "6        2538.000000    thane      4      Resale     Unfurnished         1   \n",
       "\n",
       "  Balcony Car Parking             Ownership Super Area  Dimensions  Plot Area  \\\n",
       "0       2         NaN                   NaN        NaN         NaN        NaN   \n",
       "1     NaN      1 Open              Freehold        NaN         NaN        NaN   \n",
       "3       1         NaN                   NaN        NaN         NaN        NaN   \n",
       "5       1         NaN  Co-operative Society   680 sqft         NaN        NaN   \n",
       "6     NaN         NaN                   NaN        NaN         NaN        NaN   \n",
       "\n",
       "   BHK  \n",
       "0    1  \n",
       "1    2  \n",
       "3    1  \n",
       "5    1  \n",
       "6    1  "
      ]
     },
     "execution_count": 133,
     "metadata": {},
     "output_type": "execute_result"
    }
   ],
   "source": [
    "df.head()"
   ]
  },
  {
   "cell_type": "code",
   "execution_count": 134,
   "id": "2461977c",
   "metadata": {},
   "outputs": [
    {
     "data": {
      "text/plain": [
       "38006"
      ]
     },
     "execution_count": 134,
     "metadata": {},
     "output_type": "execute_result"
    }
   ],
   "source": [
    "df['Balcony'].isnull().sum()"
   ]
  },
  {
   "cell_type": "code",
   "execution_count": 135,
   "id": "cdce7fb0",
   "metadata": {},
   "outputs": [
    {
     "data": {
      "text/plain": [
       "dtype('O')"
      ]
     },
     "execution_count": 135,
     "metadata": {},
     "output_type": "execute_result"
    }
   ],
   "source": [
    "df['Balcony'].dtype"
   ]
  },
  {
   "cell_type": "code",
   "execution_count": 136,
   "id": "415f6cc3",
   "metadata": {},
   "outputs": [
    {
     "data": {
      "text/plain": [
       "array(['2', nan, '1', '3', '4', '5', '6', '10', '> 10', '7', '8', '9'],\n",
       "      dtype=object)"
      ]
     },
     "execution_count": 136,
     "metadata": {},
     "output_type": "execute_result"
    }
   ],
   "source": [
    "df['Balcony'].unique()"
   ]
  },
  {
   "cell_type": "code",
   "execution_count": 137,
   "id": "9f99c998",
   "metadata": {},
   "outputs": [
    {
     "data": {
      "text/plain": [
       "(162032, 17)"
      ]
     },
     "execution_count": 137,
     "metadata": {},
     "output_type": "execute_result"
    }
   ],
   "source": [
    "df.shape"
   ]
  },
  {
   "cell_type": "code",
   "execution_count": 138,
   "id": "f64208ac",
   "metadata": {},
   "outputs": [],
   "source": [
    "df=df[df['Balcony']!='> 10']"
   ]
  },
  {
   "cell_type": "code",
   "execution_count": 139,
   "id": "39872873",
   "metadata": {},
   "outputs": [
    {
     "data": {
      "text/plain": [
       "2     48442\n",
       "1     41743\n",
       "3     23994\n",
       "4      8990\n",
       "5       709\n",
       "6       114\n",
       "7        11\n",
       "10        9\n",
       "8         9\n",
       "9         2\n",
       "Name: Balcony, dtype: int64"
      ]
     },
     "execution_count": 139,
     "metadata": {},
     "output_type": "execute_result"
    }
   ],
   "source": [
    "df['Balcony'].value_counts()"
   ]
  },
  {
   "cell_type": "code",
   "execution_count": 140,
   "id": "625a7ffd",
   "metadata": {},
   "outputs": [],
   "source": [
    "df['Balcony']=df['Balcony'].fillna('2')"
   ]
  },
  {
   "cell_type": "code",
   "execution_count": 141,
   "id": "dd062918",
   "metadata": {},
   "outputs": [
    {
     "data": {
      "text/plain": [
       "0"
      ]
     },
     "execution_count": 141,
     "metadata": {},
     "output_type": "execute_result"
    }
   ],
   "source": [
    "df['Balcony'].isnull().sum()"
   ]
  },
  {
   "cell_type": "code",
   "execution_count": 142,
   "id": "a89b6fa6",
   "metadata": {},
   "outputs": [],
   "source": [
    "df['Balcony']=df['Balcony'].astype('int')"
   ]
  },
  {
   "cell_type": "code",
   "execution_count": 143,
   "id": "d39a0625",
   "metadata": {},
   "outputs": [
    {
     "data": {
      "text/plain": [
       "2     86448\n",
       "1     41743\n",
       "3     23994\n",
       "4      8990\n",
       "5       709\n",
       "6       114\n",
       "7        11\n",
       "10        9\n",
       "8         9\n",
       "9         2\n",
       "Name: Balcony, dtype: int64"
      ]
     },
     "execution_count": 143,
     "metadata": {},
     "output_type": "execute_result"
    }
   ],
   "source": [
    "df['Balcony'].value_counts()"
   ]
  },
  {
   "cell_type": "code",
   "execution_count": 144,
   "id": "30db0600",
   "metadata": {},
   "outputs": [
    {
     "data": {
      "text/plain": [
       "86520"
      ]
     },
     "execution_count": 144,
     "metadata": {},
     "output_type": "execute_result"
    }
   ],
   "source": [
    "df['Car Parking'].isnull().sum()"
   ]
  },
  {
   "cell_type": "code",
   "execution_count": 145,
   "id": "22bd2334",
   "metadata": {},
   "outputs": [],
   "source": [
    "df.drop(columns=['Car Parking'],axis=1,inplace=True)"
   ]
  },
  {
   "cell_type": "code",
   "execution_count": 146,
   "id": "1493bf49",
   "metadata": {},
   "outputs": [
    {
     "data": {
      "text/html": [
       "<div>\n",
       "<style scoped>\n",
       "    .dataframe tbody tr th:only-of-type {\n",
       "        vertical-align: middle;\n",
       "    }\n",
       "\n",
       "    .dataframe tbody tr th {\n",
       "        vertical-align: top;\n",
       "    }\n",
       "\n",
       "    .dataframe thead th {\n",
       "        text-align: right;\n",
       "    }\n",
       "</style>\n",
       "<table border=\"1\" class=\"dataframe\">\n",
       "  <thead>\n",
       "    <tr style=\"text-align: right;\">\n",
       "      <th></th>\n",
       "      <th>Index</th>\n",
       "      <th>Title</th>\n",
       "      <th>Description</th>\n",
       "      <th>Amount(in rupees)</th>\n",
       "      <th>Price (in rupees)</th>\n",
       "      <th>location</th>\n",
       "      <th>Floor</th>\n",
       "      <th>Transaction</th>\n",
       "      <th>Furnishing</th>\n",
       "      <th>Bathroom</th>\n",
       "      <th>Balcony</th>\n",
       "      <th>Ownership</th>\n",
       "      <th>Super Area</th>\n",
       "      <th>Dimensions</th>\n",
       "      <th>Plot Area</th>\n",
       "      <th>BHK</th>\n",
       "    </tr>\n",
       "  </thead>\n",
       "  <tbody>\n",
       "    <tr>\n",
       "      <th>0</th>\n",
       "      <td>0</td>\n",
       "      <td>1 BHK Ready to Occupy Flat for sale in Srushti...</td>\n",
       "      <td>Bhiwandi, Thane has an attractive 1 BHK Flat f...</td>\n",
       "      <td>420000.0</td>\n",
       "      <td>6000.000000</td>\n",
       "      <td>thane</td>\n",
       "      <td>10</td>\n",
       "      <td>Resale</td>\n",
       "      <td>Unfurnished</td>\n",
       "      <td>1</td>\n",
       "      <td>2</td>\n",
       "      <td>NaN</td>\n",
       "      <td>NaN</td>\n",
       "      <td>NaN</td>\n",
       "      <td>NaN</td>\n",
       "      <td>1</td>\n",
       "    </tr>\n",
       "    <tr>\n",
       "      <th>1</th>\n",
       "      <td>1</td>\n",
       "      <td>2 BHK Ready to Occupy Flat for sale in Dosti V...</td>\n",
       "      <td>One can find this stunning 2 BHK flat for sale...</td>\n",
       "      <td>980000.0</td>\n",
       "      <td>13799.000000</td>\n",
       "      <td>thane</td>\n",
       "      <td>3</td>\n",
       "      <td>Resale</td>\n",
       "      <td>Semi-Furnished</td>\n",
       "      <td>2</td>\n",
       "      <td>2</td>\n",
       "      <td>Freehold</td>\n",
       "      <td>NaN</td>\n",
       "      <td>NaN</td>\n",
       "      <td>NaN</td>\n",
       "      <td>2</td>\n",
       "    </tr>\n",
       "    <tr>\n",
       "      <th>3</th>\n",
       "      <td>3</td>\n",
       "      <td>1 BHK Ready to Occupy Flat for sale Kasheli</td>\n",
       "      <td>This beautiful 1 BHK Flat is available for sal...</td>\n",
       "      <td>250000.0</td>\n",
       "      <td>7592.314973</td>\n",
       "      <td>thane</td>\n",
       "      <td>1</td>\n",
       "      <td>Resale</td>\n",
       "      <td>Unfurnished</td>\n",
       "      <td>1</td>\n",
       "      <td>1</td>\n",
       "      <td>NaN</td>\n",
       "      <td>NaN</td>\n",
       "      <td>NaN</td>\n",
       "      <td>NaN</td>\n",
       "      <td>1</td>\n",
       "    </tr>\n",
       "    <tr>\n",
       "      <th>5</th>\n",
       "      <td>5</td>\n",
       "      <td>1 BHK Ready to Occupy Flat for sale in Virat A...</td>\n",
       "      <td>Creatively planned and constructed is a 1 BHK ...</td>\n",
       "      <td>450000.0</td>\n",
       "      <td>6618.000000</td>\n",
       "      <td>thane</td>\n",
       "      <td>2</td>\n",
       "      <td>Resale</td>\n",
       "      <td>Unfurnished</td>\n",
       "      <td>1</td>\n",
       "      <td>1</td>\n",
       "      <td>Co-operative Society</td>\n",
       "      <td>680 sqft</td>\n",
       "      <td>NaN</td>\n",
       "      <td>NaN</td>\n",
       "      <td>1</td>\n",
       "    </tr>\n",
       "    <tr>\n",
       "      <th>6</th>\n",
       "      <td>6</td>\n",
       "      <td>1 BHK Ready to Occupy Flat for sale Mumbra</td>\n",
       "      <td>This magnificent 1 BHK Flat is available for s...</td>\n",
       "      <td>165000.0</td>\n",
       "      <td>2538.000000</td>\n",
       "      <td>thane</td>\n",
       "      <td>4</td>\n",
       "      <td>Resale</td>\n",
       "      <td>Unfurnished</td>\n",
       "      <td>1</td>\n",
       "      <td>2</td>\n",
       "      <td>NaN</td>\n",
       "      <td>NaN</td>\n",
       "      <td>NaN</td>\n",
       "      <td>NaN</td>\n",
       "      <td>1</td>\n",
       "    </tr>\n",
       "  </tbody>\n",
       "</table>\n",
       "</div>"
      ],
      "text/plain": [
       "   Index                                              Title  \\\n",
       "0      0  1 BHK Ready to Occupy Flat for sale in Srushti...   \n",
       "1      1  2 BHK Ready to Occupy Flat for sale in Dosti V...   \n",
       "3      3        1 BHK Ready to Occupy Flat for sale Kasheli   \n",
       "5      5  1 BHK Ready to Occupy Flat for sale in Virat A...   \n",
       "6      6         1 BHK Ready to Occupy Flat for sale Mumbra   \n",
       "\n",
       "                                         Description  Amount(in rupees)  \\\n",
       "0  Bhiwandi, Thane has an attractive 1 BHK Flat f...           420000.0   \n",
       "1  One can find this stunning 2 BHK flat for sale...           980000.0   \n",
       "3  This beautiful 1 BHK Flat is available for sal...           250000.0   \n",
       "5  Creatively planned and constructed is a 1 BHK ...           450000.0   \n",
       "6  This magnificent 1 BHK Flat is available for s...           165000.0   \n",
       "\n",
       "   Price (in rupees) location  Floor Transaction      Furnishing  Bathroom  \\\n",
       "0        6000.000000    thane     10      Resale     Unfurnished         1   \n",
       "1       13799.000000    thane      3      Resale  Semi-Furnished         2   \n",
       "3        7592.314973    thane      1      Resale     Unfurnished         1   \n",
       "5        6618.000000    thane      2      Resale     Unfurnished         1   \n",
       "6        2538.000000    thane      4      Resale     Unfurnished         1   \n",
       "\n",
       "   Balcony             Ownership Super Area  Dimensions  Plot Area  BHK  \n",
       "0        2                   NaN        NaN         NaN        NaN    1  \n",
       "1        2              Freehold        NaN         NaN        NaN    2  \n",
       "3        1                   NaN        NaN         NaN        NaN    1  \n",
       "5        1  Co-operative Society   680 sqft         NaN        NaN    1  \n",
       "6        2                   NaN        NaN         NaN        NaN    1  "
      ]
     },
     "execution_count": 146,
     "metadata": {},
     "output_type": "execute_result"
    }
   ],
   "source": [
    "df.head()"
   ]
  },
  {
   "cell_type": "code",
   "execution_count": 147,
   "id": "d60b55cb",
   "metadata": {},
   "outputs": [
    {
     "data": {
      "text/plain": [
       "53300"
      ]
     },
     "execution_count": 147,
     "metadata": {},
     "output_type": "execute_result"
    }
   ],
   "source": [
    "df['Ownership'].isnull().sum()"
   ]
  },
  {
   "cell_type": "code",
   "execution_count": 148,
   "id": "3780778c",
   "metadata": {},
   "outputs": [
    {
     "data": {
      "text/plain": [
       "Freehold                99760\n",
       "Leasehold                4974\n",
       "Co-operative Society     3026\n",
       "Power Of Attorney         969\n",
       "Name: Ownership, dtype: int64"
      ]
     },
     "execution_count": 148,
     "metadata": {},
     "output_type": "execute_result"
    }
   ],
   "source": [
    "df['Ownership'].value_counts()"
   ]
  },
  {
   "cell_type": "code",
   "execution_count": 149,
   "id": "e607f5c4",
   "metadata": {},
   "outputs": [],
   "source": [
    "df.drop(columns=['Ownership'],axis=1,inplace=True)"
   ]
  },
  {
   "cell_type": "code",
   "execution_count": 150,
   "id": "b11a1a7d",
   "metadata": {},
   "outputs": [
    {
     "data": {
      "text/html": [
       "<div>\n",
       "<style scoped>\n",
       "    .dataframe tbody tr th:only-of-type {\n",
       "        vertical-align: middle;\n",
       "    }\n",
       "\n",
       "    .dataframe tbody tr th {\n",
       "        vertical-align: top;\n",
       "    }\n",
       "\n",
       "    .dataframe thead th {\n",
       "        text-align: right;\n",
       "    }\n",
       "</style>\n",
       "<table border=\"1\" class=\"dataframe\">\n",
       "  <thead>\n",
       "    <tr style=\"text-align: right;\">\n",
       "      <th></th>\n",
       "      <th>Index</th>\n",
       "      <th>Title</th>\n",
       "      <th>Description</th>\n",
       "      <th>Amount(in rupees)</th>\n",
       "      <th>Price (in rupees)</th>\n",
       "      <th>location</th>\n",
       "      <th>Floor</th>\n",
       "      <th>Transaction</th>\n",
       "      <th>Furnishing</th>\n",
       "      <th>Bathroom</th>\n",
       "      <th>Balcony</th>\n",
       "      <th>Super Area</th>\n",
       "      <th>Dimensions</th>\n",
       "      <th>Plot Area</th>\n",
       "      <th>BHK</th>\n",
       "    </tr>\n",
       "  </thead>\n",
       "  <tbody>\n",
       "    <tr>\n",
       "      <th>0</th>\n",
       "      <td>0</td>\n",
       "      <td>1 BHK Ready to Occupy Flat for sale in Srushti...</td>\n",
       "      <td>Bhiwandi, Thane has an attractive 1 BHK Flat f...</td>\n",
       "      <td>420000.0</td>\n",
       "      <td>6000.000000</td>\n",
       "      <td>thane</td>\n",
       "      <td>10</td>\n",
       "      <td>Resale</td>\n",
       "      <td>Unfurnished</td>\n",
       "      <td>1</td>\n",
       "      <td>2</td>\n",
       "      <td>NaN</td>\n",
       "      <td>NaN</td>\n",
       "      <td>NaN</td>\n",
       "      <td>1</td>\n",
       "    </tr>\n",
       "    <tr>\n",
       "      <th>1</th>\n",
       "      <td>1</td>\n",
       "      <td>2 BHK Ready to Occupy Flat for sale in Dosti V...</td>\n",
       "      <td>One can find this stunning 2 BHK flat for sale...</td>\n",
       "      <td>980000.0</td>\n",
       "      <td>13799.000000</td>\n",
       "      <td>thane</td>\n",
       "      <td>3</td>\n",
       "      <td>Resale</td>\n",
       "      <td>Semi-Furnished</td>\n",
       "      <td>2</td>\n",
       "      <td>2</td>\n",
       "      <td>NaN</td>\n",
       "      <td>NaN</td>\n",
       "      <td>NaN</td>\n",
       "      <td>2</td>\n",
       "    </tr>\n",
       "    <tr>\n",
       "      <th>3</th>\n",
       "      <td>3</td>\n",
       "      <td>1 BHK Ready to Occupy Flat for sale Kasheli</td>\n",
       "      <td>This beautiful 1 BHK Flat is available for sal...</td>\n",
       "      <td>250000.0</td>\n",
       "      <td>7592.314973</td>\n",
       "      <td>thane</td>\n",
       "      <td>1</td>\n",
       "      <td>Resale</td>\n",
       "      <td>Unfurnished</td>\n",
       "      <td>1</td>\n",
       "      <td>1</td>\n",
       "      <td>NaN</td>\n",
       "      <td>NaN</td>\n",
       "      <td>NaN</td>\n",
       "      <td>1</td>\n",
       "    </tr>\n",
       "    <tr>\n",
       "      <th>5</th>\n",
       "      <td>5</td>\n",
       "      <td>1 BHK Ready to Occupy Flat for sale in Virat A...</td>\n",
       "      <td>Creatively planned and constructed is a 1 BHK ...</td>\n",
       "      <td>450000.0</td>\n",
       "      <td>6618.000000</td>\n",
       "      <td>thane</td>\n",
       "      <td>2</td>\n",
       "      <td>Resale</td>\n",
       "      <td>Unfurnished</td>\n",
       "      <td>1</td>\n",
       "      <td>1</td>\n",
       "      <td>680 sqft</td>\n",
       "      <td>NaN</td>\n",
       "      <td>NaN</td>\n",
       "      <td>1</td>\n",
       "    </tr>\n",
       "    <tr>\n",
       "      <th>6</th>\n",
       "      <td>6</td>\n",
       "      <td>1 BHK Ready to Occupy Flat for sale Mumbra</td>\n",
       "      <td>This magnificent 1 BHK Flat is available for s...</td>\n",
       "      <td>165000.0</td>\n",
       "      <td>2538.000000</td>\n",
       "      <td>thane</td>\n",
       "      <td>4</td>\n",
       "      <td>Resale</td>\n",
       "      <td>Unfurnished</td>\n",
       "      <td>1</td>\n",
       "      <td>2</td>\n",
       "      <td>NaN</td>\n",
       "      <td>NaN</td>\n",
       "      <td>NaN</td>\n",
       "      <td>1</td>\n",
       "    </tr>\n",
       "  </tbody>\n",
       "</table>\n",
       "</div>"
      ],
      "text/plain": [
       "   Index                                              Title  \\\n",
       "0      0  1 BHK Ready to Occupy Flat for sale in Srushti...   \n",
       "1      1  2 BHK Ready to Occupy Flat for sale in Dosti V...   \n",
       "3      3        1 BHK Ready to Occupy Flat for sale Kasheli   \n",
       "5      5  1 BHK Ready to Occupy Flat for sale in Virat A...   \n",
       "6      6         1 BHK Ready to Occupy Flat for sale Mumbra   \n",
       "\n",
       "                                         Description  Amount(in rupees)  \\\n",
       "0  Bhiwandi, Thane has an attractive 1 BHK Flat f...           420000.0   \n",
       "1  One can find this stunning 2 BHK flat for sale...           980000.0   \n",
       "3  This beautiful 1 BHK Flat is available for sal...           250000.0   \n",
       "5  Creatively planned and constructed is a 1 BHK ...           450000.0   \n",
       "6  This magnificent 1 BHK Flat is available for s...           165000.0   \n",
       "\n",
       "   Price (in rupees) location  Floor Transaction      Furnishing  Bathroom  \\\n",
       "0        6000.000000    thane     10      Resale     Unfurnished         1   \n",
       "1       13799.000000    thane      3      Resale  Semi-Furnished         2   \n",
       "3        7592.314973    thane      1      Resale     Unfurnished         1   \n",
       "5        6618.000000    thane      2      Resale     Unfurnished         1   \n",
       "6        2538.000000    thane      4      Resale     Unfurnished         1   \n",
       "\n",
       "   Balcony Super Area  Dimensions  Plot Area  BHK  \n",
       "0        2        NaN         NaN        NaN    1  \n",
       "1        2        NaN         NaN        NaN    2  \n",
       "3        1        NaN         NaN        NaN    1  \n",
       "5        1   680 sqft         NaN        NaN    1  \n",
       "6        2        NaN         NaN        NaN    1  "
      ]
     },
     "execution_count": 150,
     "metadata": {},
     "output_type": "execute_result"
    }
   ],
   "source": [
    "df.head()"
   ]
  },
  {
   "cell_type": "code",
   "execution_count": 151,
   "id": "a0a4ab11",
   "metadata": {},
   "outputs": [
    {
     "data": {
      "text/plain": [
       "95660"
      ]
     },
     "execution_count": 151,
     "metadata": {},
     "output_type": "execute_result"
    }
   ],
   "source": [
    "df['Super Area'].isnull().sum()"
   ]
  },
  {
   "cell_type": "code",
   "execution_count": 152,
   "id": "72726d6a",
   "metadata": {},
   "outputs": [],
   "source": [
    "df.drop(columns=['Super Area'],axis=1,inplace=True)"
   ]
  },
  {
   "cell_type": "code",
   "execution_count": 153,
   "id": "106cf98b",
   "metadata": {},
   "outputs": [
    {
     "data": {
      "text/html": [
       "<div>\n",
       "<style scoped>\n",
       "    .dataframe tbody tr th:only-of-type {\n",
       "        vertical-align: middle;\n",
       "    }\n",
       "\n",
       "    .dataframe tbody tr th {\n",
       "        vertical-align: top;\n",
       "    }\n",
       "\n",
       "    .dataframe thead th {\n",
       "        text-align: right;\n",
       "    }\n",
       "</style>\n",
       "<table border=\"1\" class=\"dataframe\">\n",
       "  <thead>\n",
       "    <tr style=\"text-align: right;\">\n",
       "      <th></th>\n",
       "      <th>Index</th>\n",
       "      <th>Title</th>\n",
       "      <th>Description</th>\n",
       "      <th>Amount(in rupees)</th>\n",
       "      <th>Price (in rupees)</th>\n",
       "      <th>location</th>\n",
       "      <th>Floor</th>\n",
       "      <th>Transaction</th>\n",
       "      <th>Furnishing</th>\n",
       "      <th>Bathroom</th>\n",
       "      <th>Balcony</th>\n",
       "      <th>Dimensions</th>\n",
       "      <th>Plot Area</th>\n",
       "      <th>BHK</th>\n",
       "    </tr>\n",
       "  </thead>\n",
       "  <tbody>\n",
       "    <tr>\n",
       "      <th>0</th>\n",
       "      <td>0</td>\n",
       "      <td>1 BHK Ready to Occupy Flat for sale in Srushti...</td>\n",
       "      <td>Bhiwandi, Thane has an attractive 1 BHK Flat f...</td>\n",
       "      <td>420000.0</td>\n",
       "      <td>6000.000000</td>\n",
       "      <td>thane</td>\n",
       "      <td>10</td>\n",
       "      <td>Resale</td>\n",
       "      <td>Unfurnished</td>\n",
       "      <td>1</td>\n",
       "      <td>2</td>\n",
       "      <td>NaN</td>\n",
       "      <td>NaN</td>\n",
       "      <td>1</td>\n",
       "    </tr>\n",
       "    <tr>\n",
       "      <th>1</th>\n",
       "      <td>1</td>\n",
       "      <td>2 BHK Ready to Occupy Flat for sale in Dosti V...</td>\n",
       "      <td>One can find this stunning 2 BHK flat for sale...</td>\n",
       "      <td>980000.0</td>\n",
       "      <td>13799.000000</td>\n",
       "      <td>thane</td>\n",
       "      <td>3</td>\n",
       "      <td>Resale</td>\n",
       "      <td>Semi-Furnished</td>\n",
       "      <td>2</td>\n",
       "      <td>2</td>\n",
       "      <td>NaN</td>\n",
       "      <td>NaN</td>\n",
       "      <td>2</td>\n",
       "    </tr>\n",
       "    <tr>\n",
       "      <th>3</th>\n",
       "      <td>3</td>\n",
       "      <td>1 BHK Ready to Occupy Flat for sale Kasheli</td>\n",
       "      <td>This beautiful 1 BHK Flat is available for sal...</td>\n",
       "      <td>250000.0</td>\n",
       "      <td>7592.314973</td>\n",
       "      <td>thane</td>\n",
       "      <td>1</td>\n",
       "      <td>Resale</td>\n",
       "      <td>Unfurnished</td>\n",
       "      <td>1</td>\n",
       "      <td>1</td>\n",
       "      <td>NaN</td>\n",
       "      <td>NaN</td>\n",
       "      <td>1</td>\n",
       "    </tr>\n",
       "    <tr>\n",
       "      <th>5</th>\n",
       "      <td>5</td>\n",
       "      <td>1 BHK Ready to Occupy Flat for sale in Virat A...</td>\n",
       "      <td>Creatively planned and constructed is a 1 BHK ...</td>\n",
       "      <td>450000.0</td>\n",
       "      <td>6618.000000</td>\n",
       "      <td>thane</td>\n",
       "      <td>2</td>\n",
       "      <td>Resale</td>\n",
       "      <td>Unfurnished</td>\n",
       "      <td>1</td>\n",
       "      <td>1</td>\n",
       "      <td>NaN</td>\n",
       "      <td>NaN</td>\n",
       "      <td>1</td>\n",
       "    </tr>\n",
       "    <tr>\n",
       "      <th>6</th>\n",
       "      <td>6</td>\n",
       "      <td>1 BHK Ready to Occupy Flat for sale Mumbra</td>\n",
       "      <td>This magnificent 1 BHK Flat is available for s...</td>\n",
       "      <td>165000.0</td>\n",
       "      <td>2538.000000</td>\n",
       "      <td>thane</td>\n",
       "      <td>4</td>\n",
       "      <td>Resale</td>\n",
       "      <td>Unfurnished</td>\n",
       "      <td>1</td>\n",
       "      <td>2</td>\n",
       "      <td>NaN</td>\n",
       "      <td>NaN</td>\n",
       "      <td>1</td>\n",
       "    </tr>\n",
       "  </tbody>\n",
       "</table>\n",
       "</div>"
      ],
      "text/plain": [
       "   Index                                              Title  \\\n",
       "0      0  1 BHK Ready to Occupy Flat for sale in Srushti...   \n",
       "1      1  2 BHK Ready to Occupy Flat for sale in Dosti V...   \n",
       "3      3        1 BHK Ready to Occupy Flat for sale Kasheli   \n",
       "5      5  1 BHK Ready to Occupy Flat for sale in Virat A...   \n",
       "6      6         1 BHK Ready to Occupy Flat for sale Mumbra   \n",
       "\n",
       "                                         Description  Amount(in rupees)  \\\n",
       "0  Bhiwandi, Thane has an attractive 1 BHK Flat f...           420000.0   \n",
       "1  One can find this stunning 2 BHK flat for sale...           980000.0   \n",
       "3  This beautiful 1 BHK Flat is available for sal...           250000.0   \n",
       "5  Creatively planned and constructed is a 1 BHK ...           450000.0   \n",
       "6  This magnificent 1 BHK Flat is available for s...           165000.0   \n",
       "\n",
       "   Price (in rupees) location  Floor Transaction      Furnishing  Bathroom  \\\n",
       "0        6000.000000    thane     10      Resale     Unfurnished         1   \n",
       "1       13799.000000    thane      3      Resale  Semi-Furnished         2   \n",
       "3        7592.314973    thane      1      Resale     Unfurnished         1   \n",
       "5        6618.000000    thane      2      Resale     Unfurnished         1   \n",
       "6        2538.000000    thane      4      Resale     Unfurnished         1   \n",
       "\n",
       "   Balcony  Dimensions  Plot Area  BHK  \n",
       "0        2         NaN        NaN    1  \n",
       "1        2         NaN        NaN    2  \n",
       "3        1         NaN        NaN    1  \n",
       "5        1         NaN        NaN    1  \n",
       "6        2         NaN        NaN    1  "
      ]
     },
     "execution_count": 153,
     "metadata": {},
     "output_type": "execute_result"
    }
   ],
   "source": [
    "df.head()"
   ]
  },
  {
   "cell_type": "code",
   "execution_count": 154,
   "id": "ff88917f",
   "metadata": {},
   "outputs": [
    {
     "data": {
      "text/plain": [
       "162029"
      ]
     },
     "execution_count": 154,
     "metadata": {},
     "output_type": "execute_result"
    }
   ],
   "source": [
    "df['Dimensions'].isnull().sum()"
   ]
  },
  {
   "cell_type": "code",
   "execution_count": 155,
   "id": "dd5935cf",
   "metadata": {},
   "outputs": [
    {
     "data": {
      "text/plain": [
       "162029"
      ]
     },
     "execution_count": 155,
     "metadata": {},
     "output_type": "execute_result"
    }
   ],
   "source": [
    "df['Plot Area'].isnull().sum()"
   ]
  },
  {
   "cell_type": "code",
   "execution_count": 156,
   "id": "b91cbed7",
   "metadata": {},
   "outputs": [],
   "source": [
    "df.drop(columns=['Dimensions','Plot Area'],axis=1,inplace=True)"
   ]
  },
  {
   "cell_type": "code",
   "execution_count": 157,
   "id": "0a52066e",
   "metadata": {},
   "outputs": [
    {
     "data": {
      "text/html": [
       "<div>\n",
       "<style scoped>\n",
       "    .dataframe tbody tr th:only-of-type {\n",
       "        vertical-align: middle;\n",
       "    }\n",
       "\n",
       "    .dataframe tbody tr th {\n",
       "        vertical-align: top;\n",
       "    }\n",
       "\n",
       "    .dataframe thead th {\n",
       "        text-align: right;\n",
       "    }\n",
       "</style>\n",
       "<table border=\"1\" class=\"dataframe\">\n",
       "  <thead>\n",
       "    <tr style=\"text-align: right;\">\n",
       "      <th></th>\n",
       "      <th>Index</th>\n",
       "      <th>Title</th>\n",
       "      <th>Description</th>\n",
       "      <th>Amount(in rupees)</th>\n",
       "      <th>Price (in rupees)</th>\n",
       "      <th>location</th>\n",
       "      <th>Floor</th>\n",
       "      <th>Transaction</th>\n",
       "      <th>Furnishing</th>\n",
       "      <th>Bathroom</th>\n",
       "      <th>Balcony</th>\n",
       "      <th>BHK</th>\n",
       "    </tr>\n",
       "  </thead>\n",
       "  <tbody>\n",
       "    <tr>\n",
       "      <th>0</th>\n",
       "      <td>0</td>\n",
       "      <td>1 BHK Ready to Occupy Flat for sale in Srushti...</td>\n",
       "      <td>Bhiwandi, Thane has an attractive 1 BHK Flat f...</td>\n",
       "      <td>420000.0</td>\n",
       "      <td>6000.000000</td>\n",
       "      <td>thane</td>\n",
       "      <td>10</td>\n",
       "      <td>Resale</td>\n",
       "      <td>Unfurnished</td>\n",
       "      <td>1</td>\n",
       "      <td>2</td>\n",
       "      <td>1</td>\n",
       "    </tr>\n",
       "    <tr>\n",
       "      <th>1</th>\n",
       "      <td>1</td>\n",
       "      <td>2 BHK Ready to Occupy Flat for sale in Dosti V...</td>\n",
       "      <td>One can find this stunning 2 BHK flat for sale...</td>\n",
       "      <td>980000.0</td>\n",
       "      <td>13799.000000</td>\n",
       "      <td>thane</td>\n",
       "      <td>3</td>\n",
       "      <td>Resale</td>\n",
       "      <td>Semi-Furnished</td>\n",
       "      <td>2</td>\n",
       "      <td>2</td>\n",
       "      <td>2</td>\n",
       "    </tr>\n",
       "    <tr>\n",
       "      <th>3</th>\n",
       "      <td>3</td>\n",
       "      <td>1 BHK Ready to Occupy Flat for sale Kasheli</td>\n",
       "      <td>This beautiful 1 BHK Flat is available for sal...</td>\n",
       "      <td>250000.0</td>\n",
       "      <td>7592.314973</td>\n",
       "      <td>thane</td>\n",
       "      <td>1</td>\n",
       "      <td>Resale</td>\n",
       "      <td>Unfurnished</td>\n",
       "      <td>1</td>\n",
       "      <td>1</td>\n",
       "      <td>1</td>\n",
       "    </tr>\n",
       "    <tr>\n",
       "      <th>5</th>\n",
       "      <td>5</td>\n",
       "      <td>1 BHK Ready to Occupy Flat for sale in Virat A...</td>\n",
       "      <td>Creatively planned and constructed is a 1 BHK ...</td>\n",
       "      <td>450000.0</td>\n",
       "      <td>6618.000000</td>\n",
       "      <td>thane</td>\n",
       "      <td>2</td>\n",
       "      <td>Resale</td>\n",
       "      <td>Unfurnished</td>\n",
       "      <td>1</td>\n",
       "      <td>1</td>\n",
       "      <td>1</td>\n",
       "    </tr>\n",
       "    <tr>\n",
       "      <th>6</th>\n",
       "      <td>6</td>\n",
       "      <td>1 BHK Ready to Occupy Flat for sale Mumbra</td>\n",
       "      <td>This magnificent 1 BHK Flat is available for s...</td>\n",
       "      <td>165000.0</td>\n",
       "      <td>2538.000000</td>\n",
       "      <td>thane</td>\n",
       "      <td>4</td>\n",
       "      <td>Resale</td>\n",
       "      <td>Unfurnished</td>\n",
       "      <td>1</td>\n",
       "      <td>2</td>\n",
       "      <td>1</td>\n",
       "    </tr>\n",
       "  </tbody>\n",
       "</table>\n",
       "</div>"
      ],
      "text/plain": [
       "   Index                                              Title  \\\n",
       "0      0  1 BHK Ready to Occupy Flat for sale in Srushti...   \n",
       "1      1  2 BHK Ready to Occupy Flat for sale in Dosti V...   \n",
       "3      3        1 BHK Ready to Occupy Flat for sale Kasheli   \n",
       "5      5  1 BHK Ready to Occupy Flat for sale in Virat A...   \n",
       "6      6         1 BHK Ready to Occupy Flat for sale Mumbra   \n",
       "\n",
       "                                         Description  Amount(in rupees)  \\\n",
       "0  Bhiwandi, Thane has an attractive 1 BHK Flat f...           420000.0   \n",
       "1  One can find this stunning 2 BHK flat for sale...           980000.0   \n",
       "3  This beautiful 1 BHK Flat is available for sal...           250000.0   \n",
       "5  Creatively planned and constructed is a 1 BHK ...           450000.0   \n",
       "6  This magnificent 1 BHK Flat is available for s...           165000.0   \n",
       "\n",
       "   Price (in rupees) location  Floor Transaction      Furnishing  Bathroom  \\\n",
       "0        6000.000000    thane     10      Resale     Unfurnished         1   \n",
       "1       13799.000000    thane      3      Resale  Semi-Furnished         2   \n",
       "3        7592.314973    thane      1      Resale     Unfurnished         1   \n",
       "5        6618.000000    thane      2      Resale     Unfurnished         1   \n",
       "6        2538.000000    thane      4      Resale     Unfurnished         1   \n",
       "\n",
       "   Balcony  BHK  \n",
       "0        2    1  \n",
       "1        2    2  \n",
       "3        1    1  \n",
       "5        1    1  \n",
       "6        2    1  "
      ]
     },
     "execution_count": 157,
     "metadata": {},
     "output_type": "execute_result"
    }
   ],
   "source": [
    "df.head()"
   ]
  },
  {
   "cell_type": "code",
   "execution_count": 158,
   "id": "f4303877",
   "metadata": {},
   "outputs": [],
   "source": [
    "df.drop(columns=['Index','Title','Description'],axis=1,inplace=True)"
   ]
  },
  {
   "cell_type": "code",
   "execution_count": 159,
   "id": "fb0abb0d",
   "metadata": {},
   "outputs": [
    {
     "data": {
      "text/html": [
       "<div>\n",
       "<style scoped>\n",
       "    .dataframe tbody tr th:only-of-type {\n",
       "        vertical-align: middle;\n",
       "    }\n",
       "\n",
       "    .dataframe tbody tr th {\n",
       "        vertical-align: top;\n",
       "    }\n",
       "\n",
       "    .dataframe thead th {\n",
       "        text-align: right;\n",
       "    }\n",
       "</style>\n",
       "<table border=\"1\" class=\"dataframe\">\n",
       "  <thead>\n",
       "    <tr style=\"text-align: right;\">\n",
       "      <th></th>\n",
       "      <th>Amount(in rupees)</th>\n",
       "      <th>Price (in rupees)</th>\n",
       "      <th>location</th>\n",
       "      <th>Floor</th>\n",
       "      <th>Transaction</th>\n",
       "      <th>Furnishing</th>\n",
       "      <th>Bathroom</th>\n",
       "      <th>Balcony</th>\n",
       "      <th>BHK</th>\n",
       "    </tr>\n",
       "  </thead>\n",
       "  <tbody>\n",
       "    <tr>\n",
       "      <th>0</th>\n",
       "      <td>420000.0</td>\n",
       "      <td>6000.000000</td>\n",
       "      <td>thane</td>\n",
       "      <td>10</td>\n",
       "      <td>Resale</td>\n",
       "      <td>Unfurnished</td>\n",
       "      <td>1</td>\n",
       "      <td>2</td>\n",
       "      <td>1</td>\n",
       "    </tr>\n",
       "    <tr>\n",
       "      <th>1</th>\n",
       "      <td>980000.0</td>\n",
       "      <td>13799.000000</td>\n",
       "      <td>thane</td>\n",
       "      <td>3</td>\n",
       "      <td>Resale</td>\n",
       "      <td>Semi-Furnished</td>\n",
       "      <td>2</td>\n",
       "      <td>2</td>\n",
       "      <td>2</td>\n",
       "    </tr>\n",
       "    <tr>\n",
       "      <th>3</th>\n",
       "      <td>250000.0</td>\n",
       "      <td>7592.314973</td>\n",
       "      <td>thane</td>\n",
       "      <td>1</td>\n",
       "      <td>Resale</td>\n",
       "      <td>Unfurnished</td>\n",
       "      <td>1</td>\n",
       "      <td>1</td>\n",
       "      <td>1</td>\n",
       "    </tr>\n",
       "    <tr>\n",
       "      <th>5</th>\n",
       "      <td>450000.0</td>\n",
       "      <td>6618.000000</td>\n",
       "      <td>thane</td>\n",
       "      <td>2</td>\n",
       "      <td>Resale</td>\n",
       "      <td>Unfurnished</td>\n",
       "      <td>1</td>\n",
       "      <td>1</td>\n",
       "      <td>1</td>\n",
       "    </tr>\n",
       "    <tr>\n",
       "      <th>6</th>\n",
       "      <td>165000.0</td>\n",
       "      <td>2538.000000</td>\n",
       "      <td>thane</td>\n",
       "      <td>4</td>\n",
       "      <td>Resale</td>\n",
       "      <td>Unfurnished</td>\n",
       "      <td>1</td>\n",
       "      <td>2</td>\n",
       "      <td>1</td>\n",
       "    </tr>\n",
       "  </tbody>\n",
       "</table>\n",
       "</div>"
      ],
      "text/plain": [
       "   Amount(in rupees)  Price (in rupees) location  Floor Transaction  \\\n",
       "0           420000.0        6000.000000    thane     10      Resale   \n",
       "1           980000.0       13799.000000    thane      3      Resale   \n",
       "3           250000.0        7592.314973    thane      1      Resale   \n",
       "5           450000.0        6618.000000    thane      2      Resale   \n",
       "6           165000.0        2538.000000    thane      4      Resale   \n",
       "\n",
       "       Furnishing  Bathroom  Balcony  BHK  \n",
       "0     Unfurnished         1        2    1  \n",
       "1  Semi-Furnished         2        2    2  \n",
       "3     Unfurnished         1        1    1  \n",
       "5     Unfurnished         1        1    1  \n",
       "6     Unfurnished         1        2    1  "
      ]
     },
     "execution_count": 159,
     "metadata": {},
     "output_type": "execute_result"
    }
   ],
   "source": [
    "df.head()"
   ]
  },
  {
   "cell_type": "code",
   "execution_count": 160,
   "id": "f1360037",
   "metadata": {},
   "outputs": [
    {
     "name": "stdout",
     "output_type": "stream",
     "text": [
      "<class 'pandas.core.frame.DataFrame'>\n",
      "Int64Index: 162029 entries, 0 to 187530\n",
      "Data columns (total 9 columns):\n",
      " #   Column             Non-Null Count   Dtype  \n",
      "---  ------             --------------   -----  \n",
      " 0   Amount(in rupees)  162029 non-null  float64\n",
      " 1   Price (in rupees)  162029 non-null  float64\n",
      " 2   location           162029 non-null  object \n",
      " 3   Floor              162029 non-null  int32  \n",
      " 4   Transaction        162029 non-null  object \n",
      " 5   Furnishing         162029 non-null  object \n",
      " 6   Bathroom           162029 non-null  int32  \n",
      " 7   Balcony            162029 non-null  int32  \n",
      " 8   BHK                162029 non-null  int32  \n",
      "dtypes: float64(2), int32(4), object(3)\n",
      "memory usage: 9.9+ MB\n"
     ]
    }
   ],
   "source": [
    "df.info()"
   ]
  },
  {
   "cell_type": "code",
   "execution_count": 161,
   "id": "11c7de5b",
   "metadata": {},
   "outputs": [
    {
     "data": {
      "text/plain": [
       "Amount(in rupees)    0\n",
       "Price (in rupees)    0\n",
       "location             0\n",
       "Floor                0\n",
       "Transaction          0\n",
       "Furnishing           0\n",
       "Bathroom             0\n",
       "Balcony              0\n",
       "BHK                  0\n",
       "dtype: int64"
      ]
     },
     "execution_count": 161,
     "metadata": {},
     "output_type": "execute_result"
    }
   ],
   "source": [
    "df.isnull().sum()"
   ]
  },
  {
   "cell_type": "code",
   "execution_count": 162,
   "id": "2c335aa9",
   "metadata": {},
   "outputs": [
    {
     "data": {
      "text/plain": [
       "(162029, 9)"
      ]
     },
     "execution_count": 162,
     "metadata": {},
     "output_type": "execute_result"
    }
   ],
   "source": [
    "df.shape"
   ]
  },
  {
   "cell_type": "code",
   "execution_count": 163,
   "id": "d7311027",
   "metadata": {},
   "outputs": [],
   "source": [
    "numeric_columns=[]\n",
    "for i in df.columns:\n",
    "    if df[i].dtype!='object':\n",
    "        numeric_columns.append(i)"
   ]
  },
  {
   "cell_type": "code",
   "execution_count": 164,
   "id": "72e956ac",
   "metadata": {},
   "outputs": [
    {
     "data": {
      "text/plain": [
       "['Amount(in rupees)',\n",
       " 'Price (in rupees)',\n",
       " 'Floor',\n",
       " 'Bathroom',\n",
       " 'Balcony',\n",
       " 'BHK']"
      ]
     },
     "execution_count": 164,
     "metadata": {},
     "output_type": "execute_result"
    }
   ],
   "source": [
    "numeric_columns"
   ]
  },
  {
   "cell_type": "code",
   "execution_count": 165,
   "id": "7fff4147",
   "metadata": {},
   "outputs": [
    {
     "data": {
      "image/png": "[encoded data removed]",
      "text/plain": [
       "<Figure size 1080x936 with 6 Axes>"
      ]
     },
     "metadata": {
      "needs_background": "light"
     },
     "output_type": "display_data"
    }
   ],
   "source": [
    "df[numeric_columns].hist(figsize=(15,13),bins=30)\n",
    "plt.show()"
   ]
  },
  {
   "cell_type": "code",
   "execution_count": 166,
   "id": "112fdb72",
   "metadata": {},
   "outputs": [],
   "source": [
    "cols=['Floor','Bathroom','Balcony','BHK']"
   ]
  },
  {
   "cell_type": "code",
   "execution_count": 167,
   "id": "190ebc84",
   "metadata": {},
   "outputs": [
    {
     "data": {
      "image/png": "[encoded data removed]",
      "text/plain": [
       "<Figure size 1080x504 with 1 Axes>"
      ]
     },
     "metadata": {
      "needs_background": "light"
     },
     "output_type": "display_data"
    },
    {
     "data": {
      "image/png": "[encoded data removed]",
      "text/plain": [
       "<Figure size 1080x504 with 1 Axes>"
      ]
     },
     "metadata": {
      "needs_background": "light"
     },
     "output_type": "display_data"
    },
    {
     "data": {
      "image/png": "[encoded data removed]",
      "text/plain": [
       "<Figure size 1080x504 with 1 Axes>"
      ]
     },
     "metadata": {
      "needs_background": "light"
     },
     "output_type": "display_data"
    },
    {
     "data": {
      "image/png": "[encoded data removed]",
      "text/plain": [
       "<Figure size 1080x504 with 1 Axes>"
      ]
     },
     "metadata": {
      "needs_background": "light"
     },
     "output_type": "display_data"
    }
   ],
   "source": [
    "for i in cols:\n",
    "    plt.figure(figsize=(15,7))\n",
    "    sns.barplot(data=df,x=i,y='Price (in rupees)')\n",
    "    plt.show()"
   ]
  },
  {
   "cell_type": "code",
   "execution_count": 168,
   "id": "7d80532a",
   "metadata": {
    "scrolled": false
   },
   "outputs": [
    {
     "data": {
      "image/png": "[encoded data removed]",
      "text/plain": [
       "<Figure size 648x504 with 1 Axes>"
      ]
     },
     "metadata": {
      "needs_background": "light"
     },
     "output_type": "display_data"
    },
    {
     "data": {
      "image/png": "[encoded data removed]",
      "text/plain": [
       "<Figure size 648x504 with 1 Axes>"
      ]
     },
     "metadata": {
      "needs_background": "light"
     },
     "output_type": "display_data"
    },
    {
     "data": {
      "image/png": "[encoded data removed]",
      "text/plain": [
       "<Figure size 648x504 with 1 Axes>"
      ]
     },
     "metadata": {
      "needs_background": "light"
     },
     "output_type": "display_data"
    },
    {
     "data": {
      "image/png": "[encoded data removed]",
      "text/plain": [
       "<Figure size 648x504 with 1 Axes>"
      ]
     },
     "metadata": {
      "needs_background": "light"
     },
     "output_type": "display_data"
    },
    {
     "data": {
      "image/png": "[encoded data removed]",
      "text/plain": [
       "<Figure size 648x504 with 1 Axes>"
      ]
     },
     "metadata": {
      "needs_background": "light"
     },
     "output_type": "display_data"
    },
    {
     "data": {
      "image/png": "[encoded data removed]",
      "text/plain": [
       "<Figure size 648x504 with 1 Axes>"
      ]
     },
     "metadata": {
      "needs_background": "light"
     },
     "output_type": "display_data"
    }
   ],
   "source": [
    "for i in numeric_columns:\n",
    "    plt.figure(figsize=(9,7))\n",
    "    sns.distplot(df[i],color='green')\n",
    "    plt.show()"
   ]
  },
  {
   "cell_type": "code",
   "execution_count": 169,
   "id": "15ad68ae",
   "metadata": {},
   "outputs": [
    {
     "name": "stdout",
     "output_type": "stream",
     "text": [
      "There are outliers in Amount(in rupees)\n",
      "Count of outliers are:  6775\n",
      "There are outliers in Price (in rupees)\n",
      "Count of outliers are:  7563\n",
      "There are outliers in Floor\n",
      "Count of outliers are:  10073\n",
      "There are outliers in Bathroom\n",
      "Count of outliers are:  3272\n",
      "There are outliers in Balcony\n",
      "Count of outliers are:  9844\n",
      "There are outliers in BHK\n",
      "Count of outliers are:  1060\n"
     ]
    }
   ],
   "source": [
    "def count_outliers(data,col):\n",
    "    q1=data[col].quantile(0.25,interpolation='nearest')\n",
    "    q2=data[col].quantile(0.5,interpolation='nearest')\n",
    "    q3=data[col].quantile(0.75,interpolation='nearest')\n",
    "    q4=data[col].quantile(1,interpolation='nearest')\n",
    "    IQR=q3-q1\n",
    "    global LLP\n",
    "    global ULP\n",
    "    LLP=q1-1.5*IQR\n",
    "    ULP=q3+1.5*IQR\n",
    "    if data[col].min()>LLP and data[col].max()<ULP:\n",
    "        print('No outliers in',i)\n",
    "    else:\n",
    "        print('There are outliers in',i)\n",
    "        x=data[data[col]<LLP][col].size\n",
    "        y=data[data[col]>ULP][col].size\n",
    "        a.append(i)\n",
    "        print('Count of outliers are: ',x+y)\n",
    "global a\n",
    "a=[]\n",
    "for i in numeric_columns:\n",
    "    count_outliers(df,i)"
   ]
  },
  {
   "cell_type": "code",
   "execution_count": 170,
   "id": "616c4cdc",
   "metadata": {
    "scrolled": false
   },
   "outputs": [
    {
     "data": {
      "image/png": "[encoded data removed]",
      "text/plain": [
       "<Figure size 648x504 with 1 Axes>"
      ]
     },
     "metadata": {
      "needs_background": "light"
     },
     "output_type": "display_data"
    },
    {
     "data": {
      "image/png": "[encoded data removed]",
      "text/plain": [
       "<Figure size 648x504 with 1 Axes>"
      ]
     },
     "metadata": {
      "needs_background": "light"
     },
     "output_type": "display_data"
    },
    {
     "data": {
      "image/png": "[encoded data removed]",
      "text/plain": [
       "<Figure size 648x504 with 1 Axes>"
      ]
     },
     "metadata": {
      "needs_background": "light"
     },
     "output_type": "display_data"
    },
    {
     "data": {
      "image/png": "[encoded data removed]",
      "text/plain": [
       "<Figure size 648x504 with 1 Axes>"
      ]
     },
     "metadata": {
      "needs_background": "light"
     },
     "output_type": "display_data"
    },
    {
     "data": {
      "image/png": "[encoded data removed]",
      "text/plain": [
       "<Figure size 648x504 with 1 Axes>"
      ]
     },
     "metadata": {
      "needs_background": "light"
     },
     "output_type": "display_data"
    },
    {
     "data": {
      "image/png": "[encoded data removed]",
      "text/plain": [
       "<Figure size 648x504 with 1 Axes>"
      ]
     },
     "metadata": {
      "needs_background": "light"
     },
     "output_type": "display_data"
    }
   ],
   "source": [
    "for i in numeric_columns:\n",
    "    plt.figure(figsize=(9,7))\n",
    "    sns.boxplot(data=df,y=i)\n",
    "    plt.show()"
   ]
  },
  {
   "cell_type": "code",
   "execution_count": 171,
   "id": "c94dbea8",
   "metadata": {},
   "outputs": [
    {
     "data": {
      "text/plain": [
       "8932116.386572774"
      ]
     },
     "execution_count": 171,
     "metadata": {},
     "output_type": "execute_result"
    }
   ],
   "source": [
    "df['Amount(in rupees)'].mean()"
   ]
  },
  {
   "cell_type": "code",
   "execution_count": 172,
   "id": "acb0e52f",
   "metadata": {},
   "outputs": [
    {
     "data": {
      "text/plain": [
       "(7390, 9)"
      ]
     },
     "execution_count": 172,
     "metadata": {},
     "output_type": "execute_result"
    }
   ],
   "source": [
    "df[df['Amount(in rupees)']>35000000].shape"
   ]
  },
  {
   "cell_type": "code",
   "execution_count": 173,
   "id": "97e820e3",
   "metadata": {},
   "outputs": [],
   "source": [
    "df=df[df['Amount(in rupees)']<35000000]"
   ]
  },
  {
   "cell_type": "code",
   "execution_count": 174,
   "id": "ca11618f",
   "metadata": {},
   "outputs": [
    {
     "data": {
      "text/plain": [
       "6995.75466876032"
      ]
     },
     "execution_count": 174,
     "metadata": {},
     "output_type": "execute_result"
    }
   ],
   "source": [
    "df['Price (in rupees)'].mean()"
   ]
  },
  {
   "cell_type": "code",
   "execution_count": 175,
   "id": "9fa34afe",
   "metadata": {},
   "outputs": [
    {
     "data": {
      "text/plain": [
       "(5033, 9)"
      ]
     },
     "execution_count": 175,
     "metadata": {},
     "output_type": "execute_result"
    }
   ],
   "source": [
    "df[df['Price (in rupees)']>15000].shape"
   ]
  },
  {
   "cell_type": "code",
   "execution_count": 176,
   "id": "f4c2d462",
   "metadata": {},
   "outputs": [],
   "source": [
    "df=df[df['Price (in rupees)']<15000]"
   ]
  },
  {
   "cell_type": "code",
   "execution_count": 177,
   "id": "ce00068a",
   "metadata": {},
   "outputs": [
    {
     "data": {
      "text/plain": [
       "(10823, 9)"
      ]
     },
     "execution_count": 177,
     "metadata": {},
     "output_type": "execute_result"
    }
   ],
   "source": [
    "df[df['Floor']>11].shape"
   ]
  },
  {
   "cell_type": "code",
   "execution_count": 178,
   "id": "d13cffea",
   "metadata": {},
   "outputs": [],
   "source": [
    "df=df[df['Floor']<11]"
   ]
  },
  {
   "cell_type": "code",
   "execution_count": 179,
   "id": "cf7ba659",
   "metadata": {},
   "outputs": [
    {
     "data": {
      "text/plain": [
       "(702, 9)"
      ]
     },
     "execution_count": 179,
     "metadata": {},
     "output_type": "execute_result"
    }
   ],
   "source": [
    "df[df['Bathroom']>4].shape"
   ]
  },
  {
   "cell_type": "code",
   "execution_count": 180,
   "id": "e2763dda",
   "metadata": {},
   "outputs": [],
   "source": [
    "df=df[df['Bathroom']<4]"
   ]
  },
  {
   "cell_type": "code",
   "execution_count": 181,
   "id": "42a8a658",
   "metadata": {},
   "outputs": [
    {
     "data": {
      "text/plain": [
       "(32, 9)"
      ]
     },
     "execution_count": 181,
     "metadata": {},
     "output_type": "execute_result"
    }
   ],
   "source": [
    "df[df['Balcony']>5].shape"
   ]
  },
  {
   "cell_type": "code",
   "execution_count": 182,
   "id": "77c54523",
   "metadata": {},
   "outputs": [],
   "source": [
    "df=df[df['Balcony']<5]"
   ]
  },
  {
   "cell_type": "code",
   "execution_count": 183,
   "id": "442aaad9",
   "metadata": {},
   "outputs": [
    {
     "data": {
      "text/plain": [
       "(33, 9)"
      ]
     },
     "execution_count": 183,
     "metadata": {},
     "output_type": "execute_result"
    }
   ],
   "source": [
    "df[df['BHK']>4.5].shape"
   ]
  },
  {
   "cell_type": "code",
   "execution_count": 184,
   "id": "46c08b1e",
   "metadata": {},
   "outputs": [],
   "source": [
    "df=df[df['BHK']<4.5]"
   ]
  },
  {
   "cell_type": "code",
   "execution_count": 185,
   "id": "b36c6aa8",
   "metadata": {
    "scrolled": false
   },
   "outputs": [
    {
     "data": {
      "image/png": "[encoded data removed]",
      "text/plain": [
       "<Figure size 648x504 with 1 Axes>"
      ]
     },
     "metadata": {
      "needs_background": "light"
     },
     "output_type": "display_data"
    },
    {
     "data": {
      "image/png": "[encoded data removed]",
      "text/plain": [
       "<Figure size 648x504 with 1 Axes>"
      ]
     },
     "metadata": {
      "needs_background": "light"
     },
     "output_type": "display_data"
    },
    {
     "data": {
      "image/png": "[encoded data removed]",
      "text/plain": [
       "<Figure size 648x504 with 1 Axes>"
      ]
     },
     "metadata": {
      "needs_background": "light"
     },
     "output_type": "display_data"
    },
    {
     "data": {
      "image/png": "[encoded data removed]",
      "text/plain": [
       "<Figure size 648x504 with 1 Axes>"
      ]
     },
     "metadata": {
      "needs_background": "light"
     },
     "output_type": "display_data"
    },
    {
     "data": {
      "image/png": "[encoded data removed]",
      "text/plain": [
       "<Figure size 648x504 with 1 Axes>"
      ]
     },
     "metadata": {
      "needs_background": "light"
     },
     "output_type": "display_data"
    },
    {
     "data": {
      "image/png": "[encoded data removed]",
      "text/plain": [
       "<Figure size 648x504 with 1 Axes>"
      ]
     },
     "metadata": {
      "needs_background": "light"
     },
     "output_type": "display_data"
    }
   ],
   "source": [
    "for i in numeric_columns:\n",
    "    plt.figure(figsize=(9,7))\n",
    "    sns.boxplot(data=df,y=i)\n",
    "    plt.show()"
   ]
  },
  {
   "cell_type": "code",
   "execution_count": 186,
   "id": "e65e77ab",
   "metadata": {},
   "outputs": [
    {
     "data": {
      "text/plain": [
       "(126276, 9)"
      ]
     },
     "execution_count": 186,
     "metadata": {},
     "output_type": "execute_result"
    }
   ],
   "source": [
    "df.shape"
   ]
  },
  {
   "cell_type": "code",
   "execution_count": 187,
   "id": "d20388f7",
   "metadata": {},
   "outputs": [
    {
     "data": {
      "text/plain": [
       "(3005, 9)"
      ]
     },
     "execution_count": 187,
     "metadata": {},
     "output_type": "execute_result"
    }
   ],
   "source": [
    "df[df['Amount(in rupees)']>24000000].shape"
   ]
  },
  {
   "cell_type": "code",
   "execution_count": 188,
   "id": "0d59c0b5",
   "metadata": {},
   "outputs": [],
   "source": [
    "df=df[df['Amount(in rupees)']<24000000]"
   ]
  },
  {
   "cell_type": "code",
   "execution_count": 189,
   "id": "ada816c7",
   "metadata": {},
   "outputs": [
    {
     "data": {
      "text/plain": [
       "(4318, 9)"
      ]
     },
     "execution_count": 189,
     "metadata": {},
     "output_type": "execute_result"
    }
   ],
   "source": [
    "df[df['Price (in rupees)']>12500].shape"
   ]
  },
  {
   "cell_type": "code",
   "execution_count": 190,
   "id": "baac6083",
   "metadata": {},
   "outputs": [],
   "source": [
    "df=df[df['Price (in rupees)']<12500]"
   ]
  },
  {
   "cell_type": "code",
   "execution_count": 191,
   "id": "ac239dc0",
   "metadata": {},
   "outputs": [
    {
     "data": {
      "image/png": "[encoded data removed]",
      "text/plain": [
       "<Figure size 648x504 with 1 Axes>"
      ]
     },
     "metadata": {
      "needs_background": "light"
     },
     "output_type": "display_data"
    }
   ],
   "source": [
    "plt.figure(figsize=(9,7))\n",
    "sns.distplot(df['Amount(in rupees)'],color='green')\n",
    "plt.show()"
   ]
  },
  {
   "cell_type": "code",
   "execution_count": 192,
   "id": "b692d8b9",
   "metadata": {},
   "outputs": [
    {
     "data": {
      "image/png": "[encoded data removed]",
      "text/plain": [
       "<Figure size 648x504 with 1 Axes>"
      ]
     },
     "metadata": {
      "needs_background": "light"
     },
     "output_type": "display_data"
    }
   ],
   "source": [
    "plt.figure(figsize=(9,7))\n",
    "sns.boxplot(df['Amount(in rupees)'])\n",
    "plt.show()"
   ]
  },
  {
   "cell_type": "code",
   "execution_count": 193,
   "id": "fe68b868",
   "metadata": {},
   "outputs": [
    {
     "data": {
      "text/plain": [
       "(29217, 9)"
      ]
     },
     "execution_count": 193,
     "metadata": {},
     "output_type": "execute_result"
    }
   ],
   "source": [
    "df[df['Amount(in rupees)']>900000].shape"
   ]
  },
  {
   "cell_type": "code",
   "execution_count": 194,
   "id": "cd233992",
   "metadata": {},
   "outputs": [],
   "source": [
    "df=df[df['Amount(in rupees)']<900000]"
   ]
  },
  {
   "cell_type": "code",
   "execution_count": 195,
   "id": "a8b9f171",
   "metadata": {},
   "outputs": [
    {
     "data": {
      "image/png": "[encoded data removed]",
      "text/plain": [
       "<Figure size 648x504 with 1 Axes>"
      ]
     },
     "metadata": {
      "needs_background": "light"
     },
     "output_type": "display_data"
    }
   ],
   "source": [
    "plt.figure(figsize=(9,7))\n",
    "sns.boxplot(df['Amount(in rupees)'])\n",
    "plt.show()"
   ]
  },
  {
   "cell_type": "code",
   "execution_count": 196,
   "id": "fdecd750",
   "metadata": {},
   "outputs": [
    {
     "data": {
      "image/png": "[encoded data removed]",
      "text/plain": [
       "<Figure size 648x504 with 1 Axes>"
      ]
     },
     "metadata": {
      "needs_background": "light"
     },
     "output_type": "display_data"
    }
   ],
   "source": [
    "plt.figure(figsize=(9,7))\n",
    "sns.boxplot(data=df,y='Price (in rupees)')\n",
    "plt.show()"
   ]
  },
  {
   "cell_type": "code",
   "execution_count": 197,
   "id": "d48f4556",
   "metadata": {},
   "outputs": [
    {
     "data": {
      "text/plain": [
       "(1794, 9)"
      ]
     },
     "execution_count": 197,
     "metadata": {},
     "output_type": "execute_result"
    }
   ],
   "source": [
    "df[df['Price (in rupees)']>9500].shape"
   ]
  },
  {
   "cell_type": "code",
   "execution_count": 198,
   "id": "6786aa46",
   "metadata": {},
   "outputs": [],
   "source": [
    "df=df[df['Price (in rupees)']<9500]"
   ]
  },
  {
   "cell_type": "code",
   "execution_count": 199,
   "id": "b41e2a95",
   "metadata": {},
   "outputs": [
    {
     "data": {
      "text/plain": [
       "(13, 9)"
      ]
     },
     "execution_count": 199,
     "metadata": {},
     "output_type": "execute_result"
    }
   ],
   "source": [
    "df[df['Price (in rupees)']<200].shape"
   ]
  },
  {
   "cell_type": "code",
   "execution_count": 200,
   "id": "ec278a4a",
   "metadata": {},
   "outputs": [],
   "source": [
    "df=df[df['Price (in rupees)']>200]"
   ]
  },
  {
   "cell_type": "code",
   "execution_count": 201,
   "id": "074c7aa7",
   "metadata": {},
   "outputs": [
    {
     "data": {
      "text/plain": [
       "(85346, 9)"
      ]
     },
     "execution_count": 201,
     "metadata": {},
     "output_type": "execute_result"
    }
   ],
   "source": [
    "df.shape"
   ]
  },
  {
   "cell_type": "code",
   "execution_count": 202,
   "id": "cc9db1b2",
   "metadata": {},
   "outputs": [
    {
     "data": {
      "image/png": "[encoded data removed]",
      "text/plain": [
       "<Figure size 648x504 with 1 Axes>"
      ]
     },
     "metadata": {
      "needs_background": "light"
     },
     "output_type": "display_data"
    }
   ],
   "source": [
    "plt.figure(figsize=(9,7))\n",
    "sns.distplot(df['Amount(in rupees)'],color='green')\n",
    "plt.show()"
   ]
  },
  {
   "cell_type": "code",
   "execution_count": 203,
   "id": "3091a1ee",
   "metadata": {},
   "outputs": [
    {
     "data": {
      "image/png": "[encoded data removed]",
      "text/plain": [
       "<Figure size 648x504 with 1 Axes>"
      ]
     },
     "metadata": {
      "needs_background": "light"
     },
     "output_type": "display_data"
    }
   ],
   "source": [
    "plt.figure(figsize=(9,7))\n",
    "sns.distplot(df['Price (in rupees)'],color='green')\n",
    "plt.show()"
   ]
  },
  {
   "cell_type": "code",
   "execution_count": 204,
   "id": "42f71783",
   "metadata": {},
   "outputs": [
    {
     "data": {
      "image/png": "[encoded data removed]",
      "text/plain": [
       "<Figure size 648x504 with 2 Axes>"
      ]
     },
     "metadata": {
      "needs_background": "light"
     },
     "output_type": "display_data"
    }
   ],
   "source": [
    "plt.figure(figsize=(9,7))\n",
    "sns.heatmap(df.corr(numeric_only=True),annot=True,square=True,cbar=True,annot_kws={'size':15},fmt='.2',cmap='Blues')\n",
    "plt.show()"
   ]
  },
  {
   "cell_type": "code",
   "execution_count": 205,
   "id": "7c389cae",
   "metadata": {},
   "outputs": [],
   "source": [
    "X=df.drop(columns=['Price (in rupees)'],axis=1)\n",
    "y=df['Price (in rupees)']"
   ]
  },
  {
   "cell_type": "code",
   "execution_count": 206,
   "id": "39ee697c",
   "metadata": {},
   "outputs": [],
   "source": [
    "X_train,X_test,y_train,y_test=train_test_split(X,y,test_size=0.2,random_state=42)"
   ]
  },
  {
   "cell_type": "code",
   "execution_count": 207,
   "id": "e419b28c",
   "metadata": {},
   "outputs": [
    {
     "data": {
      "text/plain": [
       "68276"
      ]
     },
     "execution_count": 207,
     "metadata": {},
     "output_type": "execute_result"
    }
   ],
   "source": [
    "len(X_train)"
   ]
  },
  {
   "cell_type": "code",
   "execution_count": 208,
   "id": "6546e5d2",
   "metadata": {},
   "outputs": [
    {
     "data": {
      "text/plain": [
       "17070"
      ]
     },
     "execution_count": 208,
     "metadata": {},
     "output_type": "execute_result"
    }
   ],
   "source": [
    "len(X_test)"
   ]
  },
  {
   "cell_type": "code",
   "execution_count": 209,
   "id": "bf3e00a4",
   "metadata": {},
   "outputs": [
    {
     "data": {
      "text/html": [
       "<div>\n",
       "<style scoped>\n",
       "    .dataframe tbody tr th:only-of-type {\n",
       "        vertical-align: middle;\n",
       "    }\n",
       "\n",
       "    .dataframe tbody tr th {\n",
       "        vertical-align: top;\n",
       "    }\n",
       "\n",
       "    .dataframe thead th {\n",
       "        text-align: right;\n",
       "    }\n",
       "</style>\n",
       "<table border=\"1\" class=\"dataframe\">\n",
       "  <thead>\n",
       "    <tr style=\"text-align: right;\">\n",
       "      <th></th>\n",
       "      <th>Amount(in rupees)</th>\n",
       "      <th>location</th>\n",
       "      <th>Floor</th>\n",
       "      <th>Transaction</th>\n",
       "      <th>Furnishing</th>\n",
       "      <th>Bathroom</th>\n",
       "      <th>Balcony</th>\n",
       "      <th>BHK</th>\n",
       "    </tr>\n",
       "  </thead>\n",
       "  <tbody>\n",
       "    <tr>\n",
       "      <th>47434</th>\n",
       "      <td>581000.0</td>\n",
       "      <td>chennai</td>\n",
       "      <td>2</td>\n",
       "      <td>New Property</td>\n",
       "      <td>Unfurnished</td>\n",
       "      <td>2</td>\n",
       "      <td>1</td>\n",
       "      <td>2</td>\n",
       "    </tr>\n",
       "    <tr>\n",
       "      <th>103325</th>\n",
       "      <td>250000.0</td>\n",
       "      <td>kolkata</td>\n",
       "      <td>0</td>\n",
       "      <td>Resale</td>\n",
       "      <td>Unfurnished</td>\n",
       "      <td>2</td>\n",
       "      <td>1</td>\n",
       "      <td>2</td>\n",
       "    </tr>\n",
       "    <tr>\n",
       "      <th>127172</th>\n",
       "      <td>165000.0</td>\n",
       "      <td>new-delhi</td>\n",
       "      <td>3</td>\n",
       "      <td>Resale</td>\n",
       "      <td>Unfurnished</td>\n",
       "      <td>1</td>\n",
       "      <td>1</td>\n",
       "      <td>1</td>\n",
       "    </tr>\n",
       "    <tr>\n",
       "      <th>13654</th>\n",
       "      <td>370000.0</td>\n",
       "      <td>ahmedabad</td>\n",
       "      <td>5</td>\n",
       "      <td>Resale</td>\n",
       "      <td>Unfurnished</td>\n",
       "      <td>2</td>\n",
       "      <td>2</td>\n",
       "      <td>2</td>\n",
       "    </tr>\n",
       "    <tr>\n",
       "      <th>151857</th>\n",
       "      <td>750000.0</td>\n",
       "      <td>chandigarh</td>\n",
       "      <td>8</td>\n",
       "      <td>Resale</td>\n",
       "      <td>Unfurnished</td>\n",
       "      <td>3</td>\n",
       "      <td>3</td>\n",
       "      <td>3</td>\n",
       "    </tr>\n",
       "    <tr>\n",
       "      <th>...</th>\n",
       "      <td>...</td>\n",
       "      <td>...</td>\n",
       "      <td>...</td>\n",
       "      <td>...</td>\n",
       "      <td>...</td>\n",
       "      <td>...</td>\n",
       "      <td>...</td>\n",
       "      <td>...</td>\n",
       "    </tr>\n",
       "    <tr>\n",
       "      <th>12874</th>\n",
       "      <td>370000.0</td>\n",
       "      <td>ahmedabad</td>\n",
       "      <td>5</td>\n",
       "      <td>Resale</td>\n",
       "      <td>Unfurnished</td>\n",
       "      <td>2</td>\n",
       "      <td>2</td>\n",
       "      <td>2</td>\n",
       "    </tr>\n",
       "    <tr>\n",
       "      <th>113553</th>\n",
       "      <td>600000.0</td>\n",
       "      <td>lucknow</td>\n",
       "      <td>0</td>\n",
       "      <td>Resale</td>\n",
       "      <td>Semi-Furnished</td>\n",
       "      <td>3</td>\n",
       "      <td>3</td>\n",
       "      <td>3</td>\n",
       "    </tr>\n",
       "    <tr>\n",
       "      <th>173987</th>\n",
       "      <td>875000.0</td>\n",
       "      <td>patna</td>\n",
       "      <td>4</td>\n",
       "      <td>New Property</td>\n",
       "      <td>Unfurnished</td>\n",
       "      <td>2</td>\n",
       "      <td>2</td>\n",
       "      <td>2</td>\n",
       "    </tr>\n",
       "    <tr>\n",
       "      <th>2682</th>\n",
       "      <td>450000.0</td>\n",
       "      <td>ahmedabad</td>\n",
       "      <td>2</td>\n",
       "      <td>Resale</td>\n",
       "      <td>Furnished</td>\n",
       "      <td>2</td>\n",
       "      <td>1</td>\n",
       "      <td>2</td>\n",
       "    </tr>\n",
       "    <tr>\n",
       "      <th>28874</th>\n",
       "      <td>580000.0</td>\n",
       "      <td>bangalore</td>\n",
       "      <td>2</td>\n",
       "      <td>New Property</td>\n",
       "      <td>Unfurnished</td>\n",
       "      <td>2</td>\n",
       "      <td>2</td>\n",
       "      <td>2</td>\n",
       "    </tr>\n",
       "  </tbody>\n",
       "</table>\n",
       "<p>68276 rows × 8 columns</p>\n",
       "</div>"
      ],
      "text/plain": [
       "        Amount(in rupees)    location  Floor   Transaction      Furnishing  \\\n",
       "47434            581000.0     chennai      2  New Property     Unfurnished   \n",
       "103325           250000.0     kolkata      0        Resale     Unfurnished   \n",
       "127172           165000.0   new-delhi      3        Resale     Unfurnished   \n",
       "13654            370000.0   ahmedabad      5        Resale     Unfurnished   \n",
       "151857           750000.0  chandigarh      8        Resale     Unfurnished   \n",
       "...                   ...         ...    ...           ...             ...   \n",
       "12874            370000.0   ahmedabad      5        Resale     Unfurnished   \n",
       "113553           600000.0     lucknow      0        Resale  Semi-Furnished   \n",
       "173987           875000.0       patna      4  New Property     Unfurnished   \n",
       "2682             450000.0   ahmedabad      2        Resale       Furnished   \n",
       "28874            580000.0   bangalore      2  New Property     Unfurnished   \n",
       "\n",
       "        Bathroom  Balcony  BHK  \n",
       "47434          2        1    2  \n",
       "103325         2        1    2  \n",
       "127172         1        1    1  \n",
       "13654          2        2    2  \n",
       "151857         3        3    3  \n",
       "...          ...      ...  ...  \n",
       "12874          2        2    2  \n",
       "113553         3        3    3  \n",
       "173987         2        2    2  \n",
       "2682           2        1    2  \n",
       "28874          2        2    2  \n",
       "\n",
       "[68276 rows x 8 columns]"
      ]
     },
     "execution_count": 209,
     "metadata": {},
     "output_type": "execute_result"
    }
   ],
   "source": [
    "X_train"
   ]
  },
  {
   "cell_type": "code",
   "execution_count": 210,
   "id": "9cf5809f",
   "metadata": {},
   "outputs": [
    {
     "data": {
      "text/plain": [
       "47434     6300.000000\n",
       "103325    7592.314973\n",
       "127172    4074.000000\n",
       "13654     3575.000000\n",
       "151857    4259.000000\n",
       "             ...     \n",
       "12874     3575.000000\n",
       "113553    3371.000000\n",
       "173987    7292.000000\n",
       "2682      4167.000000\n",
       "28874     5472.000000\n",
       "Name: Price (in rupees), Length: 68276, dtype: float64"
      ]
     },
     "execution_count": 210,
     "metadata": {},
     "output_type": "execute_result"
    }
   ],
   "source": [
    "y_train"
   ]
  },
  {
   "cell_type": "code",
   "execution_count": 211,
   "id": "45af3602",
   "metadata": {},
   "outputs": [],
   "source": [
    "transformer_list=[('encode',OneHotEncoder(sparse=False,drop='first'),[1,3,4]),\n",
    "                 ('scale',StandardScaler(),[0,2,5,6,7])]"
   ]
  },
  {
   "cell_type": "code",
   "execution_count": 340,
   "id": "e0d254f7",
   "metadata": {},
   "outputs": [
    {
     "name": "stdout",
     "output_type": "stream",
     "text": [
      "R2 Score is:  0.8105378873844269\n",
      "Mean Absolute Error is:  257.3793660223187\n",
      "RMSE:  617.8741139724107\n"
     ]
    }
   ],
   "source": [
    "step1=ColumnTransformer(transformer_list,remainder='passthrough')\n",
    "rf=RandomForestRegressor(n_estimators=150,max_depth=30,min_samples_split=4,max_features=0.5)\n",
    "xgb=XGBRegressor(max_depth=9)\n",
    "et=ExtraTreesRegressor(max_depth=30,min_samples_split=4,max_features=0.5)\n",
    "step2=VotingRegressor([('rf',rf),('xgb',xgb),('et',et)],weights=[1,1,5])\n",
    "pipe=Pipeline([\n",
    "    ('step1',step1),\n",
    "    ('step2',step2)\n",
    "])\n",
    "pipe.fit(X_train,y_train)\n",
    "y_pred=pipe.predict(X_test)\n",
    "print('R2 Score is: ',r2_score(y_pred,y_test))\n",
    "print('Mean Absolute Error is: ',mean_absolute_error(y_pred,y_test))\n",
    "print('RMSE: ',np.sqrt(mean_squared_error(y_pred,y_test)))"
   ]
  },
  {
   "cell_type": "code",
   "execution_count": 344,
   "id": "f31372a7",
   "metadata": {},
   "outputs": [],
   "source": [
    "pickle.dump(df,open('df1.pkl','wb'))\n",
    "pickle.dump(pipe,open('pipe1.pkl','wb'))"
   ]
  }
 ],
 "metadata": {
  "kernelspec": {
   "display_name": "Python 3 (ipykernel)",
   "language": "python",
   "name": "python3"
  },
  "language_info": {
   "codemirror_mode": {
    "name": "ipython",
    "version": 3
   },
   "file_extension": ".py",
   "mimetype": "text/x-python",
   "name": "python",
   "nbconvert_exporter": "python",
   "pygments_lexer": "ipython3",
   "version": "3.10.5"
  }
 },
 "nbformat": 4,
 "nbformat_minor": 5
}
